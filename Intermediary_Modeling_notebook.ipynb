{
  "nbformat": 4,
  "nbformat_minor": 0,
  "metadata": {
    "colab": {
      "provenance": [],
      "toc_visible": true
    },
    "kernelspec": {
      "name": "python3",
      "display_name": "Python 3"
    },
    "language_info": {
      "name": "python"
    }
  },
  "cells": [
    {
      "cell_type": "code",
      "execution_count": 103,
      "metadata": {
        "id": "Xo94kLOu-w90"
      },
      "outputs": [],
      "source": [
        "## Import required packages for data manipulation and visualization, and curve fitting\n",
        "\n",
        "import pandas as pd\n",
        "import numpy as np\n",
        "import matplotlib.pyplot as plt\n",
        "import seaborn as sns\n",
        "import scipy.stats\n",
        "try:\n",
        "  from fitter import Fitter, get_common_distributions, get_distributions\n",
        "except:\n",
        "  !pip install fitter\n",
        "  from fitter import Fitter, get_common_distributions, get_distributions\n",
        "from sklearn.svm import SVR, SVC\n",
        "from sklearn.preprocessing import MinMaxScaler\n",
        "from imblearn.over_sampling import SMOTE\n",
        "from sklearn.decomposition import PCA\n",
        "\n",
        "from sklearn.metrics import make_scorer\n",
        "from sklearn.model_selection import cross_val_score\n",
        "from sklearn.model_selection import StratifiedKFold\n"
      ]
    },
    {
      "cell_type": "markdown",
      "source": [
        "# Pre-Processing"
      ],
      "metadata": {
        "id": "bnGZ0_oD-zmA"
      }
    },
    {
      "cell_type": "markdown",
      "source": [
        "## Set up"
      ],
      "metadata": {
        "id": "cP0xYejF-1zp"
      }
    },
    {
      "cell_type": "code",
      "source": [
        "#load in the data\n",
        "import sys\n",
        "from google.colab import drive\n",
        "\n",
        "## Import required packages for data manipulation and visualization, and curve fitting\n",
        "import pandas as pd\n",
        "import numpy as np\n",
        "import matplotlib.pyplot as plt\n",
        "import seaborn as sns\n",
        "import scipy.stats\n",
        "try:\n",
        "  from fitter import Fitter, get_common_distributions, get_distributions\n",
        "except:\n",
        "  !pip install fitter\n",
        "  from fitter import Fitter, get_common_distributions, get_distributions\n",
        "\n",
        "#Fitter doc\n",
        "#https://medium.com/the-researchers-guide/finding-the-best-distribution-that-fits-your-data-using-pythons-fitter-library-319a5a0972e9"
      ],
      "metadata": {
        "id": "T7Cprkd0-z29"
      },
      "execution_count": 104,
      "outputs": []
    },
    {
      "cell_type": "code",
      "source": [
        "drive.mount('/content/drive')"
      ],
      "metadata": {
        "colab": {
          "base_uri": "https://localhost:8080/"
        },
        "id": "S5gFSLl2-4ow",
        "outputId": "1b308723-5436-4b16-b536-bdc65a526d8b"
      },
      "execution_count": 105,
      "outputs": [
        {
          "output_type": "stream",
          "name": "stdout",
          "text": [
            "Drive already mounted at /content/drive; to attempt to forcibly remount, call drive.mount(\"/content/drive\", force_remount=True).\n"
          ]
        }
      ]
    },
    {
      "cell_type": "code",
      "source": [
        "train_data = pd.read_csv('/content/drive/MyDrive/Capstone/ICR - Identifying Age-Related Conditions/data/train.csv', index_col='Id')\n",
        "test_data = pd.read_csv('/content/drive/MyDrive/Capstone/ICR - Identifying Age-Related Conditions/data/test.csv', index_col='Id')\n",
        "df_greeks = pd.read_csv('/content/drive/MyDrive/Capstone/ICR - Identifying Age-Related Conditions/data/greeks.csv', index_col='Id')"
      ],
      "metadata": {
        "id": "G645-giI-8t2"
      },
      "execution_count": 106,
      "outputs": []
    },
    {
      "cell_type": "code",
      "source": [
        "df_greeks.head()"
      ],
      "metadata": {
        "colab": {
          "base_uri": "https://localhost:8080/",
          "height": 238
        },
        "id": "6cKjKUctQmE0",
        "outputId": "2e62dd10-35e9-4a2b-b662-b059740e3fa5"
      },
      "execution_count": 107,
      "outputs": [
        {
          "output_type": "execute_result",
          "data": {
            "text/plain": [
              "             Alpha Beta Gamma Delta    Epsilon\n",
              "Id                                            \n",
              "000ff2bfdfe9     B    C     G     D  3/19/2019\n",
              "007255e47698     A    C     M     B    Unknown\n",
              "013f2bd269f5     A    C     M     B    Unknown\n",
              "043ac50845d5     A    C     M     B    Unknown\n",
              "044fb8a146ec     D    B     F     B  3/25/2020"
            ],
            "text/html": [
              "\n",
              "  <div id=\"df-5c030b35-42c0-43e7-8a16-639ff142d10d\">\n",
              "    <div class=\"colab-df-container\">\n",
              "      <div>\n",
              "<style scoped>\n",
              "    .dataframe tbody tr th:only-of-type {\n",
              "        vertical-align: middle;\n",
              "    }\n",
              "\n",
              "    .dataframe tbody tr th {\n",
              "        vertical-align: top;\n",
              "    }\n",
              "\n",
              "    .dataframe thead th {\n",
              "        text-align: right;\n",
              "    }\n",
              "</style>\n",
              "<table border=\"1\" class=\"dataframe\">\n",
              "  <thead>\n",
              "    <tr style=\"text-align: right;\">\n",
              "      <th></th>\n",
              "      <th>Alpha</th>\n",
              "      <th>Beta</th>\n",
              "      <th>Gamma</th>\n",
              "      <th>Delta</th>\n",
              "      <th>Epsilon</th>\n",
              "    </tr>\n",
              "    <tr>\n",
              "      <th>Id</th>\n",
              "      <th></th>\n",
              "      <th></th>\n",
              "      <th></th>\n",
              "      <th></th>\n",
              "      <th></th>\n",
              "    </tr>\n",
              "  </thead>\n",
              "  <tbody>\n",
              "    <tr>\n",
              "      <th>000ff2bfdfe9</th>\n",
              "      <td>B</td>\n",
              "      <td>C</td>\n",
              "      <td>G</td>\n",
              "      <td>D</td>\n",
              "      <td>3/19/2019</td>\n",
              "    </tr>\n",
              "    <tr>\n",
              "      <th>007255e47698</th>\n",
              "      <td>A</td>\n",
              "      <td>C</td>\n",
              "      <td>M</td>\n",
              "      <td>B</td>\n",
              "      <td>Unknown</td>\n",
              "    </tr>\n",
              "    <tr>\n",
              "      <th>013f2bd269f5</th>\n",
              "      <td>A</td>\n",
              "      <td>C</td>\n",
              "      <td>M</td>\n",
              "      <td>B</td>\n",
              "      <td>Unknown</td>\n",
              "    </tr>\n",
              "    <tr>\n",
              "      <th>043ac50845d5</th>\n",
              "      <td>A</td>\n",
              "      <td>C</td>\n",
              "      <td>M</td>\n",
              "      <td>B</td>\n",
              "      <td>Unknown</td>\n",
              "    </tr>\n",
              "    <tr>\n",
              "      <th>044fb8a146ec</th>\n",
              "      <td>D</td>\n",
              "      <td>B</td>\n",
              "      <td>F</td>\n",
              "      <td>B</td>\n",
              "      <td>3/25/2020</td>\n",
              "    </tr>\n",
              "  </tbody>\n",
              "</table>\n",
              "</div>\n",
              "      <button class=\"colab-df-convert\" onclick=\"convertToInteractive('df-5c030b35-42c0-43e7-8a16-639ff142d10d')\"\n",
              "              title=\"Convert this dataframe to an interactive table.\"\n",
              "              style=\"display:none;\">\n",
              "        \n",
              "  <svg xmlns=\"http://www.w3.org/2000/svg\" height=\"24px\"viewBox=\"0 0 24 24\"\n",
              "       width=\"24px\">\n",
              "    <path d=\"M0 0h24v24H0V0z\" fill=\"none\"/>\n",
              "    <path d=\"M18.56 5.44l.94 2.06.94-2.06 2.06-.94-2.06-.94-.94-2.06-.94 2.06-2.06.94zm-11 1L8.5 8.5l.94-2.06 2.06-.94-2.06-.94L8.5 2.5l-.94 2.06-2.06.94zm10 10l.94 2.06.94-2.06 2.06-.94-2.06-.94-.94-2.06-.94 2.06-2.06.94z\"/><path d=\"M17.41 7.96l-1.37-1.37c-.4-.4-.92-.59-1.43-.59-.52 0-1.04.2-1.43.59L10.3 9.45l-7.72 7.72c-.78.78-.78 2.05 0 2.83L4 21.41c.39.39.9.59 1.41.59.51 0 1.02-.2 1.41-.59l7.78-7.78 2.81-2.81c.8-.78.8-2.07 0-2.86zM5.41 20L4 18.59l7.72-7.72 1.47 1.35L5.41 20z\"/>\n",
              "  </svg>\n",
              "      </button>\n",
              "      \n",
              "  <style>\n",
              "    .colab-df-container {\n",
              "      display:flex;\n",
              "      flex-wrap:wrap;\n",
              "      gap: 12px;\n",
              "    }\n",
              "\n",
              "    .colab-df-convert {\n",
              "      background-color: #E8F0FE;\n",
              "      border: none;\n",
              "      border-radius: 50%;\n",
              "      cursor: pointer;\n",
              "      display: none;\n",
              "      fill: #1967D2;\n",
              "      height: 32px;\n",
              "      padding: 0 0 0 0;\n",
              "      width: 32px;\n",
              "    }\n",
              "\n",
              "    .colab-df-convert:hover {\n",
              "      background-color: #E2EBFA;\n",
              "      box-shadow: 0px 1px 2px rgba(60, 64, 67, 0.3), 0px 1px 3px 1px rgba(60, 64, 67, 0.15);\n",
              "      fill: #174EA6;\n",
              "    }\n",
              "\n",
              "    [theme=dark] .colab-df-convert {\n",
              "      background-color: #3B4455;\n",
              "      fill: #D2E3FC;\n",
              "    }\n",
              "\n",
              "    [theme=dark] .colab-df-convert:hover {\n",
              "      background-color: #434B5C;\n",
              "      box-shadow: 0px 1px 3px 1px rgba(0, 0, 0, 0.15);\n",
              "      filter: drop-shadow(0px 1px 2px rgba(0, 0, 0, 0.3));\n",
              "      fill: #FFFFFF;\n",
              "    }\n",
              "  </style>\n",
              "\n",
              "      <script>\n",
              "        const buttonEl =\n",
              "          document.querySelector('#df-5c030b35-42c0-43e7-8a16-639ff142d10d button.colab-df-convert');\n",
              "        buttonEl.style.display =\n",
              "          google.colab.kernel.accessAllowed ? 'block' : 'none';\n",
              "\n",
              "        async function convertToInteractive(key) {\n",
              "          const element = document.querySelector('#df-5c030b35-42c0-43e7-8a16-639ff142d10d');\n",
              "          const dataTable =\n",
              "            await google.colab.kernel.invokeFunction('convertToInteractive',\n",
              "                                                     [key], {});\n",
              "          if (!dataTable) return;\n",
              "\n",
              "          const docLinkHtml = 'Like what you see? Visit the ' +\n",
              "            '<a target=\"_blank\" href=https://colab.research.google.com/notebooks/data_table.ipynb>data table notebook</a>'\n",
              "            + ' to learn more about interactive tables.';\n",
              "          element.innerHTML = '';\n",
              "          dataTable['output_type'] = 'display_data';\n",
              "          await google.colab.output.renderOutput(dataTable, element);\n",
              "          const docLink = document.createElement('div');\n",
              "          docLink.innerHTML = docLinkHtml;\n",
              "          element.appendChild(docLink);\n",
              "        }\n",
              "      </script>\n",
              "    </div>\n",
              "  </div>\n",
              "  "
            ]
          },
          "metadata": {},
          "execution_count": 107
        }
      ]
    },
    {
      "cell_type": "code",
      "source": [
        "def create_class_prob(df):\n",
        "    \"\"\"\n",
        "    Creates a class 0 and 1 probability column from the original Class feature.\n",
        "    \"\"\"\n",
        "    if 'Class' not in df.columns:\n",
        "        return df\n",
        "\n",
        "    df['class_1'] = df['Class']\n",
        "    df['class_0'] = (df['class_1'] - 1) * -1\n",
        "    df = df.drop(['Class'], axis=1)\n",
        "\n",
        "    return df"
      ],
      "metadata": {
        "id": "sMhiL9hDD3gX"
      },
      "execution_count": 108,
      "outputs": []
    },
    {
      "cell_type": "code",
      "source": [
        "def one_hot_encode_feature(df, columns=['EJ']):\n",
        "    \"\"\"\n",
        "    Given dataframe df performs one hot encoding on categorical feature col\n",
        "    \"\"\"\n",
        "    for col in columns:\n",
        "      encoded_feature = pd.get_dummies(df[col], prefix=f'{col}')\n",
        "      df.drop([col], axis=1, inplace=True)\n",
        "      df = df.join(encoded_feature)\n",
        "\n",
        "      if col == 'EJ':\n",
        "        if f'{col}_A' not in df.columns:\n",
        "          df[f'{col}_A'] = 0\n",
        "\n",
        "        if f'{col}_B' not in df.columns:\n",
        "          df[f'{col}_B'] = 0\n",
        "\n",
        "      return df"
      ],
      "metadata": {
        "id": "3ZlqEBJp39rl"
      },
      "execution_count": 109,
      "outputs": []
    },
    {
      "cell_type": "code",
      "source": [
        "def one_hot_encode_feature_greeks(df, columns=['Alpha', 'Beta', 'Gamma', 'Delta']):\n",
        "    \"\"\"\n",
        "    Given dataframe df performs one hot encoding on categorical feature col\n",
        "    \"\"\"\n",
        "    for col in columns:\n",
        "      encoded_feature = pd.get_dummies(df[col], prefix=f'{col}')\n",
        "      df.drop([col], axis=1, inplace=True)\n",
        "      df = df.join(encoded_feature)\n",
        "\n",
        "      if col == 'Alpha':\n",
        "        # ['B' 'A' 'D' 'G']\n",
        "        if f'{col}_A' not in df.columns:\n",
        "          df[f'{col}_A'] = 0\n",
        "\n",
        "        if f'{col}_B' not in df.columns:\n",
        "          df[f'{col}_B'] = 0\n",
        "\n",
        "        if f'{col}_D' not in df.columns:\n",
        "          df[f'{col}_D'] = 0\n",
        "\n",
        "        if f'{col}_G' not in df.columns:\n",
        "          df[f'{col}_G'] = 0\n",
        "\n",
        "      if col == 'Beta':\n",
        "        # ['C' 'B' 'A']\n",
        "        if f'{col}_A' not in df.columns:\n",
        "          df[f'{col}_A'] = 0\n",
        "\n",
        "        if f'{col}_B' not in df.columns:\n",
        "          df[f'{col}_B'] = 0\n",
        "\n",
        "        if f'{col}_C' not in df.columns:\n",
        "          df[f'{col}_C'] = 0\n",
        "\n",
        "      if col == 'Gamma':\n",
        "        # ['G' 'M' 'F' 'N' 'E' 'H' 'A' 'B']\n",
        "\n",
        "        if f'{col}_A' not in df.columns:\n",
        "          df[f'{col}_A'] = 0\n",
        "\n",
        "        if f'{col}_B' not in df.columns:\n",
        "          df[f'{col}_B'] = 0\n",
        "\n",
        "        if f'{col}_E' not in df.columns:\n",
        "            df[f'{col}_E'] = 0\n",
        "\n",
        "        if f'{col}_F' not in df.columns:\n",
        "            df[f'{col}_F'] = 0\n",
        "\n",
        "        if f'{col}_G' not in df.columns:\n",
        "            df[f'{col}_G'] = 0\n",
        "\n",
        "        if f'{col}_H' not in df.columns:\n",
        "            df[f'{col}_H'] = 0\n",
        "\n",
        "        if f'{col}_M' not in df.columns:\n",
        "            df[f'{col}_M'] = 0\n",
        "\n",
        "        if f'{col}_N' not in df.columns:\n",
        "            df[f'{col}_N'] = 0\n",
        "\n",
        "      if col == 'Delta':\n",
        "        # ['D' 'B' 'C' 'A']\n",
        "        if f'{col}_A' not in df.columns:\n",
        "          df[f'{col}_A'] = 0\n",
        "\n",
        "        if f'{col}_B' not in df.columns:\n",
        "          df[f'{col}_B'] = 0\n",
        "\n",
        "        if f'{col}_C' not in df.columns:\n",
        "          df[f'{col}_C'] = 0\n",
        "\n",
        "        if f'{col}_D' not in df.columns:\n",
        "          df[f'{col}_D'] = 0\n",
        "\n",
        "    return df"
      ],
      "metadata": {
        "id": "5uycvdSxD5S7"
      },
      "execution_count": 110,
      "outputs": []
    },
    {
      "cell_type": "code",
      "source": [
        "def add_greeks(array, df_greeks, df_id):\n",
        "    \"\"\"\n",
        "    Given an array, join in the greeks dataframe and one hot encode the greek columns.\n",
        "    \"\"\"\n",
        "    df_temp = pd.DataFrame(array, columns = X_df.columns)\n",
        "    df_temp['Id'] = df_id\n",
        "    #pdb.set_trace()\n",
        "    df_temp = pd.merge(df_temp, df_greeks, on=\"Id\")\n",
        "    df_temp.drop(['Epsilon', 'Id'], axis=1, inplace = True)\n",
        "\n",
        "    df_temp = one_hot_encode_feature_greeks(df_temp)\n",
        "\n",
        "    return df_temp\n"
      ],
      "metadata": {
        "id": "OgG6_Wan5nZ6"
      },
      "execution_count": 111,
      "outputs": []
    },
    {
      "cell_type": "code",
      "source": [
        "def fit_and_sample(data, n_missing):\n",
        "    \"\"\"\n",
        "    Fit a ditribution on the given data and return randomly picked samples/distribution mode\n",
        "    based on the fitted distribution.\n",
        "    \"\"\"\n",
        "    distribution_list = {\n",
        "        'dweibull': scipy.stats.dweibull,\n",
        "        'gengamma': scipy.stats.gengamma,\n",
        "        'chi': scipy.stats.chi\n",
        "    }\n",
        "\n",
        "    if n_missing > 5:\n",
        "        try:\n",
        "            f = Fitter(data, distributions=distribution_list.keys())\n",
        "            f.fit()\n",
        "\n",
        "            # Find the best fitting distribution\n",
        "            best_fit = list(f.get_best().keys())[0]\n",
        "\n",
        "            # Generating values based on probability distribution\n",
        "            high = data.max()\n",
        "            low = data.min()\n",
        "            x = np.linspace(low, high, num=len(data))\n",
        "\n",
        "            dist = distribution_list[best_fit]\n",
        "            samples = dist.rvs(*f.fitted_param[best_fit], size=n_missing)\n",
        "\n",
        "            return samples\n",
        "\n",
        "\n",
        "        except:\n",
        "            distribution = np.histogram(data)\n",
        "            mode = distribution[1][distribution[0].argmax()+1]\n",
        "\n",
        "            return np.array([mode]*n_missing)\n",
        "\n",
        "\n",
        "    else:\n",
        "\n",
        "        distribution = np.histogram(data)\n",
        "        mode = distribution[1][distribution[0].argmax()+1]\n",
        "\n",
        "        return mode"
      ],
      "metadata": {
        "id": "_35Wo3-BD7Rg"
      },
      "execution_count": 112,
      "outputs": []
    },
    {
      "cell_type": "code",
      "source": [
        "def impute_missing_values(df):\n",
        "    \"\"\"\n",
        "    Imputes missing values in the given dataframe df based on a fitted probability distribution.\n",
        "    \"\"\"\n",
        "\n",
        "    for col in df.columns:\n",
        "\n",
        "        if df[col].isna().sum() == 0:\n",
        "\n",
        "            # Pass if the feature column does not contain any missing values\n",
        "            pass\n",
        "\n",
        "\n",
        "        else:\n",
        "\n",
        "            # Fit the feature column values on a list of distributions\n",
        "            df_class_0 = df[df.class_0 == 1][col]\n",
        "            df_class_1 = df[df.class_1 == 1][col]\n",
        "\n",
        "            if df_class_0.isna().sum() != 0:\n",
        "                df.loc[(df[col].isna())&(df.class_0 == 1), col] = \\\n",
        "                    fit_and_sample(df[(df[col].notna())&(df.class_0 == 1)][col], df_class_0.isna().sum())\n",
        "\n",
        "\n",
        "            if df_class_1.isna().sum() != 0:\n",
        "                df.loc[(df[col].isna())&(df.class_1 == 1), col] = \\\n",
        "                    fit_and_sample(df[(df[col].notna())&(df.class_1 == 1)][col], df_class_1.isna().sum())\n",
        "\n",
        "\n",
        "    # Check if any missing values exist\n",
        "    print(f\"Number of missing values: {df.isna().sum().sum()}\")\n",
        "\n",
        "\n",
        "    return df"
      ],
      "metadata": {
        "id": "AaFzftR_D8rn"
      },
      "execution_count": 113,
      "outputs": []
    },
    {
      "cell_type": "code",
      "source": [
        "def get_log_loss(y_true, prob_pred):\n",
        "    \"\"\"\n",
        "    Calculates log loss for two classes (0 & 1).\n",
        "    Parameters:\n",
        "        y_true: True labels array for the classes.\n",
        "        prob_pred: Predicted probability values for the class.\n",
        "    Returns:\n",
        "        Log loss for the input.\n",
        "    \"\"\"\n",
        "\n",
        "    N_0 = (y_true == 0).sum()\n",
        "    N_1 = (y_true == 1).sum()\n",
        "\n",
        "    y_0 = y_true\n",
        "    y_1 = -1 * (y_true - 1)\n",
        "\n",
        "    p_0 = np.log(prob_pred + 0.000001)\n",
        "    p_1 = np.log(1 - prob_pred + 0.000001)\n",
        "\n",
        "\n",
        "    log_loss = ((-1/N_0)*(np.sum(y_0*p_0)) + (-1/N_1)*(np.sum(y_1*p_1)))/2\n",
        "\n",
        "    return log_loss"
      ],
      "metadata": {
        "id": "qr4YMZruD_9h"
      },
      "execution_count": 114,
      "outputs": []
    },
    {
      "cell_type": "code",
      "source": [
        "def oversample_data(X, y):\n",
        "\n",
        "    oversample = SMOTE()\n",
        "\n",
        "    return oversample.fit_resample(X, y)\n",
        "\n",
        "\n",
        "def reduce_dimensions(X, explained_variance = 0.9):\n",
        "    pca = PCA(n_components = explained_variance)\n",
        "    pca.fit(X)\n",
        "\n",
        "    return pca.transform(X), pca"
      ],
      "metadata": {
        "id": "mVWK0ZoPECEd"
      },
      "execution_count": 115,
      "outputs": []
    },
    {
      "cell_type": "markdown",
      "source": [
        "## Pre-process data"
      ],
      "metadata": {
        "id": "5XTbTAqOEEpj"
      }
    },
    {
      "cell_type": "code",
      "source": [
        "train_df = train_data.copy().pipe(one_hot_encode_feature)\\\n",
        "                            .pipe(create_class_prob)\\\n",
        "                            .pipe(impute_missing_values)"
      ],
      "metadata": {
        "colab": {
          "base_uri": "https://localhost:8080/"
        },
        "id": "w6S6i4JR3O3J",
        "outputId": "a58a7f53-efbe-44da-828e-08ed2c2addba"
      },
      "execution_count": 116,
      "outputs": [
        {
          "output_type": "stream",
          "name": "stderr",
          "text": [
            "Fitting 3 distributions: 100%|██████████| 3/3 [00:00<00:00,  6.77it/s]\n",
            "Fitting 3 distributions: 100%|██████████| 3/3 [00:00<00:00,  5.87it/s]\n",
            "Fitting 3 distributions: 100%|██████████| 3/3 [00:00<00:00,  6.51it/s]"
          ]
        },
        {
          "output_type": "stream",
          "name": "stdout",
          "text": [
            "Number of missing values: 0\n"
          ]
        },
        {
          "output_type": "stream",
          "name": "stderr",
          "text": [
            "\n"
          ]
        }
      ]
    },
    {
      "cell_type": "code",
      "source": [
        "test_df = test_data.copy().pipe(one_hot_encode_feature)\\\n",
        "                            .pipe(create_class_prob)\\\n",
        "                            .pipe(impute_missing_values)"
      ],
      "metadata": {
        "colab": {
          "base_uri": "https://localhost:8080/"
        },
        "id": "U1ViAIq2EJN_",
        "outputId": "72733433-5caa-410d-e51a-8ad49006029b"
      },
      "execution_count": 117,
      "outputs": [
        {
          "output_type": "stream",
          "name": "stdout",
          "text": [
            "Number of missing values: 0\n"
          ]
        }
      ]
    },
    {
      "cell_type": "markdown",
      "source": [
        "# Prepare data"
      ],
      "metadata": {
        "id": "kM-rBospEPyE"
      }
    },
    {
      "cell_type": "code",
      "source": [
        "X_df = train_df.drop(['class_0', 'class_1'], axis=1)\n",
        "y = train_df['class_0']"
      ],
      "metadata": {
        "id": "KPyjTfzOEQ1R"
      },
      "execution_count": 118,
      "outputs": []
    },
    {
      "cell_type": "code",
      "source": [
        "## Scaling the features for better optimization process\n",
        "\n",
        "scalar = MinMaxScaler()\n",
        "X = scalar.fit_transform(X_df)\n",
        "X_test = scalar.transform(test_df)"
      ],
      "metadata": {
        "id": "Tg--gsIyESUl"
      },
      "execution_count": 119,
      "outputs": []
    },
    {
      "cell_type": "code",
      "source": [
        "## adding the greeks dataset\n",
        "#need to drop Alpha and then make that the y\n",
        "df_X = add_greeks(X, df_greeks, X_df.reset_index()['Id'])\n",
        "\n",
        "\n",
        "X_df_b = df_X[(df_X['Alpha_B'] == 1) | (df_X['Alpha_A'] == 1)]\n",
        "X_df_g = df_X[(df_X['Alpha_G'] == 1) | (df_X['Alpha_A'] == 1)]\n",
        "X_df_d = df_X[(df_X['Alpha_D'] == 1) | (df_X['Alpha_A'] == 1)]\n",
        "\n",
        "y_alpha_b = X_df_b['Alpha_B']\n",
        "y_alpha_g = X_df_g['Alpha_G']\n",
        "y_alpha_d = X_df_d['Alpha_D']\n",
        "\n",
        "X_df_b = X_df_b.drop(['Alpha_A', 'Alpha_B', 'Alpha_G', 'Alpha_D'], axis=1)\n",
        "X_df_g = X_df_g.drop(['Alpha_A', 'Alpha_B', 'Alpha_G', 'Alpha_D'], axis=1)\n",
        "X_df_d = X_df_d.drop(['Alpha_A', 'Alpha_B', 'Alpha_G', 'Alpha_D'], axis=1)"
      ],
      "metadata": {
        "id": "Q0x57uc5K0Mq"
      },
      "execution_count": 120,
      "outputs": []
    },
    {
      "cell_type": "code",
      "source": [
        "#General Model\n",
        "# X, y = oversample_data(X, y)\n",
        "# print(X.shape, y.shape)\n",
        "\n",
        "# #Sub-models\n",
        "# X_b, y_alpha_b = oversample_data(X_df_b, y_alpha_b)\n",
        "# print(X_b.shape, y_alpha_b.shape)\n",
        "\n",
        "# X_g, y_alpha_g = oversample_data(X_df_g, y_alpha_g)\n",
        "# print(X_b.shape, y_alpha_g.shape)\n",
        "\n",
        "# X_d, y_alpha_d = oversample_data(X_df_d, y_alpha_d)\n",
        "# print(X_b.shape, y_alpha_d.shape)"
      ],
      "metadata": {
        "id": "u47SEbCRE9KY"
      },
      "execution_count": 121,
      "outputs": []
    },
    {
      "cell_type": "code",
      "source": [
        "# fig, axs = plt.subplots(1, 2, figsize=(4, 4))\n",
        "\n",
        "\n",
        "# Before balance Dataset is now balanced\n",
        "print(train_df['class_1'].value_counts())\n",
        "train_df['class_1'].value_counts().plot(kind='bar')\n",
        "plt.xlabel('Class Label')\n",
        "plt.ylabel('Count')\n",
        "plt.title('Class Variable Pre-SMOTE')\n",
        "plt.figsize = (4,4)\n",
        "plt.show()\n",
        "\n",
        "X, y = oversample_data(X, y)\n",
        "# print(X.shape, y.shape)\n",
        "\n",
        "# Dataset is now balanced\n",
        "print(y.value_counts())\n",
        "y.value_counts().plot(kind='bar')\n",
        "plt.xlabel('Class Label')\n",
        "plt.ylabel('Count')\n",
        "plt.title('Class Variable Post-SMOTE')\n",
        "plt.rcParams['figure.figsize'] = [6, 3]\n",
        "# plt.figure(figsize = (1,1))\n",
        "plt.show()"
      ],
      "metadata": {
        "colab": {
          "base_uri": "https://localhost:8080/",
          "height": 746
        },
        "id": "hPgn-EvYtsFF",
        "outputId": "3e7b425a-9a72-4eef-8f50-058645147231"
      },
      "execution_count": 122,
      "outputs": [
        {
          "output_type": "stream",
          "name": "stdout",
          "text": [
            "0    509\n",
            "1    108\n",
            "Name: class_1, dtype: int64\n"
          ]
        },
        {
          "output_type": "display_data",
          "data": {
            "text/plain": [
              "<Figure size 600x300 with 1 Axes>"
            ],
            "image/png": "[encoded data removed]"
          },
          "metadata": {}
        },
        {
          "output_type": "stream",
          "name": "stdout",
          "text": [
            "0    509\n",
            "1    509\n",
            "Name: class_0, dtype: int64\n"
          ]
        },
        {
          "output_type": "display_data",
          "data": {
            "text/plain": [
              "<Figure size 600x300 with 1 Axes>"
            ],
            "image/png": "[encoded data removed]"
          },
          "metadata": {}
        }
      ]
    },
    {
      "cell_type": "markdown",
      "source": [
        "## Using PCA to remove features"
      ],
      "metadata": {
        "id": "wJWXqtoAFVHR"
      }
    },
    {
      "cell_type": "markdown",
      "source": [
        "### Using PCA"
      ],
      "metadata": {
        "id": "3qYxyryBJAtd"
      }
    },
    {
      "cell_type": "code",
      "source": [
        "# X, X_pca = reduce_dimensions(X)\n",
        "print(X.shape[1], y.shape)"
      ],
      "metadata": {
        "colab": {
          "base_uri": "https://localhost:8080/"
        },
        "id": "f4Qv-7-SV-_X",
        "outputId": "8fbfac14-5611-4f03-ec35-0d880b684464"
      },
      "execution_count": 123,
      "outputs": [
        {
          "output_type": "stream",
          "name": "stdout",
          "text": [
            "57 (1018,)\n"
          ]
        }
      ]
    },
    {
      "cell_type": "code",
      "source": [
        "import plotly.express as px\n",
        "from sklearn.decomposition import PCA\n",
        "\n",
        "pca = PCA(n_components = 0.9)\n",
        "pca.fit(X)\n",
        "print(\"Cumulative Variances (Percentage):\")\n",
        "print(np.cumsum(pca.explained_variance_ratio_ * 100))\n",
        "components = len(pca.explained_variance_ratio_)\n",
        "print(f'Number of components: {components}')\n",
        "# Make the scree plot\n",
        "plt.plot(range(1, components + 1), np.cumsum(pca.explained_variance_ratio_ * 100))\n",
        "plt.xlabel(\"Number of components\")\n",
        "plt.ylabel(\"Explained variance (%)\")"
      ],
      "metadata": {
        "colab": {
          "base_uri": "https://localhost:8080/",
          "height": 418
        },
        "id": "pJRu7ZrNFm7Z",
        "outputId": "17c40bec-b66f-476f-a052-b18b7be22fdd"
      },
      "execution_count": 124,
      "outputs": [
        {
          "output_type": "stream",
          "name": "stdout",
          "text": [
            "Cumulative Variances (Percentage):\n",
            "[54.60122479 61.89362176 67.24492594 71.66988424 74.77552586 77.27043951\n",
            " 79.35137916 81.13438983 82.70027784 84.06106283 85.28776618 86.44415363\n",
            " 87.43548938 88.37018353 89.26468496 90.12535616]\n",
            "Number of components: 16\n"
          ]
        },
        {
          "output_type": "execute_result",
          "data": {
            "text/plain": [
              "Text(0, 0.5, 'Explained variance (%)')"
            ]
          },
          "metadata": {},
          "execution_count": 124
        },
        {
          "output_type": "display_data",
          "data": {
            "text/plain": [
              "<Figure size 600x300 with 1 Axes>"
            ],
            "image/png": "[encoded data removed]"
          },
          "metadata": {}
        }
      ]
    },
    {
      "cell_type": "code",
      "source": [
        "X, X_pca = reduce_dimensions(X)\n",
        "\n",
        "n_pcs = X_pca.components_.shape[0]\n",
        "\n",
        "most_important = [np.abs(X_pca.components_[i]).argmax() for i in range(n_pcs)]\n",
        "\n",
        "initial_feature_names = X_df.columns\n",
        "# get the names\n",
        "most_important_names = [initial_feature_names[most_important[i]] for i in range(n_pcs)]\n",
        "\n",
        "# LIST COMPREHENSION HERE AGAIN\n",
        "dic = {'PC{}'.format(i): most_important_names[i] for i in range(n_pcs)}\n",
        "\n",
        "# build the dataframe\n",
        "df_most_important_features = pd.DataFrame(dic.items(), columns = ['Principal Component', 'Feature'])\n",
        "\n",
        "df_most_important_features.head()"
      ],
      "metadata": {
        "colab": {
          "base_uri": "https://localhost:8080/",
          "height": 206
        },
        "id": "Tog4UMv0TxAF",
        "outputId": "14d16323-5fe4-42a2-a57f-03323eb982c4"
      },
      "execution_count": 126,
      "outputs": [
        {
          "output_type": "execute_result",
          "data": {
            "text/plain": [
              "  Principal Component Feature\n",
              "0                 PC0    EJ_A\n",
              "1                 PC1      EL\n",
              "2                 PC2     CW \n",
              "3                 PC3      EL\n",
              "4                 PC4      GI"
            ],
            "text/html": [
              "\n",
              "  <div id=\"df-89588b0d-bc54-4d76-aeee-53196798ce0d\">\n",
              "    <div class=\"colab-df-container\">\n",
              "      <div>\n",
              "<style scoped>\n",
              "    .dataframe tbody tr th:only-of-type {\n",
              "        vertical-align: middle;\n",
              "    }\n",
              "\n",
              "    .dataframe tbody tr th {\n",
              "        vertical-align: top;\n",
              "    }\n",
              "\n",
              "    .dataframe thead th {\n",
              "        text-align: right;\n",
              "    }\n",
              "</style>\n",
              "<table border=\"1\" class=\"dataframe\">\n",
              "  <thead>\n",
              "    <tr style=\"text-align: right;\">\n",
              "      <th></th>\n",
              "      <th>Principal Component</th>\n",
              "      <th>Feature</th>\n",
              "    </tr>\n",
              "  </thead>\n",
              "  <tbody>\n",
              "    <tr>\n",
              "      <th>0</th>\n",
              "      <td>PC0</td>\n",
              "      <td>EJ_A</td>\n",
              "    </tr>\n",
              "    <tr>\n",
              "      <th>1</th>\n",
              "      <td>PC1</td>\n",
              "      <td>EL</td>\n",
              "    </tr>\n",
              "    <tr>\n",
              "      <th>2</th>\n",
              "      <td>PC2</td>\n",
              "      <td>CW</td>\n",
              "    </tr>\n",
              "    <tr>\n",
              "      <th>3</th>\n",
              "      <td>PC3</td>\n",
              "      <td>EL</td>\n",
              "    </tr>\n",
              "    <tr>\n",
              "      <th>4</th>\n",
              "      <td>PC4</td>\n",
              "      <td>GI</td>\n",
              "    </tr>\n",
              "  </tbody>\n",
              "</table>\n",
              "</div>\n",
              "      <button class=\"colab-df-convert\" onclick=\"convertToInteractive('df-89588b0d-bc54-4d76-aeee-53196798ce0d')\"\n",
              "              title=\"Convert this dataframe to an interactive table.\"\n",
              "              style=\"display:none;\">\n",
              "        \n",
              "  <svg xmlns=\"http://www.w3.org/2000/svg\" height=\"24px\"viewBox=\"0 0 24 24\"\n",
              "       width=\"24px\">\n",
              "    <path d=\"M0 0h24v24H0V0z\" fill=\"none\"/>\n",
              "    <path d=\"M18.56 5.44l.94 2.06.94-2.06 2.06-.94-2.06-.94-.94-2.06-.94 2.06-2.06.94zm-11 1L8.5 8.5l.94-2.06 2.06-.94-2.06-.94L8.5 2.5l-.94 2.06-2.06.94zm10 10l.94 2.06.94-2.06 2.06-.94-2.06-.94-.94-2.06-.94 2.06-2.06.94z\"/><path d=\"M17.41 7.96l-1.37-1.37c-.4-.4-.92-.59-1.43-.59-.52 0-1.04.2-1.43.59L10.3 9.45l-7.72 7.72c-.78.78-.78 2.05 0 2.83L4 21.41c.39.39.9.59 1.41.59.51 0 1.02-.2 1.41-.59l7.78-7.78 2.81-2.81c.8-.78.8-2.07 0-2.86zM5.41 20L4 18.59l7.72-7.72 1.47 1.35L5.41 20z\"/>\n",
              "  </svg>\n",
              "      </button>\n",
              "      \n",
              "  <style>\n",
              "    .colab-df-container {\n",
              "      display:flex;\n",
              "      flex-wrap:wrap;\n",
              "      gap: 12px;\n",
              "    }\n",
              "\n",
              "    .colab-df-convert {\n",
              "      background-color: #E8F0FE;\n",
              "      border: none;\n",
              "      border-radius: 50%;\n",
              "      cursor: pointer;\n",
              "      display: none;\n",
              "      fill: #1967D2;\n",
              "      height: 32px;\n",
              "      padding: 0 0 0 0;\n",
              "      width: 32px;\n",
              "    }\n",
              "\n",
              "    .colab-df-convert:hover {\n",
              "      background-color: #E2EBFA;\n",
              "      box-shadow: 0px 1px 2px rgba(60, 64, 67, 0.3), 0px 1px 3px 1px rgba(60, 64, 67, 0.15);\n",
              "      fill: #174EA6;\n",
              "    }\n",
              "\n",
              "    [theme=dark] .colab-df-convert {\n",
              "      background-color: #3B4455;\n",
              "      fill: #D2E3FC;\n",
              "    }\n",
              "\n",
              "    [theme=dark] .colab-df-convert:hover {\n",
              "      background-color: #434B5C;\n",
              "      box-shadow: 0px 1px 3px 1px rgba(0, 0, 0, 0.15);\n",
              "      filter: drop-shadow(0px 1px 2px rgba(0, 0, 0, 0.3));\n",
              "      fill: #FFFFFF;\n",
              "    }\n",
              "  </style>\n",
              "\n",
              "      <script>\n",
              "        const buttonEl =\n",
              "          document.querySelector('#df-89588b0d-bc54-4d76-aeee-53196798ce0d button.colab-df-convert');\n",
              "        buttonEl.style.display =\n",
              "          google.colab.kernel.accessAllowed ? 'block' : 'none';\n",
              "\n",
              "        async function convertToInteractive(key) {\n",
              "          const element = document.querySelector('#df-89588b0d-bc54-4d76-aeee-53196798ce0d');\n",
              "          const dataTable =\n",
              "            await google.colab.kernel.invokeFunction('convertToInteractive',\n",
              "                                                     [key], {});\n",
              "          if (!dataTable) return;\n",
              "\n",
              "          const docLinkHtml = 'Like what you see? Visit the ' +\n",
              "            '<a target=\"_blank\" href=https://colab.research.google.com/notebooks/data_table.ipynb>data table notebook</a>'\n",
              "            + ' to learn more about interactive tables.';\n",
              "          element.innerHTML = '';\n",
              "          dataTable['output_type'] = 'display_data';\n",
              "          await google.colab.output.renderOutput(dataTable, element);\n",
              "          const docLink = document.createElement('div');\n",
              "          docLink.innerHTML = docLinkHtml;\n",
              "          element.appendChild(docLink);\n",
              "        }\n",
              "      </script>\n",
              "    </div>\n",
              "  </div>\n",
              "  "
            ]
          },
          "metadata": {},
          "execution_count": 126
        }
      ]
    },
    {
      "cell_type": "code",
      "source": [
        "# import plotly.express as px\n",
        "# from sklearn.decomposition import PCA\n",
        "\n",
        "\n",
        "# exp_var_cumul = np.cumsum(X_pca.explained_variance_ratio_)\n",
        "\n",
        "# px.area(\n",
        "#     x=range(1, exp_var_cumul.shape[0] + 1),\n",
        "#     y=exp_var_cumul,\n",
        "#     labels={\"x\": \"# Components\", \"y\": \"Explained Variance\"}\n",
        "# )"
      ],
      "metadata": {
        "colab": {
          "base_uri": "https://localhost:8080/",
          "height": 542
        },
        "id": "gXKQ_LySxdgF",
        "outputId": "510569f5-3dbd-4720-ce15-5e577db2029f"
      },
      "execution_count": 24,
      "outputs": [
        {
          "output_type": "display_data",
          "data": {
            "text/html": [
              "<html>\n",
              "<head><meta charset=\"utf-8\" /></head>\n",
              "<body>\n",
              "    <div>            <script src=\"https://cdnjs.cloudflare.com/ajax/libs/mathjax/2.7.5/MathJax.js?config=TeX-AMS-MML_SVG\"></script><script type=\"text/javascript\">if (window.MathJax && window.MathJax.Hub && window.MathJax.Hub.Config) {window.MathJax.Hub.Config({SVG: {font: \"STIX-Web\"}});}</script>                <script type=\"text/javascript\">window.PlotlyConfig = {MathJaxConfig: 'local'};</script>\n",
              "        <script src=\"https://cdn.plot.ly/plotly-2.18.2.min.js\"></script>                <div id=\"8d7fab83-5dfa-435a-988b-c44e21085a83\" class=\"plotly-graph-div\" style=\"height:525px; width:100%;\"></div>            <script type=\"text/javascript\">                                    window.PLOTLYENV=window.PLOTLYENV || {};                                    if (document.getElementById(\"8d7fab83-5dfa-435a-988b-c44e21085a83\")) {                    Plotly.newPlot(                        \"8d7fab83-5dfa-435a-988b-c44e21085a83\",                        [{\"fillpattern\":{\"shape\":\"\"},\"hovertemplate\":\"# Components=%{x}<br>Explained Variance=%{y}<extra></extra>\",\"legendgroup\":\"\",\"line\":{\"color\":\"#636efa\"},\"marker\":{\"symbol\":\"circle\"},\"mode\":\"lines\",\"name\":\"\",\"orientation\":\"v\",\"showlegend\":false,\"stackgroup\":\"1\",\"x\":[1,2,3,4,5,6,7,8,9,10,11,12,13,14,15,16],\"xaxis\":\"x\",\"y\":[0.5360182527276336,0.6207493786949667,0.6733845241938604,0.7155762019093928,0.7443499603080247,0.7683508823439124,0.7900344179115599,0.8070370965682022,0.8231221227083074,0.8375443637537913,0.8507786863670876,0.8630091936339394,0.8744669134801464,0.884213660947042,0.8935834322741042,0.9023196036180344],\"yaxis\":\"y\",\"type\":\"scatter\"}],                        {\"template\":{\"data\":{\"histogram2dcontour\":[{\"type\":\"histogram2dcontour\",\"colorbar\":{\"outlinewidth\":0,\"ticks\":\"\"},\"colorscale\":[[0.0,\"#0d0887\"],[0.1111111111111111,\"#46039f\"],[0.2222222222222222,\"#7201a8\"],[0.3333333333333333,\"#9c179e\"],[0.4444444444444444,\"#bd3786\"],[0.5555555555555556,\"#d8576b\"],[0.6666666666666666,\"#ed7953\"],[0.7777777777777778,\"#fb9f3a\"],[0.8888888888888888,\"#fdca26\"],[1.0,\"#f0f921\"]]}],\"choropleth\":[{\"type\":\"choropleth\",\"colorbar\":{\"outlinewidth\":0,\"ticks\":\"\"}}],\"histogram2d\":[{\"type\":\"histogram2d\",\"colorbar\":{\"outlinewidth\":0,\"ticks\":\"\"},\"colorscale\":[[0.0,\"#0d0887\"],[0.1111111111111111,\"#46039f\"],[0.2222222222222222,\"#7201a8\"],[0.3333333333333333,\"#9c179e\"],[0.4444444444444444,\"#bd3786\"],[0.5555555555555556,\"#d8576b\"],[0.6666666666666666,\"#ed7953\"],[0.7777777777777778,\"#fb9f3a\"],[0.8888888888888888,\"#fdca26\"],[1.0,\"#f0f921\"]]}],\"heatmap\":[{\"type\":\"heatmap\",\"colorbar\":{\"outlinewidth\":0,\"ticks\":\"\"},\"colorscale\":[[0.0,\"#0d0887\"],[0.1111111111111111,\"#46039f\"],[0.2222222222222222,\"#7201a8\"],[0.3333333333333333,\"#9c179e\"],[0.4444444444444444,\"#bd3786\"],[0.5555555555555556,\"#d8576b\"],[0.6666666666666666,\"#ed7953\"],[0.7777777777777778,\"#fb9f3a\"],[0.8888888888888888,\"#fdca26\"],[1.0,\"#f0f921\"]]}],\"heatmapgl\":[{\"type\":\"heatmapgl\",\"colorbar\":{\"outlinewidth\":0,\"ticks\":\"\"},\"colorscale\":[[0.0,\"#0d0887\"],[0.1111111111111111,\"#46039f\"],[0.2222222222222222,\"#7201a8\"],[0.3333333333333333,\"#9c179e\"],[0.4444444444444444,\"#bd3786\"],[0.5555555555555556,\"#d8576b\"],[0.6666666666666666,\"#ed7953\"],[0.7777777777777778,\"#fb9f3a\"],[0.8888888888888888,\"#fdca26\"],[1.0,\"#f0f921\"]]}],\"contourcarpet\":[{\"type\":\"contourcarpet\",\"colorbar\":{\"outlinewidth\":0,\"ticks\":\"\"}}],\"contour\":[{\"type\":\"contour\",\"colorbar\":{\"outlinewidth\":0,\"ticks\":\"\"},\"colorscale\":[[0.0,\"#0d0887\"],[0.1111111111111111,\"#46039f\"],[0.2222222222222222,\"#7201a8\"],[0.3333333333333333,\"#9c179e\"],[0.4444444444444444,\"#bd3786\"],[0.5555555555555556,\"#d8576b\"],[0.6666666666666666,\"#ed7953\"],[0.7777777777777778,\"#fb9f3a\"],[0.8888888888888888,\"#fdca26\"],[1.0,\"#f0f921\"]]}],\"surface\":[{\"type\":\"surface\",\"colorbar\":{\"outlinewidth\":0,\"ticks\":\"\"},\"colorscale\":[[0.0,\"#0d0887\"],[0.1111111111111111,\"#46039f\"],[0.2222222222222222,\"#7201a8\"],[0.3333333333333333,\"#9c179e\"],[0.4444444444444444,\"#bd3786\"],[0.5555555555555556,\"#d8576b\"],[0.6666666666666666,\"#ed7953\"],[0.7777777777777778,\"#fb9f3a\"],[0.8888888888888888,\"#fdca26\"],[1.0,\"#f0f921\"]]}],\"mesh3d\":[{\"type\":\"mesh3d\",\"colorbar\":{\"outlinewidth\":0,\"ticks\":\"\"}}],\"scatter\":[{\"fillpattern\":{\"fillmode\":\"overlay\",\"size\":10,\"solidity\":0.2},\"type\":\"scatter\"}],\"parcoords\":[{\"type\":\"parcoords\",\"line\":{\"colorbar\":{\"outlinewidth\":0,\"ticks\":\"\"}}}],\"scatterpolargl\":[{\"type\":\"scatterpolargl\",\"marker\":{\"colorbar\":{\"outlinewidth\":0,\"ticks\":\"\"}}}],\"bar\":[{\"error_x\":{\"color\":\"#2a3f5f\"},\"error_y\":{\"color\":\"#2a3f5f\"},\"marker\":{\"line\":{\"color\":\"#E5ECF6\",\"width\":0.5},\"pattern\":{\"fillmode\":\"overlay\",\"size\":10,\"solidity\":0.2}},\"type\":\"bar\"}],\"scattergeo\":[{\"type\":\"scattergeo\",\"marker\":{\"colorbar\":{\"outlinewidth\":0,\"ticks\":\"\"}}}],\"scatterpolar\":[{\"type\":\"scatterpolar\",\"marker\":{\"colorbar\":{\"outlinewidth\":0,\"ticks\":\"\"}}}],\"histogram\":[{\"marker\":{\"pattern\":{\"fillmode\":\"overlay\",\"size\":10,\"solidity\":0.2}},\"type\":\"histogram\"}],\"scattergl\":[{\"type\":\"scattergl\",\"marker\":{\"colorbar\":{\"outlinewidth\":0,\"ticks\":\"\"}}}],\"scatter3d\":[{\"type\":\"scatter3d\",\"line\":{\"colorbar\":{\"outlinewidth\":0,\"ticks\":\"\"}},\"marker\":{\"colorbar\":{\"outlinewidth\":0,\"ticks\":\"\"}}}],\"scattermapbox\":[{\"type\":\"scattermapbox\",\"marker\":{\"colorbar\":{\"outlinewidth\":0,\"ticks\":\"\"}}}],\"scatterternary\":[{\"type\":\"scatterternary\",\"marker\":{\"colorbar\":{\"outlinewidth\":0,\"ticks\":\"\"}}}],\"scattercarpet\":[{\"type\":\"scattercarpet\",\"marker\":{\"colorbar\":{\"outlinewidth\":0,\"ticks\":\"\"}}}],\"carpet\":[{\"aaxis\":{\"endlinecolor\":\"#2a3f5f\",\"gridcolor\":\"white\",\"linecolor\":\"white\",\"minorgridcolor\":\"white\",\"startlinecolor\":\"#2a3f5f\"},\"baxis\":{\"endlinecolor\":\"#2a3f5f\",\"gridcolor\":\"white\",\"linecolor\":\"white\",\"minorgridcolor\":\"white\",\"startlinecolor\":\"#2a3f5f\"},\"type\":\"carpet\"}],\"table\":[{\"cells\":{\"fill\":{\"color\":\"#EBF0F8\"},\"line\":{\"color\":\"white\"}},\"header\":{\"fill\":{\"color\":\"#C8D4E3\"},\"line\":{\"color\":\"white\"}},\"type\":\"table\"}],\"barpolar\":[{\"marker\":{\"line\":{\"color\":\"#E5ECF6\",\"width\":0.5},\"pattern\":{\"fillmode\":\"overlay\",\"size\":10,\"solidity\":0.2}},\"type\":\"barpolar\"}],\"pie\":[{\"automargin\":true,\"type\":\"pie\"}]},\"layout\":{\"autotypenumbers\":\"strict\",\"colorway\":[\"#636efa\",\"#EF553B\",\"#00cc96\",\"#ab63fa\",\"#FFA15A\",\"#19d3f3\",\"#FF6692\",\"#B6E880\",\"#FF97FF\",\"#FECB52\"],\"font\":{\"color\":\"#2a3f5f\"},\"hovermode\":\"closest\",\"hoverlabel\":{\"align\":\"left\"},\"paper_bgcolor\":\"white\",\"plot_bgcolor\":\"#E5ECF6\",\"polar\":{\"bgcolor\":\"#E5ECF6\",\"angularaxis\":{\"gridcolor\":\"white\",\"linecolor\":\"white\",\"ticks\":\"\"},\"radialaxis\":{\"gridcolor\":\"white\",\"linecolor\":\"white\",\"ticks\":\"\"}},\"ternary\":{\"bgcolor\":\"#E5ECF6\",\"aaxis\":{\"gridcolor\":\"white\",\"linecolor\":\"white\",\"ticks\":\"\"},\"baxis\":{\"gridcolor\":\"white\",\"linecolor\":\"white\",\"ticks\":\"\"},\"caxis\":{\"gridcolor\":\"white\",\"linecolor\":\"white\",\"ticks\":\"\"}},\"coloraxis\":{\"colorbar\":{\"outlinewidth\":0,\"ticks\":\"\"}},\"colorscale\":{\"sequential\":[[0.0,\"#0d0887\"],[0.1111111111111111,\"#46039f\"],[0.2222222222222222,\"#7201a8\"],[0.3333333333333333,\"#9c179e\"],[0.4444444444444444,\"#bd3786\"],[0.5555555555555556,\"#d8576b\"],[0.6666666666666666,\"#ed7953\"],[0.7777777777777778,\"#fb9f3a\"],[0.8888888888888888,\"#fdca26\"],[1.0,\"#f0f921\"]],\"sequentialminus\":[[0.0,\"#0d0887\"],[0.1111111111111111,\"#46039f\"],[0.2222222222222222,\"#7201a8\"],[0.3333333333333333,\"#9c179e\"],[0.4444444444444444,\"#bd3786\"],[0.5555555555555556,\"#d8576b\"],[0.6666666666666666,\"#ed7953\"],[0.7777777777777778,\"#fb9f3a\"],[0.8888888888888888,\"#fdca26\"],[1.0,\"#f0f921\"]],\"diverging\":[[0,\"#8e0152\"],[0.1,\"#c51b7d\"],[0.2,\"#de77ae\"],[0.3,\"#f1b6da\"],[0.4,\"#fde0ef\"],[0.5,\"#f7f7f7\"],[0.6,\"#e6f5d0\"],[0.7,\"#b8e186\"],[0.8,\"#7fbc41\"],[0.9,\"#4d9221\"],[1,\"#276419\"]]},\"xaxis\":{\"gridcolor\":\"white\",\"linecolor\":\"white\",\"ticks\":\"\",\"title\":{\"standoff\":15},\"zerolinecolor\":\"white\",\"automargin\":true,\"zerolinewidth\":2},\"yaxis\":{\"gridcolor\":\"white\",\"linecolor\":\"white\",\"ticks\":\"\",\"title\":{\"standoff\":15},\"zerolinecolor\":\"white\",\"automargin\":true,\"zerolinewidth\":2},\"scene\":{\"xaxis\":{\"backgroundcolor\":\"#E5ECF6\",\"gridcolor\":\"white\",\"linecolor\":\"white\",\"showbackground\":true,\"ticks\":\"\",\"zerolinecolor\":\"white\",\"gridwidth\":2},\"yaxis\":{\"backgroundcolor\":\"#E5ECF6\",\"gridcolor\":\"white\",\"linecolor\":\"white\",\"showbackground\":true,\"ticks\":\"\",\"zerolinecolor\":\"white\",\"gridwidth\":2},\"zaxis\":{\"backgroundcolor\":\"#E5ECF6\",\"gridcolor\":\"white\",\"linecolor\":\"white\",\"showbackground\":true,\"ticks\":\"\",\"zerolinecolor\":\"white\",\"gridwidth\":2}},\"shapedefaults\":{\"line\":{\"color\":\"#2a3f5f\"}},\"annotationdefaults\":{\"arrowcolor\":\"#2a3f5f\",\"arrowhead\":0,\"arrowwidth\":1},\"geo\":{\"bgcolor\":\"white\",\"landcolor\":\"#E5ECF6\",\"subunitcolor\":\"white\",\"showland\":true,\"showlakes\":true,\"lakecolor\":\"white\"},\"title\":{\"x\":0.05},\"mapbox\":{\"style\":\"light\"}}},\"xaxis\":{\"anchor\":\"y\",\"domain\":[0.0,1.0],\"title\":{\"text\":\"# Components\"}},\"yaxis\":{\"anchor\":\"x\",\"domain\":[0.0,1.0],\"title\":{\"text\":\"Explained Variance\"}},\"legend\":{\"tracegroupgap\":0},\"margin\":{\"t\":60}},                        {\"responsive\": true}                    ).then(function(){\n",
              "                            \n",
              "var gd = document.getElementById('8d7fab83-5dfa-435a-988b-c44e21085a83');\n",
              "var x = new MutationObserver(function (mutations, observer) {{\n",
              "        var display = window.getComputedStyle(gd).display;\n",
              "        if (!display || display === 'none') {{\n",
              "            console.log([gd, 'removed!']);\n",
              "            Plotly.purge(gd);\n",
              "            observer.disconnect();\n",
              "        }}\n",
              "}});\n",
              "\n",
              "// Listen for the removal of the full notebook cells\n",
              "var notebookContainer = gd.closest('#notebook-container');\n",
              "if (notebookContainer) {{\n",
              "    x.observe(notebookContainer, {childList: true});\n",
              "}}\n",
              "\n",
              "// Listen for the clearing of the current output cell\n",
              "var outputEl = gd.closest('.output');\n",
              "if (outputEl) {{\n",
              "    x.observe(outputEl, {childList: true});\n",
              "}}\n",
              "\n",
              "                        })                };                            </script>        </div>\n",
              "</body>\n",
              "</html>"
            ]
          },
          "metadata": {}
        }
      ]
    },
    {
      "cell_type": "code",
      "source": [
        "# import plotly.express as px\n",
        "# components = X\n",
        "\n",
        "# total_var = X_pca.explained_variance_ratio_[0:3].sum() * 100\n",
        "\n",
        "# fig = px.scatter_3d(\n",
        "#     components, x=0, y=1, z=2, color=y,\n",
        "#     title=f'Total Explained Variance: {total_var:.2f}%',\n",
        "#     labels={'0': 'PC 1', '1': 'PC 2', '2': 'PC 3'}\n",
        "# )\n",
        "# fig.show()"
      ],
      "metadata": {
        "colab": {
          "base_uri": "https://localhost:8080/",
          "height": 542
        },
        "id": "r2Jy6tlQxmeE",
        "outputId": "7296ad98-48be-43a2-9e13-6666a534e9bf"
      },
      "execution_count": 25,
      "outputs": [
        {
          "output_type": "display_data",
          "data": {
            "text/html": [
              "<html>\n",
              "<head><meta charset=\"utf-8\" /></head>\n",
              "<body>\n",
              "    <div>            <script src=\"https://cdnjs.cloudflare.com/ajax/libs/mathjax/2.7.5/MathJax.js?config=TeX-AMS-MML_SVG\"></script><script type=\"text/javascript\">if (window.MathJax && window.MathJax.Hub && window.MathJax.Hub.Config) {window.MathJax.Hub.Config({SVG: {font: \"STIX-Web\"}});}</script>                <script type=\"text/javascript\">window.PlotlyConfig = {MathJaxConfig: 'local'};</script>\n",
              "        <script src=\"https://cdn.plot.ly/plotly-2.18.2.min.js\"></script>                <div id=\"a577c189-c7eb-4355-8541-48857d82cbdb\" class=\"plotly-graph-div\" style=\"height:525px; width:100%;\"></div>            <script type=\"text/javascript\">                                    window.PLOTLYENV=window.PLOTLYENV || {};                                    if (document.getElementById(\"a577c189-c7eb-4355-8541-48857d82cbdb\")) {                    Plotly.newPlot(                        \"a577c189-c7eb-4355-8541-48857d82cbdb\",                        [{\"hovertemplate\":\"PC 1=%{x}<br>PC 2=%{y}<br>PC 3=%{z}<br>color=%{marker.color}<extra></extra>\",\"legendgroup\":\"\",\"marker\":{\"color\":[0,1,1,1,0,1,1,1,1,1,0,1,1,0,1,1,1,1,1,1,1,1,1,1,1,1,1,1,1,1,1,0,0,1,1,1,0,1,1,1,1,0,1,1,1,1,1,1,1,0,1,1,1,1,1,1,1,1,1,1,1,1,1,1,1,1,1,1,1,1,1,1,1,1,1,0,0,1,1,0,1,1,1,1,1,1,1,1,0,1,1,0,1,0,1,0,0,1,1,1,1,1,1,1,1,1,1,1,1,0,1,1,1,1,1,1,1,1,0,1,1,1,1,1,1,1,1,0,1,1,1,0,1,1,0,1,1,1,1,1,1,1,1,1,1,0,0,1,1,1,0,1,1,1,1,0,1,1,1,1,0,1,0,1,1,0,1,1,1,1,1,1,1,1,1,1,1,1,1,1,1,0,1,1,1,1,0,1,1,0,1,1,1,0,1,1,1,1,1,1,1,1,1,1,1,1,1,1,1,1,1,1,1,1,1,1,1,1,0,1,1,1,1,1,1,1,1,1,1,0,1,1,0,1,1,1,1,1,0,1,1,1,1,1,1,1,1,1,1,0,1,1,1,1,1,1,0,1,0,0,1,0,0,1,1,0,1,0,0,1,1,1,1,1,0,0,1,1,1,1,1,1,0,1,1,1,1,1,0,1,0,1,1,1,0,1,1,1,1,1,0,0,1,1,0,1,1,0,1,1,1,1,1,0,1,1,1,1,0,1,1,1,1,1,0,1,1,1,1,1,0,1,1,1,1,1,1,1,1,1,1,1,1,1,0,1,1,1,0,1,1,1,1,1,1,1,1,0,1,1,1,1,1,1,1,1,1,1,0,1,1,0,1,1,1,1,1,1,0,1,1,1,1,1,1,1,1,0,1,1,1,0,1,1,1,1,1,1,1,1,1,1,1,1,1,1,0,1,0,1,1,1,0,0,1,0,1,1,1,1,1,0,1,0,1,0,1,1,1,1,1,1,1,0,0,1,0,1,1,1,1,1,1,1,1,1,1,1,1,1,1,1,1,1,1,1,1,1,1,1,1,1,1,1,1,1,1,0,1,1,0,0,1,1,1,1,1,1,1,0,1,1,1,1,1,1,0,0,1,1,0,1,1,0,0,1,1,1,1,1,0,1,1,1,1,1,1,1,1,0,1,0,1,1,1,1,0,1,0,1,1,1,1,1,1,1,0,1,1,1,0,1,1,1,1,1,0,1,0,1,1,1,1,1,1,1,0,1,0,1,1,1,1,1,1,0,1,1,1,0,1,1,1,0,0,1,1,1,1,1,1,1,1,1,1,1,0,1,1,1,1,1,1,1,1,0,1,1,0,1,1,1,0,1,1,1,1,1,1,1,1,1,1,1,1,1,1,1,0,1,1,1,1,1,1,1,1,0,0,0,0,0,0,0,0,0,0,0,0,0,0,0,0,0,0,0,0,0,0,0,0,0,0,0,0,0,0,0,0,0,0,0,0,0,0,0,0,0,0,0,0,0,0,0,0,0,0,0,0,0,0,0,0,0,0,0,0,0,0,0,0,0,0,0,0,0,0,0,0,0,0,0,0,0,0,0,0,0,0,0,0,0,0,0,0,0,0,0,0,0,0,0,0,0,0,0,0,0,0,0,0,0,0,0,0,0,0,0,0,0,0,0,0,0,0,0,0,0,0,0,0,0,0,0,0,0,0,0,0,0,0,0,0,0,0,0,0,0,0,0,0,0,0,0,0,0,0,0,0,0,0,0,0,0,0,0,0,0,0,0,0,0,0,0,0,0,0,0,0,0,0,0,0,0,0,0,0,0,0,0,0,0,0,0,0,0,0,0,0,0,0,0,0,0,0,0,0,0,0,0,0,0,0,0,0,0,0,0,0,0,0,0,0,0,0,0,0,0,0,0,0,0,0,0,0,0,0,0,0,0,0,0,0,0,0,0,0,0,0,0,0,0,0,0,0,0,0,0,0,0,0,0,0,0,0,0,0,0,0,0,0,0,0,0,0,0,0,0,0,0,0,0,0,0,0,0,0,0,0,0,0,0,0,0,0,0,0,0,0,0,0,0,0,0,0,0,0,0,0,0,0,0,0,0,0,0,0,0,0,0,0,0,0,0,0,0,0,0,0,0,0,0,0,0,0,0,0,0,0,0,0,0,0,0,0,0,0,0,0,0,0,0,0,0,0,0,0,0,0,0,0,0,0,0,0,0,0,0,0,0,0,0,0,0,0,0,0,0,0,0,0,0,0,0,0,0,0,0,0,0,0,0,0,0,0,0,0,0,0,0,0,0,0,0,0,0,0,0],\"coloraxis\":\"coloraxis\",\"symbol\":\"circle\"},\"mode\":\"markers\",\"name\":\"\",\"scene\":\"scene\",\"showlegend\":false,\"x\":[-0.605499524733366,1.2045449808884863,-0.5436204882187106,-0.5988290535164764,-0.5382526086063983,1.2071118356134738,-0.6280283871796876,-0.6039212869046058,-0.6085550573687543,1.1634007344160806,1.1944544151711236,-0.5943510686482972,-0.607107950942428,1.1851977048496163,1.120559896895093,-0.5628003019203984,1.146345326008055,-0.609022961061626,-0.6652752540492657,1.2035466980598832,1.201212944407032,-0.6030826533872985,1.2038970634452222,-0.5367965871324544,1.1674255655578438,-0.5829671377180516,-0.4710095122313695,1.1175256782873566,1.1887164042542089,-0.5991061069854641,1.2025759283052657,-0.5320053566066211,-0.5914654505385785,-0.3598986300052882,-0.6163144581402343,1.1117732723319649,-0.6334766669847097,1.116778428860667,-0.5906237012017154,-0.5497819853348274,1.1991472659750515,-0.509398724208952,1.1371742432057061,-0.46898545519293694,1.1501938342196916,-0.6086153533280777,-0.5490290542130222,1.195859630705486,-0.5989155175198668,-0.6246552080181582,1.1373930842618938,-0.5254274645721184,-0.384379035436456,1.2068114422785687,-0.5333301545865871,1.201246853655946,-0.45411048714505464,-0.526277958240956,-0.6147746621987059,1.1251250057620028,1.1764132044461475,-0.6108646407485013,1.2374661240820182,1.1988769587632024,-0.5271684745202976,1.1578256783222636,-0.5951711143671979,-0.6010165127634027,1.1288186102961262,1.1942260609339606,1.141714200071904,-0.5448549076526493,1.1912365674776217,-0.539835459547793,-0.604371952909092,-0.5473894152205862,-0.5528960296712662,1.1940126821522212,-0.5879639229940119,-0.5081237744177294,1.1979873428781889,1.1811753697032175,1.1058257789951864,-0.5146563607736335,1.1814398857791146,1.1902848484501563,1.200454972286172,1.1949821437674155,-0.5199146098300099,-0.42522888497222616,-0.48623017677903485,-0.5203662087517925,1.2121146293806218,-0.5207380225258736,-0.32156186960266525,1.1867801045304989,-0.605958369335698,-0.5913008889665613,1.2099368082531146,1.1877966259778492,1.1923448262483127,-0.5840461534965491,-0.5415364153373251,1.200301080982892,-0.6123501677624972,-0.5210953064130138,-0.5038956511260638,-0.58803684370802,-0.5700027507770564,-0.5612327701201497,-0.5019773443394642,1.198679528285385,1.1930232590621996,-0.612460258677925,1.1877069634069852,1.1822748560991572,-0.5268615128058055,1.1591612236593454,-0.5370500015633357,-0.5496393895200901,-0.5774278973205993,-0.5980900331080806,-0.5279902763178201,-0.4848028162081779,-0.5992749533681474,-0.5405643777318777,-0.5933677322756115,-0.6507443304384758,-0.5760030487032533,-0.5297614539398576,1.176651826842548,1.183418729903587,-0.27527224669641887,1.139114340105697,-0.5396381987155499,1.1959453900030728,-0.5750433801748247,-0.5319144498554426,-0.6289371397612739,-0.5276906862511258,1.1910291041239105,-0.019076654685475744,-0.6091234965871483,-0.5568080481259842,-0.5809351220655988,1.2005705591028644,-0.5589175823100171,-0.5248150839245534,-0.6230413671137008,-0.5142135628853688,-0.5507003200504655,-0.13941672988347312,1.1937855666276322,-0.6139611968580132,1.1957386153844958,1.1385838815257303,1.1604732269701752,1.1178408770977237,-0.5927279320399295,-0.5847932696779828,-0.5965849716937911,1.2374337779327202,-0.5238864084045511,1.1895507199235427,-0.32981519155829797,-0.5470613835576408,-0.6024381018390067,-0.6306389647214135,-0.514823271975474,-0.5224205203288125,1.1851800898643343,-0.6017480803450648,-0.526090995934917,1.192997686994774,1.152959780981277,1.193791278559671,1.1987619472034787,-0.5997395792978221,-0.54321525447576,1.211100310899887,1.1951998944990567,-0.5769008808040622,1.127494458575356,-0.5866032485250716,1.2059847752023165,1.201122984607991,1.1325873833857636,1.1298745740569776,-0.5114241744670482,-0.526829938304693,-0.5738878586031866,-0.6121958117478188,-0.5121357291199816,-0.6125623069638514,-0.5399433557285014,-0.5344899807204025,-0.5329451614935019,-0.575876443147929,-0.6062405638055204,-0.5313846400848633,1.1507004568821178,1.184230392829855,-0.6022119464236209,-0.5786374512423346,1.1852064087111063,1.132130493889272,-0.5126431955884653,-0.541232291371355,1.2027150873937662,1.246013533069245,1.1672366422123968,1.1869816744877597,1.1336762352314296,-0.42377586165660497,1.186267696297359,-0.5829632774812805,1.1672724465477278,1.2189364376730716,-0.5673149924922195,1.1930399941064733,-0.5937194494375415,-0.6061710659923659,-0.21236012075582886,1.1329949828923904,-0.6027334989835684,-0.5259205058707059,-0.6146246719097141,-0.5691797196106633,-0.5565050386515962,1.2397682856643537,-0.5305035276824581,-0.5465886837866929,-0.5351891279920251,-0.5509837701652764,-0.5593897064203707,-0.5374043940233953,-0.6204764740426715,-0.6239317982574437,-0.6094710863793925,1.145189108297457,-0.5727136673402059,-0.5887120555187693,-0.6166775261020566,-0.5234439003139867,-0.6052100333810849,-0.6140946823175137,-0.6194189816425343,-0.623928670804062,-0.5317437783525241,-0.5520317184210987,1.1524666288633172,-0.6042465939183934,1.1528384281343598,-0.5946818061325819,1.1297626793564857,-0.6231060613275182,1.167347263632914,1.2074192330714395,1.188390267236253,-0.48815996030420145,-0.6324578254698798,-0.5614723124791062,-0.6143281642056024,-0.5411213853299829,-0.6244637112128049,1.1880751081766294,-0.6006381478170565,-0.4522103792285824,-0.6252222640219258,-0.6139544774719671,-0.5344144183937418,-0.5917818731851936,-0.6040702944030831,1.1735766011543054,-0.6280449963923325,1.141765123181769,-0.5762346037823184,1.1945227258806648,-0.6091196949078032,-0.5730384584003402,-0.5895522334623627,-0.5462519045396029,1.1864244953132235,-0.5074531822380428,1.1676399069474048,-0.6068859825428141,1.2004677772208,-0.5943372783525313,-0.5484404421670526,-0.5977048769250128,1.1368001884295695,1.1875377966075664,-0.5941655234291171,-0.6004771797227719,-0.6368108460645615,1.1925451532103262,1.1909497802048943,-0.5917297471784843,1.2111267129849865,1.1992031274517374,-0.5329109392908615,-0.5228540720483147,1.2061490467462173,-0.5953514635975036,-0.5111815976630563,-0.6118315810142123,-0.5251464152803749,-0.5417106885138707,1.1991301779346732,1.1902533294602593,-0.5506081199262006,-0.5067976740095387,1.1122426406112846,-0.5623728412477046,1.177704799119744,-0.5795445907237441,-0.6138579897019906,1.1250316126483557,-0.5744519946422355,1.113683749278084,-0.5876575883020632,1.2192190582191293,-0.5169264978944107,-0.5825292173627791,1.2015011668670532,-0.6270591547489532,1.097553446768725,-0.608614054825302,-0.5204330094364578,-0.5624368089982874,1.1097422160197687,-0.2655645500956,1.1592924375180886,1.2108478385027268,-0.5599049690860151,-0.404493961836559,-0.6252335050467253,-0.6025303753322373,-0.5379845711650996,-0.5127052890820027,1.126231770257138,-0.6195908678648173,-0.5344569423462188,-0.5384375290273425,-0.6028694314241537,-0.5291051240282074,1.1054763223426214,-0.32098928702633134,-0.49839569396855776,-0.5564732549581779,1.212111315170064,1.1457843303779076,-0.5402752718981598,1.1993600118217211,1.1452684571745297,-0.5104930024315618,-0.6727943989753524,-0.542129909536151,-0.5496758290702489,1.1880294640645592,-0.5468580941231511,1.2214125488921956,-0.5739732428328568,-0.6215306771566969,-0.5420655423795885,-0.6319756788715225,-0.5174477215974801,-0.6072322724642395,-0.6433294050026497,-0.6259022815030909,-0.6075139691853572,-0.6287059686751869,-0.5431999616654736,1.1191955637357214,-0.5293441465809912,-0.5513470062644145,-0.5313709259940916,-0.6162788770072242,1.1528634797985327,1.1976853824750449,-0.5960438250424279,1.1953073076794247,-0.53192565149671,-0.5070364803508872,1.121340467379592,1.2267105705398313,-0.5393266685380816,-0.5680057320433874,-0.5430111610849313,-0.6029515319098088,1.1915760236445723,-0.5941216067670723,-0.5158017023757973,-0.530047229631897,-0.6129882217574846,-0.3780158908553187,1.20277989857169,-0.5499033368546486,-0.4865324151545667,1.1827119615077732,-0.5676091196009789,1.1859716198232655,1.181070657990944,1.205093622982045,1.1870255282765456,1.2098872248587071,-0.5293940689565938,-0.5585295778604221,-0.5775266889553223,1.1939014864029913,-0.5263662601644737,1.1910151782562857,-0.6066163223425808,1.1167929097183165,-0.6079053970881818,1.1800698994638357,1.1131533416711024,-0.6141553867238391,1.2102107703294316,-0.6016866487235931,1.130762374390931,-0.47676275248278915,-0.5461308341054313,-0.6040030653377498,-0.6163032295738282,1.1805800153319037,-0.5606850221279586,1.1974923817801857,-0.6020378339756347,-0.5957273742109006,-0.5317376701075223,1.142190191101111,1.188552287520811,-0.5607012977430685,-0.4708389782803604,-0.556176097183585,-0.5768874411768639,1.2007320826717462,1.181049419946747,-0.6065401712667678,1.11627982294652,1.1218589172049864,1.2203774061975967,1.194918878702383,1.1765312219935584,1.1901255666312807,-0.19693215756755422,-0.5819383161720743,-0.6040954662400131,-0.5872616171281753,1.1837667705650095,-0.6028374665678085,-0.6304677728957775,1.1506943525539173,-0.48703837769482106,-0.6479263609929711,-0.4606722806036114,-0.5347784234688009,-0.5443282368815638,-0.593803663357737,-0.5427532005039887,-0.5998800940865748,-0.6338196165325426,1.2069891005180202,-0.5664747072824681,1.2017704088399248,-0.511299347231891,-0.6116098312609767,-0.6219090315688602,-0.6001098090753614,-0.5459461480469222,-0.5375874637669881,-0.6255616123408215,1.1318454342630773,1.1843305393147063,-0.600496054395835,-0.6165985146912469,1.2013757218642684,-0.5379859267792124,-0.617203421269424,-0.5258236095019219,-0.6018915160890835,1.1978344631392817,-0.576893380532472,-0.6127744579871576,-0.5882841970055742,-0.5947174418080394,-0.52944346286681,-0.6202376559438323,-0.5926023343824028,-0.5504936704776386,-0.6009113632451737,-0.5311315913791222,-0.6204687444708545,-0.6491461241667841,-0.5200126023563282,1.142707894312264,1.152993173827618,-0.5986795446518797,1.1700590162486455,-0.6145299766452552,-0.5967906853078198,1.140290335024983,-0.6239700032725052,-0.6262577181214647,-0.6088008148976344,-0.5411137579102779,-0.5662886365743952,1.1440640599595657,1.1472599794256768,1.116636018493472,-0.6097885800551494,-0.6096020701717759,-0.5133596437547736,-0.6235136538582994,-0.4869293021168056,-0.5857572146235034,-0.6058178946901802,1.1819302752022929,-0.5900472983239226,-0.5271798187345993,-0.6120416233329963,1.204743012382661,-0.5890675461997971,1.1906530570727152,1.109981232417169,1.1398947108946034,-0.5122377745696666,-0.5797039077044076,-0.5486808781752018,-0.537333802613943,1.2331048288972632,-0.6177859827510779,-0.5682502048525611,1.1950072119251862,1.1905238172731334,-0.5944005364955313,-0.600578897696972,1.1461518671101496,1.2040537634177881,-0.46192746765133297,-0.6128690090864459,1.1860712236111561,-0.5402810928918785,-0.22802033551072526,-0.46666506881708203,-0.6227726681613412,1.240946062525954,1.141743275419075,-0.16280397201276034,1.168900444251383,1.1175502040867604,-0.44702530080623293,-0.6185209087512477,1.151776317978365,-0.6016441513504435,-0.5275229815937276,1.149296001183813,1.1915108919024913,-0.6274600168882892,1.2031343531940937,1.1888790826333315,-0.5636327947037685,-0.5908209890493087,1.179570939638929,1.2004462109897036,1.2039777693643283,-0.5365327889260415,-0.5405152783321547,-0.37351233152779406,-0.4599391017153847,-0.574567599864524,-0.4993708675638476,-0.5928251515256603,1.1822866416573887,1.1937183151833108,1.203817554807834,1.2077570948508418,1.233018318048671,-0.596681166845506,-0.32934014611306195,-0.5874669963031881,-0.5281353365749816,-0.5547607211961406,-0.6121872211946277,1.2090306436442355,-0.596117041684854,1.1934689767575979,-0.5450977373619049,-0.5343548806224085,1.1825954207457976,1.1235000787544158,-0.6002150546435767,-0.49498920465677193,-0.5591628748358841,-0.6075731037177652,-0.5926976799297595,1.1612712123521338,1.1593666274477645,-0.5675287183059776,-0.5909626814597271,1.2036241402087735,-0.5066765366671875,-0.5514761885180407,1.2024091774196808,-0.5192637740989532,-0.5890464634288759,1.1724096281820482,-0.6212951032436224,-0.515002326730765,1.1285433645960805,1.1056290278191916,1.1296575779294504,-0.542916412823392,1.1892885927234678,-0.4923456812385229,1.0915905016991219,1.1522129896082418,-0.5470103061583992,-0.5768892626965287,1.1280107330235856,-0.5310486998247328,-0.5954502288004286,-0.5243857443754015,-0.6061219594926459,-0.610065141489995,-0.5417516573872994,-0.5474530431209774,-0.4986946133256947,-0.5408819323165139,-0.5370748595831308,-0.5522787579931657,-0.5281213509855142,-0.5487641664162092,1.231686708535562,-0.5536854500198454,-0.6019626120601045,-0.5515015658175653,1.1832345936082589,-0.5847816265425106,-0.5756026660194906,-0.6168834654979172,-0.6001659168554657,-0.6371786996575456,1.1823164848153704,-0.5471781443342184,-0.5433705602380936,-0.5854263862904318,1.1465098342939355,-0.5400195337674231,-0.5324868167953911,1.186659242468258,-0.5708493594492983,-0.5948327078765574,-0.4983246541373774,1.1649233207122687,-0.5359970492607422,-0.6067641268952733,-0.6077928296507634,-0.5081905179504695,-0.5216294600778315,1.1741262828395254,-0.5613163419460273,1.1612581628909617,-0.6060252268670745,-0.544213521691104,-0.5675660223133322,-0.5478040560554416,-0.5597759234327692,-0.5285319674438629,-0.6107425851831387,-0.6183183316926887,-0.6428274269463581,-0.47532756796724207,1.1363362602857443,1.1957587575029407,-0.6394033114416122,1.144356246190637,-0.5574135329813783,-0.5346427607980251,1.1291415819155621,1.2037848365965953,-0.6428539271908279,-0.6094966161131965,-0.5141231860458235,-0.6063564431579413,-0.5309098432110979,-0.6335194886503275,-0.5101111158832607,-0.5352234817008641,1.1839654248727336,-0.535695963182417,-0.5772561446442069,1.1258284894995452,-0.5866275585064126,-0.5503361542435043,1.1712653428817488,1.124773722926569,1.185125990761177,-0.5556625710376343,-0.6321631198814955,-0.6277884492823375,-0.5349686983608073,-0.6206516312392704,-0.6047503866236382,1.171633125796986,-0.5394681121662532,-0.6245790252379444,-0.6256548432925684,-0.5492601288335587,1.13760272189214,-0.6077088879131425,1.1881583427010085,-0.49871386559043485,-0.547157940063159,-0.5466771223908132,-0.5371810217351306,-0.5396240270991841,-0.6083799467916507,1.1694425507734165,-0.6042301204021109,1.1852739225973368,-0.5862193545282658,-0.544538831373743,-0.6130332615648098,-0.6231329264486085,1.150534055929902,-0.5833849073164985,-0.5916937309227718,-0.5438208880978408,1.177989273675621,-0.51358224514626,-0.6114743451673196,1.187437904231903,-0.6296295419842372,1.1824963324751907,-0.5122495188534553,-0.6234666629388106,1.1880982299655365,-0.521535195912606,1.17556504840396,1.1818995710141718,-0.5621316783685194,-0.6124906527126631,-0.6055493851607966,-0.5762115500991108,-0.6479431814367632,1.1172999986711685,-0.570699550710543,-0.5368753380953782,1.2019118130861899,-0.5508864684516284,-0.544758920293907,-0.5861856382928472,-0.607563852054071,-0.552818709059287,-0.6051059120024579,-0.49981839312596327,-0.6205062531470139,1.1535582597653886,-0.5950136099697046,1.1880852819564802,-0.5919658626522202,-0.6063416334325008,-0.6255968505565868,1.2106557592056064,-0.5246501570952204,-0.5130402067393113,1.1529706721938136,-0.4640804976105837,1.1231584404969663,-0.4814149308087661,-0.5206261414958512,-0.5935939094241159,-0.5191019511802291,1.1865816417110162,-0.5474960296181587,-0.511786938460565,-0.5339824827376571,-0.6085654480976693,-0.6395476195607863,-0.5377438325224947,-0.5418896632389067,-0.5047741728738881,-0.5606944119135545,-0.5015401701194809,-0.5225453146602287,1.1758208229001632,-0.539576377409037,-0.6409327336955968,1.17953984086813,-0.5173376548697479,-0.5633100180850013,-0.6112390842141047,1.1818056873759901,-0.5316028407441554,-0.6234162414409941,-0.5958747196742684,-0.5937993184136025,1.1493815925748283,1.1841241717293212,1.177437678703236,1.1908868181477759,-0.6370548748655541,-0.5669996504416046,-0.5934827873188812,-0.5549441447468533,-0.5529407601354193,-0.552795704522319,-0.50289734490602,1.1801127307490629,-0.5839532583468612,1.1949531779016906,1.1849673875662647,-0.6165720314252149,-0.4758553241084087,-0.6277601286389581,1.139085302476694,-0.5356430764274923,-0.5241491529365823,1.176854031553956,-0.6246574189096626,-0.6059513663296128,-0.5343143670197676,-0.6225608407363914,-0.5574417644433832,-0.5335515982270982,-0.5824931131889128,-0.5378572117736581,-0.521432753927017,-0.5897776190000381,-0.5214259784945001,-0.5927127021937583,-0.5325734238567524,-0.5228665752972517,1.1847302002276332,1.1903776132705508,1.1804839024161744,1.176737492931228,-0.5377458979813688,-0.5484772249072002,1.2275687746541266,-0.5317125757129588,-0.6351947026100176,1.1493726794201666,1.14024467692703,-0.6031443418316753,-0.6104251138639546,1.1798929218198873,-0.6092216310632644,-0.6240745040809759,-0.5769616172427406,-0.5518372818828905,-0.4850522113552245,1.138460887732765,-0.5278125646098416,-0.5410835004545126,-0.5136405389911883,-0.6043620439248302,-0.6041116856417093,-0.5368643915025018,-0.5382051513452372,1.14089534516181,-0.6212097768137321,-0.6036729606359369,-0.5901157602780019,-0.5882106825196614,-0.5939060824043426,-0.6313782098218917,-0.5467680590885198,-0.49330524577048035,1.1630374609001486,-0.45506436160946634,1.1795940542998984,1.1392426996910292,-0.6068847956439157,-0.5452705223891829,1.199029140323186,-0.6077311134847964,-0.5876886913345074,-0.584068050680499,-0.6493427734449603,1.139642061019534,-0.5633922476277541,-0.5399087721930843,1.1856743455319707,1.1601032544481027,1.166261135970424,1.1945682294781037,-0.5779666272022845,-0.4996778527673864,-0.49992811364239037,1.161140306144158,1.1737625034815433,-0.6279684079017075,1.1790766413865283,-0.5317433573208047,-0.5516580906963814,-0.6223320180975218,-0.5350325906459137,1.1869672503997089,1.184519533716337,1.180412072253643,-0.5685190618861445,-0.6150055327146731,-0.5793053025897988,-0.6081974571820736,-0.5242802006857081,-0.5224079234787978,1.1909003962946951,1.1832524016377386,-0.519284593608713,-0.5619803401740578,1.1332240224492491,-0.5589662552121542,1.1464855118095882,-0.4588901945430562,1.1827035000957518,-0.6253602642482126,-0.6059883420958664,-0.5749409919929469,1.1112270974381822,-0.5777255334565379,-0.5212204592929068,1.2036591852600864,-0.5908567014025701,1.1398243524535419,1.2053905806341325,-0.5359065566562377,-0.5438365002979121,-0.5067195320508576,-0.5067839433078012,-0.5213262405175917,-0.6065624428155088,-0.5772918867970837,-0.6113784096984769,-0.6016354668233354,-0.4895317951839813,1.167517379437568,1.1827248244458035,-0.5134836287518357,-0.60469038699422,1.1705723884762251,-0.6028089933189735,-0.5822076306911127,-0.5816105383889992,-0.6315883820315604,-0.6082133221381852,1.1842102078986536,-0.5615778037989544,-0.6118348451569868,-0.5918569511060983,-0.6276723838596455,-0.537220386836609,-0.5203836908746351,-0.6040536535336669,-0.6386034550551656,-0.5355617359851972,1.1699206473237114,1.1811729823741237,-0.5433073565442446,1.1738081940049454,-0.524823531536363,-0.5461896492808378,-0.5247993830190939,-0.5965733721689529,1.1798995804497159,1.1935123509957375,-0.6057579341740629,-0.5107424477078734,-0.5358793211478092,-0.617745630623794,-0.5376058152711775,-0.492291853259134,-0.6093899690881737,-0.6058979336720248,1.1414649813352324,-0.5094473064079471,-0.5387008616591316,-0.615636440023517,-0.561386401257494,-0.5916962745968642,1.1855536291714102,1.1752572074091678,-0.6187776008915591,-0.5220025752215787,-0.6091575542576091,-0.6380332175393936,-0.5853362364510828,1.1880745795436447,-0.6170341468966201,1.1917668663071654,-0.5203013860754844,-0.6251449068920767,1.1650948428437222,-0.5982001737963089,-0.4852071263480735,-0.5385654672282678,-0.6080178771734184,-0.5480715066219181,-0.552165145986817,-0.5451138794690258,1.1351319573296859,-0.5666530464797385,1.1852670762907254,-0.5480162752231443,-0.5858341192952551,-0.5730971556325087,-0.5372691768386273,1.1823677358497933,-0.5047499155383472,1.1585769249603337,1.1706767968068472,-0.5524779700507443,-0.6059356464261937,-0.5692641264697798,-0.5273093550197059,1.1701033856994678],\"y\":[-0.281591676982565,0.047118630353416006,0.33381922711411505,-0.22503594371073973,0.30521865399078024,0.11825550600042754,-0.23598699938183612,-0.5255102152626533,-0.4776559612245014,-0.04195568879299124,0.4391993553590086,-0.2703402905885103,-0.4111535362657749,0.30464202626771575,-0.43110084015256,0.29435291178742984,-0.3286402090983943,-0.2389199140437758,-0.19996061989894612,0.10919413659642811,0.13722692108182624,-0.26957180325199176,0.13239162409169525,0.20511230941844605,-0.08484368056391187,-0.3473113578473654,-0.48975894726156977,-0.44264541263107393,0.19566387282670833,-0.29268219889006025,0.0593794065831763,0.38180435536099017,0.28367096432870514,0.41382569062820185,-0.17974570273259197,-0.5927869191707695,-0.3174419748556213,-0.44267575525537406,-0.5642136958720504,0.13508201027538935,-0.018880559150715067,0.4064988503332327,-0.5299005745358834,-0.4288051877448869,-0.4074149255077239,-0.19664468397529355,0.12581291085728266,0.0354936351021742,-0.2983947491470675,-0.4149075804861043,-0.4744073926775817,0.2652176453983878,-0.656692399554755,0.11137022491045818,0.3594661893130208,0.14245236016537707,-0.299839615540098,0.2102027554386004,-0.47826735429358724,-0.4688446556181967,0.11275385090456909,-0.3938576148493565,0.04188916952233528,0.17063288085867598,0.2700648376364461,-0.16747636505002897,-0.22239203692593265,-0.4500912421376598,-0.5279643302885334,0.12672305520137256,-0.18536147626041447,0.201887261246755,0.15467989076229918,0.28175509803281273,-0.2203772546841732,0.6418941730464223,0.608547067001734,0.04161519374361932,0.1198116686992062,0.32246867287890774,0.19047210628402733,-0.04011415937989491,-0.4704563920867841,0.2986207435364103,-0.04770519920589365,0.10921712367875276,0.048997669049011115,0.09472628720759561,0.30592493829274015,-0.5015557276082365,0.20538747503844407,0.3194167840074395,0.06534644519950748,0.2825222087947248,-0.1364524091841114,0.14223064921356815,-0.37312262894127823,-0.15471132870967422,0.11212395113556876,0.1736648803576015,0.07527267140597364,-0.060913040727176654,0.44078787448719803,0.1006224118248089,-0.46036261485623464,0.3248419787729909,0.2878363221451992,-0.27809573338232507,-0.4721502570804794,0.05539978845702124,0.3010220802440738,0.06112653373638951,0.0651649909199722,-0.392512207841869,0.09764221690300594,0.16796825831257609,-0.2285907972817042,-0.021766963768554397,0.5217913640502801,0.03789510998275256,-0.25615676107619334,-0.1904153636828903,-0.0630692997052765,0.12135885764119074,-0.355854105809479,0.07382373849162967,-0.49686613117981115,-0.3431145729220352,-0.24887175827745892,0.3104910379135319,-0.06675334215752275,0.32363481814777023,0.2088083027424547,-0.44833672477105624,0.7021501924355056,0.18396195536241547,-0.17939926878811152,0.2682213749599282,-0.546781903167561,0.21717679003180826,0.24942873771851992,0.028445060931326344,-0.3087722602652413,0.27058405489505144,-0.4303527987004419,0.11138552885551516,0.3660241789158584,0.28106030589558934,-0.39061130649071585,0.3579664654126759,0.2384343977899621,0.3222368398395569,0.014440624430983505,-0.3828637050343683,-0.03996159604307834,-0.17443813742931555,-0.5805786940755318,-0.43751006157826083,-0.025027228797230572,-0.17934717088046437,-0.18770410783527453,0.058372740654106685,0.3696439404200742,0.05596565546006512,0.13976275046361405,0.5759119654315522,-0.41249396919164805,-0.34010882759718347,0.20809781290625967,-0.3155118451377381,0.17296823215911675,-0.307642531336779,0.26920737287174334,0.09874051272242172,-0.0823858384928181,0.11102009811806567,0.00937009574704626,-0.15336469362135527,0.3315376135113546,0.051098747322477926,0.030774811390929073,0.015648807327903802,-0.4880701316645805,-0.2124849479949513,-0.02575416515340227,0.11792892864837205,-0.21217375661315635,-0.6006143839986328,0.2073883388839524,0.4341777295568696,-0.1177789683811421,-0.42657038145564924,0.2530688137953944,-0.37878112540199543,0.7233482751581697,0.31155589617024576,0.24785925436680306,-0.3835028062133189,-0.4596321733937861,0.21714485198782266,-0.22309281269614034,0.17862141942550255,-0.16935283141392246,0.12737474574969126,0.17275781893098277,-0.43879684481268855,0.2754542739703542,0.27774030015215406,0.059348018253926736,-0.04518570593200227,-0.2901932789720251,0.057790732471667765,-0.2667483808885031,-0.48771929459321794,-0.11634004332794265,-0.3879783037801079,-0.41197749970096464,0.11984558278575895,0.03536007155899731,0.07275447089294383,-0.2021859785727686,-0.4004253297853636,-0.4009991722383537,-0.42228783613469906,-0.3894225115914049,0.23133059219435184,-0.4383196896085588,-0.21225106638092292,-0.3240581481751893,0.24863576165505025,-0.40742197798271296,-0.017639760940883063,0.7782371036336725,0.19122672939450205,0.0484310223018778,0.22222174545249554,-0.2951362048999495,-0.20623437291838198,-0.3506749237280658,-0.438182833475429,0.14260694472907132,-0.34333724663177817,-0.22731811792301757,0.24091823744227445,-0.2399946284086402,-0.3440103481969953,-0.32412878878920404,-0.33093736179695477,-0.3721828702731931,0.6082934262259697,-0.449743562317641,-0.3267200290089189,-0.31918948756012294,-0.3779369245511785,-0.4432089709566034,-0.4703328985182645,0.20437134346310248,0.01755222711912107,0.2741530281850549,0.4195206387263499,-0.3436911444281831,0.06901713835971235,-0.27177185309416174,0.11360950623321185,-0.4500576832635667,0.25974255640561655,-0.2779459227158163,0.29973700471496156,-0.39287739890721196,-0.29580385263778247,-0.41415322246216174,-0.1806010886297737,-0.2912325595120431,0.10239217262530224,-0.4478943829059759,-0.4235068234441629,-0.18009900569839465,0.14733906179530518,-0.1317210607941421,-0.26242714928555244,-0.18294373092077376,0.2283368410471517,0.22087861297846345,0.22493714682417038,0.0832385320814404,-0.20939382865924416,0.13823546139051876,-0.36552920100030084,0.34849507413038855,-0.23738949362700948,-0.20120415520527732,-0.11090022476204942,-0.0011585995987130687,-0.3057722305662449,-0.3395766033210137,0.10840056524317228,0.06268362369280854,-0.3266463879028871,0.14195330695780856,0.05827073519676678,0.30757167299622257,0.2858369985259617,0.14154580308819695,-0.3213741881476894,0.4065577156462258,-0.6189060226781788,0.2819794708161807,0.3782952341853773,0.09978049792327433,0.13457225571950232,-0.47284208137965,0.17627451045847745,-0.46356841109615826,-0.25969032551961846,-0.12790595601469934,-0.14661036190773868,-0.34818673625194047,-0.36670907151065923,0.06927616520807602,-0.5917888594795603,-0.3659214147603204,0.01261927841105865,0.30090339779081215,-0.0967990436129893,0.21123447217533226,-0.21118388673387203,-0.6454402230310922,-0.44261674929885253,0.1775541492059843,0.032578428949577166,0.010902787361994785,-0.6585470483900426,-0.35663814110639686,0.0939996909192269,-0.08894844184617874,-0.29280117444872544,-0.3085918403135415,-0.0680922572679819,0.41778466641102624,0.1842149980972915,-0.34143790975161503,-0.17530736574511763,0.3197059012636448,0.33335719508675293,-0.3378556399664046,0.26365523310060396,-0.5724368596960546,0.04556714174049505,0.3310334362701096,-0.2220069043299601,0.036709877554532054,-0.19205825513918576,0.19579776366141133,0.24339189480371676,-0.23521293427268736,0.2336665229557748,0.35594345899669094,0.6246699171548254,0.13093047960990264,0.1361640766779081,0.525142867501539,0.06958653118507875,-0.08920026038935484,-0.38755918189639055,0.07671784158312679,-0.24130965001170226,0.26821936251333156,-0.08593566540235946,-0.3460034887058054,-0.2202214498785983,-0.44851213474092344,-0.20886261389545535,0.36990173944113375,-0.6669448543035867,0.4079166488816168,0.1269109239490153,0.2641815996756662,-0.4017058996345893,0.3652977916638373,0.09451676591149431,-0.06851873420340729,0.13111099649031216,0.245801146755009,0.18822991719994725,-0.5695663715220507,0.020330872373214924,0.4390675202240901,0.5996940363251442,0.44245233112544713,-0.29007315108176174,0.11576416596922544,-0.29684417461559703,0.3248709491352773,0.26937649106742295,-0.4073108160057487,-0.4380619076524342,0.2254977216970977,0.36475247964971497,-0.5276947371827785,0.07065591609277148,-0.3617084153416917,0.07555375207547559,0.2478621069819006,0.16640954293260582,0.25734400255233725,0.04041845510776556,0.4276367382486053,-0.10652738731774153,-0.10693830739505139,0.1903779075014015,0.3390910134178427,0.110760761198981,-0.36818069558129574,-0.5459672037758275,-0.41257357422451474,0.19802631316145441,-0.4455126554279399,-0.4797026269318124,0.15929680329608295,-0.037426129003241694,-0.5265300725143021,0.21233156097921477,0.10322219768612949,-0.35251795023822485,-0.22696579376361856,0.2176982026045598,-0.1841802667235376,0.17210308271835192,-0.2755929242860528,-0.5373784261725734,0.3123797084034619,-0.37317905301956195,-0.2719417023085556,0.3379065626339583,0.34811126846372364,-0.0632024380062748,-0.009577662982582065,0.10078868027216266,0.033081105874605214,-0.19666687688896434,-0.6459407937888473,-0.5738587651970514,0.039664469843546206,0.10594835774034177,0.06902822425479115,0.19587100993665246,-0.4341653903732633,-0.3431818897302188,-0.2593477430788743,-0.30424668807689814,0.06310636136508131,-0.25134196471940945,-0.4614327065375076,-0.3386362125632538,-0.5664973443987296,-0.28309379768336174,-0.5003213432177664,0.2481033082700766,-0.3980460114255459,-0.19972806262183485,0.21490180094464054,-0.41464133320404895,-0.16910924990828077,0.06027891496371384,-0.15006461753146197,0.04715052719854076,0.2508307362589175,-0.5007566461357215,-0.07702838792626117,-0.3125826083853311,0.5253115619824906,0.3634017332034214,-0.45049301594057384,-0.36414138119233574,0.317972636061308,-0.1745586408778724,-0.38727646769974516,0.15299550576489676,0.3261120941779815,-0.14667485992026624,-0.24821416370015684,-0.35343008069275955,0.18069711827595933,-0.10605672650612555,-0.3269129092353755,-0.3681193833632123,-0.12293551403647213,0.2894256226497684,-0.5423371651205469,-0.3515599720629932,0.37239072672366935,-0.3676946867979509,0.23463118060193688,-0.3255584378385426,-0.3562357854428415,0.324976276214009,-0.4834892234575877,-0.4210066174658229,-0.11275850725482162,0.10479488156480064,-0.47452774178359747,-0.2771461123988904,-0.42954477674290836,-0.3558439865818593,-0.4229591324444935,-0.401605840996626,0.3924209270071839,-0.21188212606660994,-0.1624162739500692,-0.4338734964429256,-0.42654389123889797,0.6242582842530666,-0.3221839641117819,0.2525106433663101,-0.3915376076693131,-0.08964894269064588,-0.09144161364871134,-0.31040241907329724,0.2684802343253549,-0.19264024152597697,0.3752563038107655,-0.1438542439596585,0.04737622814831113,-0.23139604286638135,0.08877220883616667,-0.6096621895792946,-0.008407383568878584,0.22031718256463353,-0.2723716143307455,0.06498218691429761,0.6137321106674668,0.06886436021085914,-0.3745897778054186,0.005811488267914302,0.10273048395700048,0.08122802043972814,0.10414293433931805,-0.44462162602790906,0.07966232425551893,0.07698637012606059,0.3119607498490281,-0.3477607421631764,0.11200373000561427,0.3550641468294533,0.2099412407975658,-0.44751236350316875,-0.2540598029851702,0.06663801151993042,-0.10052364909020997,0.212138109975013,-0.05014270989186197,-0.5112832296537696,-0.3191907905125567,-0.3373799146863923,-0.5803674564103389,-0.16705065599288293,0.2126931460960953,-0.4566277300724461,0.058928020643408345,-0.3038657216325472,0.04846426832691577,0.03905238607546715,0.2834718453332355,0.09244833715817301,0.277914952337257,0.2255425935076254,0.13648601109359698,0.396144726119632,0.25451999336826325,-0.37714714996360615,0.20746610566075468,-0.11745962416462971,0.005001750466816304,-0.2012721069741374,0.1008330061579782,0.04250949989355995,0.0048301768985523005,0.030013954020399518,0.0886543656979117,-0.4263544047531231,-0.32076454415949257,-0.07382090501462067,0.10154517815409222,0.10620657715778252,-0.3127266210205628,0.22691698829687373,-0.3134677100638857,0.10364550646795213,0.2930634850063773,0.3449487587954016,0.25622810608380614,-0.5397912856695466,-0.2576343494774951,-0.12986704917508216,-0.17986131713952633,-0.4524231801864228,-0.17189074729483647,-0.08817690716403992,-0.08619842172799186,-0.44970711047895046,-0.18850404402364532,0.10690016781335819,0.4125034393719734,0.005293356988852929,0.010842647590940578,0.2666455975625719,-0.35638031756830135,-0.6363701901635773,-0.30085940736906686,0.21700008839820029,-0.2682235215541711,-0.563277738191753,-0.255333606505475,0.5080456504131589,0.1373354017624344,0.33771914832851385,-0.5863164482784338,-0.0029048591107280718,0.6406526359344357,-0.006158631258913666,-0.3088946688141261,0.4950579058447145,-0.3015036628294844,0.30536380443201283,-0.3938104140049257,-0.3607572504333419,0.6238072906799215,0.25585663443068235,0.4071081686273805,0.3753016837492853,0.5945683758117765,0.6087527304066425,0.34107370700062406,0.559061659437315,0.25939202497335884,0.2751445228678406,-0.17452192212677126,0.2430768816086844,0.09479356844025259,-0.08428004439941592,-0.07103304724041375,-0.31403881276074197,-0.20837290252901633,-0.328173576291335,0.21732400727904294,0.5400666094347711,0.33330309820516174,-0.10611968744123201,0.08091152477896034,0.5819304803863856,0.3220511079067098,0.14323562282344243,0.015484451757476992,-0.21798854575343352,0.3832685945414589,0.12867640139708242,0.47755620590679415,-0.36098999092721046,-0.3447892638107981,0.32430409609626215,0.30585889118340087,0.22729524017067337,0.055124435859107715,0.14576133841407288,-0.35862685196665106,0.3379287972358703,0.24045134508391164,0.1630760795235303,0.12999780090393925,0.3719522631534641,-0.469650193613468,-0.4791793444862569,-0.34129585992185546,0.3653374394485048,-0.4501292378324038,0.06982127227720321,-0.3453961517485341,-0.2584138325756588,0.34074588610211926,0.4680394339251576,-0.4854109741056402,0.15527990935304672,-0.3477379749759676,-0.4567264598281983,0.42463097409977046,-0.37013266722471067,0.29709950656428635,-0.33675329490929395,0.4002345517200732,0.3419284793551057,0.21954045232702973,0.7695693330991334,0.289424795595895,-0.5127237167812296,-0.059835250419409666,0.24038821417307424,0.2720477763089224,-0.37730421392042596,0.3038483412536875,0.15658894126980863,-0.3489894296925078,-0.22186100739262635,0.3321379536504706,-0.3200921367421857,-0.35257949718382187,0.1906663760969391,0.3245731684072813,-0.4380621644285678,-0.3094668649118272,0.5650015710084787,-0.07231998164585826,-0.29696796213513893,0.26354840849208616,0.40753796567667855,0.6231963333520636,0.5340661022694447,0.5221210872177338,0.5063835761475964,-0.365740404671814,0.2048237324628382,-0.350742295542943,0.2330651827062114,-0.15344729509503757,0.3754227308485529,-0.20299392513567616,-0.3017556201034796,0.09723222894309218,-0.008359708953281204,0.1337013762244833,0.5515659079569264,0.08447131524829944,0.38956679498743124,-0.21271685798665954,0.24473948778278248,-0.3726064614537384,0.2747449890529001,0.3942517811839844,-0.31625641230569346,0.2607997872747941,0.2895465043781429,-0.11606379158041437,0.1828125100148504,0.6316526009287331,-0.2117175315631854,-0.22143104583693715,0.03074423519566649,-0.3541196669533795,-0.54410153434261,0.2920797834934198,0.7493999539527528,0.17464338914610653,0.5973069277992507,0.3131799157827668,-0.11074265411142883,-0.36286293471067216,0.6085243764952742,-0.35912794168944645,0.32978086833302217,-0.32616410135049195,-0.015061207492993913,-0.12431974238375218,0.26020774680060577,-0.17801380742867393,-0.37024390416023817,-0.3077301280582964,0.1234704662728942,0.35613879418212696,0.39127215152265515,-0.3215815103165757,0.3304854362208531,-0.5147514959128766,0.3917128442255004,0.3712025081224908,-0.33377244473044054,0.30687315697604584,0.18612348403644344,0.5438737738696702,0.34506590711941654,0.3575665638571155,-0.36119571679990753,-0.3105373128885534,0.5358428637151154,0.3574926252675121,0.32541771763935134,0.08569978168636781,0.45906580827589266,0.30582361722999335,0.21290516419443534,0.6995555890228693,-0.34514334256775614,0.2558648934199289,0.3835128037983064,0.2834227739367564,-0.2959296026974966,0.26379460077726297,0.3522298271045741,-0.41213865471893557,-0.1825112005578875,-0.3891372958169461,0.10080615330741664,0.17455869225546314,0.24477088762791754,0.4018398539810388,-0.3927903105342299,0.597162148235604,-0.1572272512024478,0.670757326609274,0.3705412874600272,0.6085176255839544,0.32707010811399545,0.28435257371183303,-0.05765019669283998,0.12394992971250217,0.30249456606909864,-0.48479616571558914,0.35024770922440057,-0.3544745045478042,-0.4639495705209952,0.34573987209256213,0.30376228481432316,-0.13118641039344273,-0.28958995733577314,-0.3372815149102632,0.3534979604903737,-0.28543348276466773,0.5357563828380689,0.4556686115529802,-0.3023281098830285,0.5381390260421082,0.45222261794209234,-0.1374735339222245,0.2885841347852764,0.3068546731009831,0.31909436469888186,0.3414232490243564,0.16718210676001752,0.37993817553135006,0.21399174536487042,0.2124965813611303,0.7345118533011242,0.5556250942259474,0.2241380281417002,0.3173860377654221,-0.3135117354299361,-0.41748578459374275,-0.2778239337365154,-0.3319746512811417,-0.36473284777987397,0.28174077991471214,-0.3522046150774745,-0.2357960716737846,-0.0378957286459572,0.6026251411577385,0.3696330988026963,-0.09773828351336718,0.34839305161816786,0.3207529985697614,0.3782226932657957,-0.269769251161996,-0.3473697762334312,0.32223694948451603,0.49546153937701587,-0.23047752643933783,-0.3150603164234316,-0.3451837445902028,0.6126925809694811,-0.18958259063341346,-0.16109504010624906,-0.2696818519222035,0.24554108857971643,0.41636599098580607,-0.033953753351886946,0.30490672029833665,0.29525258504250834,-0.12784625204355682,-0.28005088279540796,0.5662307362583531,0.19547645337526004,-0.4251691927161603,-0.19807820875524135,-0.18179513918625284,-0.3546213023709651,-0.2572860957380534,0.3276533447009604,0.3777802015189241,0.15568995981153724,0.0778685237354025,0.16604118506412166,0.15898470052981253,-0.10803484569703556,0.3386069423468799,0.3400851931371501,0.32968109638137677,-0.2282997147245965,-0.44691099559469943,0.26937283719019933,0.3474326266561942,0.6016228657054965,-0.31977702015317105,0.5118354975496335,0.23365786815307665,0.29713646805530103,0.21122171779966536,0.38676983257051956,-0.3477496951486893,-0.017799763041569674,-0.36538802127080766,0.3669353697371921,0.2918588620576868,0.26210704353086667,0.2831126721252767,0.306660047864244,0.05293669333729076,-0.21051603053884124,0.576945440501389,0.08100003602691254,0.29805897156088573,0.1918511228840022,-0.3955671176779455,-0.35860957301564195,-0.2500599889667918,-0.10637445338425082,-0.020805777368961283,0.2958721373496451,0.018941869642521307,-0.12583582372713104,-0.11037700729556811,0.17720805336139187,0.35483020407884747,0.5820936462728522,0.32132109420794425,0.3805814777469225,0.29879930187874787,-0.3678577647290402,-0.06094382961262475,-0.33722069649617026,-0.16720049828606487,0.3105134450286238,0.20640937762080164,0.26735042080395227,0.31342867483938897,-0.31994161454602665,0.2709920787305385,-0.19437849923004066,-0.11129425345892918,0.041632763904408135,-0.3114009180310187,-0.34562443133143544,0.2380620731801995,0.14931001211244765,-0.4979615246744832,0.19810671780114011,-0.4406319098626596,0.5769897123431833,0.29259289124615634,-0.43137532990198296,-0.3323037146293435,0.5310634796460066,0.009923356841773152,0.21048060129521529,0.5579203414400421,0.2607181614968236,0.3593181071332123,0.5449808305456335,0.35841711890221584,-0.2810676726029903,0.010060499406988145,0.4289907009485075,-0.3533568075593735,0.30422530041739565,0.3343130277371336,-0.31565172440301253,0.5161469331851921,0.4169873163558278,-0.351172345152435,-0.3724857676483541,-0.40000784304040504,0.30703740185312156,0.36742343796556987,-0.36933840663772927,0.37855653095140007,0.2332233066081099,0.3034812700695578,0.1790775945809058,-0.3605524610038783,0.31751474936208257,-0.32254293761145875,-0.3131821882055415,0.08468404650297459,0.2684760210677218,-0.37552558709516093,0.15820487157572435,0.29493212764679455,-0.3270568097042957,0.1796324816561838,-0.2235903715507627,0.3698676727504742,0.21959265444253134,-0.35958618521474467,0.6382843151587982,0.17306686044694747,0.3137304578959327,-0.4784946225444143,0.2937183506929085,0.21671632049866907,0.6380980171383401,0.08538885625421866,0.006154580384801562,0.35960190740025066,0.26785818483167767,0.46796256629192057,0.12323088769576067,0.12522750316125753,0.607326351600783,-0.2677315276059915,0.4167870609544121,0.3018900851778013,0.2911113282138165],\"z\":[0.12181164314463813,0.15948687989886917,-0.01844611843793085,-0.08393224503949272,0.13710662258145512,-0.3196369289100546,0.045706191655165915,0.18193635782844453,0.23906958050416655,0.12211412511191704,0.6407144707298442,0.1827738460260443,0.14704127366870154,0.15353788773567414,0.13373773129328279,-0.32205013614122385,0.1807485566372077,-0.13274855334236316,0.2381545999097009,-0.3615434493954636,0.11053664349367494,0.1477581588705734,0.2161776655905922,0.2598933011581455,0.09330532527483815,0.016949931640183918,0.13236629601155173,-0.34384823875392967,-0.27893605864890814,0.09508177252838118,0.1109246251055734,0.289465415254626,0.25520617200142676,-0.2196391872114776,-0.27314738755441936,-0.4290821784083928,-0.4002618845990681,-0.3300950894354156,0.26496772997393037,0.17550723936196952,0.15689150057606036,-0.3597761257262689,0.10667861060802424,-0.3803887740272281,0.14313551364128752,0.2149500967601608,0.17427448155617162,0.17670907049565096,0.10140367551979901,0.20198737294613575,0.17032839632186697,0.3424389073702739,0.7281531146591841,0.19605398976150987,-0.21628564863172925,0.08758990326954744,0.17927032599292247,0.25067248944669746,0.12198016982887493,0.0686755740305836,-0.3019579520698698,0.07065236689080849,0.20197028411068024,0.25104142431033766,-0.26500561117872873,-0.3776136475650916,0.0230071522695747,0.12736205252669505,-0.46755138848501193,-0.1309126138591056,-0.45903792753826506,-0.3104727995798057,0.19999184532249892,-0.35640486403662114,-0.23297964362947146,-0.19276462853821466,-0.22847004151801056,0.21389546762292422,-0.039244766339601674,0.14766650680015814,0.2951261303878883,0.16506800451500295,-0.3442313495392156,-0.03234208728009412,-0.2688635613765254,-0.34034320135157375,0.26608176643539505,0.21542847947104715,0.21665441899865587,0.16332006882526462,0.2378545189597934,0.41159707324191835,0.14983447956640375,0.22098791806186802,-0.0900004233519612,-0.3665045903477987,0.17597638439255253,0.17914545490155828,0.22864567171308772,0.22894343781476453,0.14780628155637698,0.21684934183427299,0.26328437106236285,0.2295916558284604,0.17552909712651296,-0.22751929127836945,0.28173850282735213,0.16187350459156255,0.08017892383162341,0.221927426427656,-0.32811839415559807,0.17290409273631593,0.16583786051023017,0.29543267985433885,0.14031052706669453,-0.32564618316921584,0.12817594444818847,-0.2700759871268057,0.3128387488413168,0.17783780019075585,-0.4020813037580174,-0.06772520646233844,0.19869680866070172,0.21445403760027273,0.09247602839051447,0.2027608555537091,0.046018110694105406,-0.22346797877851707,0.2038299454677404,-0.3189555372866393,0.11358007806082306,0.15886432116827287,-0.4227691584514035,0.19870389696773103,-0.04973645651363356,0.3046927497434006,0.05921825884377197,-0.27132504941870556,0.06597443096390468,0.17392970355397505,-0.3800815877587007,-0.2719414777584785,0.17924009763417495,0.5463104910063541,0.14180813040643875,0.14740410150349742,-0.025655515041634016,0.16750259245266633,-0.37881288528058354,0.21835274517530515,0.23243477813382749,-0.2563103337171974,0.18333604877381146,0.08733168742034031,0.24660270628249817,-0.48108707275670637,0.3049339077350401,-0.3442216839379258,-0.26591794502996446,-0.12309737382058955,-0.17967611353333002,0.15418085405537066,0.23738876837463913,0.14885570070435616,0.1911816339927129,-0.006940412763753403,0.15943259120238326,-0.3383748922088797,0.1790698252332874,-0.28738423922792256,0.2205854797978929,0.16371808538063767,0.03319496182322907,-0.3586076316242627,0.20519892003100304,0.2573781615420139,0.17556704742923737,-0.34418066935742986,0.19974294419387445,0.15616317027843815,0.16271542712575562,0.19438929508774475,0.13163094599055628,0.1644332678579186,0.17727714425897032,-0.34892186891800775,0.2438039838913554,0.20129535198928603,0.21439655306470592,-0.022010266163915652,0.16235531343787735,0.07537546124550543,0.14015684623864955,-0.3795122274369638,-0.0188178474052387,0.19854543356467394,-0.3526392861397597,0.3416820575847051,0.1893850414508358,-0.3797673063602596,0.14334139497117768,0.5738673695418568,-0.35876611219663873,-0.2204961265107632,-0.3230474084701142,0.2253786606687793,0.0679715100367906,-0.16892855455011224,0.24633189697365407,0.4366933934927848,0.14375909770924208,0.1513484976789336,0.18176971466355293,0.1873581439221485,-0.389554969807404,0.16499558996773794,0.2246080001900397,-0.41423646928825963,-0.06911611161854406,-0.37261674633668357,0.1658124215662418,-0.40972240050894443,0.10223305700384484,-0.3337045722095347,0.32982620240835536,0.1992009740281107,0.1964657659328491,0.27217963798560607,-0.30504412687185845,0.29839240049671173,-0.3880616396234482,0.40292434251167325,0.05898250510537283,-0.38773373780423737,0.22573717662373127,-0.36539813167226176,-0.26107653890051463,0.17096130966741488,0.291963233777456,0.08721418047187643,-0.1738262956673182,0.5521423087797496,-0.38577859596825265,-0.35055137569911193,0.24919381823909958,-0.38570444113465424,-0.34461620275392996,-0.3521563851509606,-0.0940322784361695,-0.179906963083483,0.07300091220674763,0.3620503544082068,0.1853784210393091,0.12477389210971557,0.10612893665123264,-0.4056177761159972,-0.3823513285915529,0.2152876658296319,-0.3845116783115183,-0.3350668375961383,-0.24559594823129194,-0.4090415237840415,-0.003386711626704191,-0.33617440164618345,-0.3716238503425165,-0.3744598837541778,-0.2820716665768254,0.23425579571603508,-0.13010228956476472,-0.3484113480480199,0.16092711923347752,-0.18484079847611948,-0.3305205827161918,-0.41109500616663897,-0.25272128708527813,-0.0689895731868446,-0.1018876557901429,0.2299384097908935,0.2545601308747087,0.11655814619518083,0.2715235178618523,-0.3155154032956073,-0.4378843089876202,0.15517458595574207,-0.36274827277891625,-0.37085704096918354,-0.2749909440657497,0.1838293754319864,-0.42777666398199077,-0.4056138978564238,0.10649315697241944,0.15418190634964157,-0.36065705985152613,-0.15514409470341406,-0.36495219216606495,0.17599168384962954,0.199307657600496,0.0501315248811989,0.2901775919053382,0.11975382823433613,-0.04195837037109555,0.22175343215973822,0.2741257142244854,-0.2807744229230795,0.19349379130338704,0.18886424470373503,-0.0505250866482247,-0.23986014964322802,0.24661517551431875,0.35176271418014404,0.15835406067304897,0.09359603860125218,-0.3687750674048444,-0.26926034061292503,0.41808012211449064,0.09537177972180405,-0.3021413105476519,-0.3081964060862388,0.398606626042664,0.09916285116322389,0.18314738104698008,0.25387169017540095,-0.23625535927778304,0.26373752760098546,0.09073237985106158,-0.21642705434860715,-0.013446006438940337,0.06572875889019042,-0.056951161292339944,-0.16475787713851142,-0.10682216552781498,0.7818770489837337,0.14875299775756964,0.19134571299896982,0.09926667066395935,0.04171157604079544,-0.3282665456946555,-0.1514044564333087,0.38915480867571584,0.20076248345383732,0.17906714267328389,-0.30233333660979617,0.09883905846117795,-0.2904338500066089,0.1865347933282479,-0.40411579828569466,0.1168012235127157,-0.29337525263305825,0.15954914968784328,0.3644244721643883,0.12929573155999166,-0.33436785838848476,-0.23453148419580955,-0.3223770821710834,0.28753511170074636,0.13794703488580584,-0.15441179208178135,0.3609962692141141,-0.31719329768763455,0.25321551293224737,0.11580121887079743,0.18108402068064253,0.183340959123775,-0.37895524866770497,-0.3305600365968465,-0.2215893349568358,-0.10624521533325215,0.08410687761213347,-0.4112471034604868,-0.27313903623190516,-0.16564705853150027,-0.33858074036457325,-0.35273825760960537,-0.05950798224936769,0.2592738905796746,-0.3280753662042193,0.07221114961267525,0.18717338005310333,-0.1105778376143998,0.1919482276844598,0.24568704017402015,0.2976586790759032,0.24835152280001013,0.13590659363661192,0.03755652989191325,0.43584626131825527,0.26134240522965896,0.21348898317839618,-0.17625487098950857,-0.2852850742368769,0.09522167962861328,0.3890216767159954,-0.23734084792651053,0.3590606739206259,0.11157401206871291,-0.2954274548222359,0.3807519893673741,-0.17885497068419332,0.15124915458680577,-0.37700995163584344,-0.015964587194467753,0.1725512551229864,-0.29866035674140196,0.22911493463260965,-0.22242752676811595,0.061318433204626877,-0.23872550999542327,0.26247159455272356,0.3506816347446227,0.25287882545160556,-0.30058360368985265,-0.3403025624497977,0.16933578931491172,0.05214859295637533,-0.03535753785624963,-0.4751628010610678,-0.3357538904396072,0.14732781675219436,0.2756200025109778,-0.1856157645220081,-0.39884992489238674,0.23482742164243647,0.2500042563080275,-0.12863977262628298,-0.3261961230099591,-0.40983858481273777,-0.02614320595351603,0.3291044306613259,0.17942858036642542,0.14325975038075617,0.3010340337959557,0.17767738529982635,0.2609777020611155,-0.4729870791360877,-0.26612636450760574,0.24958504572253976,0.2236139225043199,0.21870865832896016,0.2416573151001161,0.2856474165833103,-0.011842002986953811,0.04430180313633764,0.22187147499384102,-0.326510515259821,-0.38454687680065586,0.1879055891819355,0.2606901494349237,-0.4299857905782372,-0.19192128764637045,0.15029154049874646,0.049016579979877135,-0.333620666266176,0.19344899258331044,0.15189030233928344,0.14469183000936867,-0.023652784140190893,-0.10560362607458984,0.27697338477688116,-0.510860217337299,0.288738280092751,-0.2551825274884205,-0.010723108844937974,0.2737877720849448,0.18770296719032545,0.17730537360978055,0.1345585513049393,0.14913755353287245,0.07519699678314151,0.3170802685105115,0.12346114343804274,-0.329515903958688,-0.3386717561273299,-0.4056550316274789,-0.4043515883181294,-0.17521749405602183,-0.12367210894133188,0.18277183082525353,0.13332723099270066,-0.275319866322472,0.25699312952672615,-0.34621786980151154,0.14314919065455708,0.28199761799822737,0.05089311474946071,0.2066871488552053,-0.10822933465474384,0.3559997344473695,-0.38772439777975953,0.15951006315769656,0.054055486970062336,0.2369687920768138,0.059470668638240895,-0.34685130529240826,-0.20576794047325095,-0.10899323032248998,0.012563920732807848,0.08879582576357885,0.2612605632261126,0.08790033324019406,-0.35938400111200725,-0.25701343795848647,0.17010021169246406,0.1278969490573675,0.18731135276332078,0.004363451769320254,-0.39897293269055023,0.34955953026926384,0.2997060182616266,-0.40956795846462163,0.07398755449597345,0.23384982305022764,0.4326151614766796,-0.24038810856649076,0.20322484299395696,-0.39144875643993354,0.15998694952255083,0.04604761864273291,-0.3696195018313677,-0.3650331101833043,0.07449635403226947,-0.2729671530019409,-0.2332129346159859,0.19544129107415156,0.4533081896317099,0.13332167532592848,0.10006664534603595,0.32076879271102293,0.196370654657295,0.03788692159289999,0.10307037906067135,0.24990450198863312,0.20548710994844005,-0.33972565291498324,-0.08378864515389417,0.2727485799427106,0.12975817284663507,-0.27239667015399904,0.08128279291365903,-0.3603981458373243,-0.48966728266508824,0.26347517978243495,-0.3625327540431619,-0.38360587384656575,0.26705681869819153,0.2013410997498234,0.1110511821038117,0.23424520977773808,0.23534264856010975,0.2688468346712555,0.3342508731401426,-0.2568762386838882,-0.39630913658193273,-0.03689191008320456,0.22294702897083818,-0.33972370988306677,0.3142875824744021,0.3864648636104342,0.11854749005208305,0.19774233576662756,-0.16570745515460275,0.16088305696242705,0.1207781454211418,-0.2656895884331635,0.19044725586204833,0.24041791244549268,0.2770024069054497,0.26110529087991013,-0.2639054659089944,-0.34681388025301346,-0.28619436396370723,0.22893770171301578,0.15316521225168547,0.23147672842053188,0.27379172522533446,0.49425091290371687,0.18066470735050394,0.0831916906235658,0.06462721548314684,0.21456820884784603,0.21021876567967687,-0.17506073051168528,0.38659200956066836,0.3681733641485603,-0.37055801825305734,-0.3027872503690731,0.23028198830813654,0.15691756050918484,0.26731120802612407,0.10708981810535155,-0.2559091252067755,-0.15284960132389946,0.05914410201973477,0.2467444482121272,0.10956118776208133,-0.3363957319618523,0.19232779819783954,0.19704084301462957,0.3143560458484138,-0.18770130324523568,0.17003889159476449,-0.09272247942427879,0.25794791903389586,-0.3542163102282639,0.1023740925804486,0.050060829739177866,0.17436726047136342,0.2382063390440091,0.2567133007459114,-0.1495266826990861,0.2544734024708797,0.24408198440324017,0.1169677129714251,-0.3886646734666646,0.2986781764376037,0.3003955838457781,0.1348827903222919,0.18410380564656087,0.24106481719478542,-0.1528491332010757,0.21965300656880257,0.18826938787985592,0.28515149361185393,0.3806204807752611,-0.38127322238713746,-0.07186024981545007,-0.16366243280774742,0.3522348507648708,0.2075661971382893,-0.3512688622395366,-0.25972099552760425,0.0641777866064048,-0.20949543999451367,0.260726966430179,-0.28854411308661704,0.27838147193656093,0.25296622522502843,0.3133792540032376,0.2585103614934671,0.09518200946803852,0.07629006889545027,-0.3158812665374598,-0.1441979018249108,-0.18358811698068703,-0.40438943158846086,-0.4259260715312088,-0.31160363809541125,0.1788586992141347,-0.2525670188678005,-0.36160935938887184,0.3409899099216535,-0.06568781227598516,-0.3684617072012695,0.22296343287683287,0.10441891739964512,0.2023807501053189,0.18977032555840123,0.3176670737654232,-0.20956683615338134,0.3025752537967624,0.1486667853049126,0.20921562700924085,-0.364022130984214,0.21792838818201787,0.2775042933434187,-0.096266303942028,0.1857355502899684,0.033588744752366485,-0.39994447696628027,0.20827916541366182,-0.3971579433255537,0.0818130919076878,-0.05865258314597103,-0.4087526884072916,-0.2618247465855413,-0.0426546030637566,-0.1295168495700078,-0.20045943407838068,0.1765523046300762,-0.46086384606450764,-0.2364351566763554,-0.007753806423135077,0.17889226512425305,-0.23955730778668968,0.03934962562641299,-0.2744051252785178,0.17195870070257183,-0.24150148396333104,-0.3328919174190162,0.19065182399005892,-0.35291040449975464,-0.426084044204266,0.0465973129977241,0.22367031406257457,0.05862534576606719,0.07086652453784623,0.22964589161048232,0.1150377266529312,0.14899043191927797,0.14215620536733425,0.08028082485755351,-0.3645819733867211,-0.32378712585365127,-0.17251786253907897,-0.19332082642918577,-0.12831453371605905,-0.3788563719755441,0.2666996203109222,-0.2477049755933045,-0.17605122750549107,-0.281333206065739,0.29662829877832636,0.1310588886070733,-0.37711459512479384,-0.3358365703578069,-0.21469717407374872,-0.3188881066820043,0.3124182508216264,-0.23426149890586814,-0.058568795294475916,0.2609295635467057,-0.12588538332786858,-0.4192335532179998,0.29970870717163633,0.253877253643542,-0.22477257558517175,-0.1543503348712579,-0.3666911749461282,0.3709069234756622,-0.26139096931020006,-0.12846365308628666,-0.3874040542267227,-0.37416565600640433,0.1908215754043395,-0.39894430093445615,-0.2194185489981982,-0.27519463879452727,0.19632600138461342,-0.18858965566309885,-0.3751973382705395,0.22583275872789418,0.05538821448745586,-0.4455349678015173,0.1858328812887772,0.2731971589363965,-0.17562038410856548,0.2518739094829802,-0.17150168037005134,0.052512077080213125,0.20911873663917163,0.01777771810598996,0.08939557634486082,-0.15217109514220467,-0.42950070671486174,0.19158100805243605,0.228988021803046,-0.22412562630483174,-0.0028881324149054206,0.15781135299584542,-0.20600039814373491,0.2617726462836409,0.3547144190736233,-0.3747843698884313,0.0859800871990601,0.17210817245637933,-0.1627631996774066,0.2835650694239259,0.16543965122223891,-0.3368814398954852,-0.027755121139032786,0.23212700110341494,0.02126992350312842,-0.3082204657350411,0.17382141601913617,-0.33784408873606736,0.21449784701555577,-0.4063410724381264,-0.30698183381022176,-0.3652033072994784,0.24124700653700584,-0.12895423134668677,-0.3924547630067461,0.31941626534944656,-0.3739935888433525,0.15175797367992602,-0.4101598648821872,-0.30256308731432896,0.20524277180531864,-0.39995272397646403,-0.046989130866764504,-0.2794223751540292,-0.36472343799549434,0.18067112143331482,0.22218387206540005,-0.04086012757745302,-0.36916728969420187,-0.11514583107276999,0.20026372618401658,-0.1843156722988213,-0.261881158384279,-0.31539636444682895,-0.38506757768862077,-0.3644511104324943,0.48494279750784597,-0.23614856050971503,0.21671791590990808,0.3568383488062329,0.1519926794148429,0.16067819946149467,-0.22283306979476436,0.1540504790328908,0.2289346954002898,0.17649176806031167,-0.06193062416320876,0.1541490485253188,-0.023809989095213483,-0.2642672247052866,-0.11830054969217187,0.06812790152631668,-0.35038311723434035,0.1982311304357288,0.11474293799349423,-0.15147665267710425,-0.10500506790310073,0.23315296958582232,-0.16792396747294794,0.23578354419559944,0.13549058297031918,-0.22471103997804381,0.320491100489566,0.24078792718255765,0.3321945741616488,0.2251689872103242,0.2672823654031419,-0.06084219042599063,0.2320761635093635,-0.3808318909508558,0.42615418413962924,-0.42214657459383664,-0.4096858721079518,-0.003495570792657516,-0.29271601900027727,0.14531263842705439,0.2310410475187064,-0.3596936241250884,0.07433137366103934,0.09578881556877095,0.17976960840848494,-0.12908240737838275,0.23359352718062712,0.2812477884622113,-0.29921961160685673,0.12465273542452805,-0.18827154448225436,-0.3006459354111904,0.22148582643394066,-0.384807080450514,0.16020094270931948,0.20001509501127404,0.12469834247268854,-0.11046079029785902,0.17096264150393017,-0.23488064876083653,0.1122556325248731,-0.21771596784584932,-0.1309108865950945,0.32944292647480294,0.32221512823662657,0.151233486511,-0.373130586300176,-0.300494553672678,-0.34105288940537865,0.10010191199177833,0.2322830699441829,0.03006622290463169,-0.015451501729180594,0.10216720761651035,0.050262487228104086,0.0913345509516673,-0.028740117744515802,0.1947466358039337,0.3657944594020387,-0.12307863159516222,-0.3440106822647126,0.00465433813271816,0.2670240702647721,-0.37423302017952426,0.1978247020569191,-0.36714312216118056,0.17399027626194244,0.35001775330911766,0.16295308749000137,0.16361749228416983,-0.19129824442597756,0.07830055478791924,-0.2513291173382817,0.07297014326932136,-0.10728399875336847,-0.18146802011242225,-0.19509125083667203,0.3048383957085846,-0.41702906778234805,0.04590592031672656,-0.4313449731618354,-0.1671642257502037,0.16159884969159696,0.2256157663505704,-0.25157792817671604,0.22519924313646592,0.25579809571464,-0.29352448797078773,-0.15519954098442637,0.21498252966096928,0.18615506887197722,0.22305357285948335,0.24250040985033847,-0.3608772753070776,0.23296249321677387,-0.3949970117231406,-0.13609699511399811,-0.18682848554548212,-0.28239449043499737,-0.07334280371794243,-0.11343262083383747,0.2235010703584384,0.0837072413746463,0.009053279294326321,-0.04449105979659029,0.19462268388419185,-0.2733028690728406,-0.24338779625068452,0.18163832083613643,0.1818186837314134,0.22405211527440863,0.16319219826102327,0.292041013663379,-0.140294608622829,0.31437386049643956,0.3313660155007035,0.02371613168183311,-0.3662520262776496,0.1995883684240666,-0.01360779617757323,-0.30178431926765614,0.310965165949144,0.3521297222755738,0.19305556588016035,-0.3427207465343458,-0.14836136385600268,-0.3927031736490953,0.15232752183127973,0.07177704634399262,0.27492972797178444,-0.23653506422523937,0.2750549956617815,0.21912312306122997,-0.2594733604282719,-0.40597794940334103,0.13142067586195494,0.09842520833556774,-0.405694187901275,0.10703557794261756,0.02495472411860217,0.10100421738545368,-0.30644387342128176,0.10248478325436555,0.33177487763098307,0.13414293880123637,0.615377307627428,0.1797160264902048,0.19350126623715194,0.1949866651777697,-0.06550692472868104,0.32903314665263156,-0.33987390329940415,0.2884788105482085,0.1665611325266801,-0.10786989660996854,0.1899397804173693,-0.311989573822839,0.11211670736420254,-0.0034151938486076273,0.2668349450112498,0.15468399448244693,-0.3759010720796147,-0.38567857524932925,0.22757533786174977,-0.1724458944108255,0.03563615518458234,0.2601951351789273,0.1523900114793049,-0.1482320093078549,-0.09800160027158679,0.2186899650934101,-0.3499553458337653,-0.3628521403500417,-0.16856355428368858,-0.301022176274301,-0.21339918900778285,0.22954009515719037,-0.13831242107517558,-0.3596261156267577,-0.43046893663745417,0.0652941221885745,0.20013800362376352,-0.44467417208489574,-0.19682924854608377,0.2538637151362968,0.2232055905964292,-0.318477273528557,-0.36570421751646953,-0.3077492062921405,-0.3843044589509481,-0.42663987773521284,-0.22915843388648413,0.3020471803057468,0.22869547023279876,-0.3847488226066218,-0.27871139021120495],\"type\":\"scatter3d\"}],                        {\"template\":{\"data\":{\"histogram2dcontour\":[{\"type\":\"histogram2dcontour\",\"colorbar\":{\"outlinewidth\":0,\"ticks\":\"\"},\"colorscale\":[[0.0,\"#0d0887\"],[0.1111111111111111,\"#46039f\"],[0.2222222222222222,\"#7201a8\"],[0.3333333333333333,\"#9c179e\"],[0.4444444444444444,\"#bd3786\"],[0.5555555555555556,\"#d8576b\"],[0.6666666666666666,\"#ed7953\"],[0.7777777777777778,\"#fb9f3a\"],[0.8888888888888888,\"#fdca26\"],[1.0,\"#f0f921\"]]}],\"choropleth\":[{\"type\":\"choropleth\",\"colorbar\":{\"outlinewidth\":0,\"ticks\":\"\"}}],\"histogram2d\":[{\"type\":\"histogram2d\",\"colorbar\":{\"outlinewidth\":0,\"ticks\":\"\"},\"colorscale\":[[0.0,\"#0d0887\"],[0.1111111111111111,\"#46039f\"],[0.2222222222222222,\"#7201a8\"],[0.3333333333333333,\"#9c179e\"],[0.4444444444444444,\"#bd3786\"],[0.5555555555555556,\"#d8576b\"],[0.6666666666666666,\"#ed7953\"],[0.7777777777777778,\"#fb9f3a\"],[0.8888888888888888,\"#fdca26\"],[1.0,\"#f0f921\"]]}],\"heatmap\":[{\"type\":\"heatmap\",\"colorbar\":{\"outlinewidth\":0,\"ticks\":\"\"},\"colorscale\":[[0.0,\"#0d0887\"],[0.1111111111111111,\"#46039f\"],[0.2222222222222222,\"#7201a8\"],[0.3333333333333333,\"#9c179e\"],[0.4444444444444444,\"#bd3786\"],[0.5555555555555556,\"#d8576b\"],[0.6666666666666666,\"#ed7953\"],[0.7777777777777778,\"#fb9f3a\"],[0.8888888888888888,\"#fdca26\"],[1.0,\"#f0f921\"]]}],\"heatmapgl\":[{\"type\":\"heatmapgl\",\"colorbar\":{\"outlinewidth\":0,\"ticks\":\"\"},\"colorscale\":[[0.0,\"#0d0887\"],[0.1111111111111111,\"#46039f\"],[0.2222222222222222,\"#7201a8\"],[0.3333333333333333,\"#9c179e\"],[0.4444444444444444,\"#bd3786\"],[0.5555555555555556,\"#d8576b\"],[0.6666666666666666,\"#ed7953\"],[0.7777777777777778,\"#fb9f3a\"],[0.8888888888888888,\"#fdca26\"],[1.0,\"#f0f921\"]]}],\"contourcarpet\":[{\"type\":\"contourcarpet\",\"colorbar\":{\"outlinewidth\":0,\"ticks\":\"\"}}],\"contour\":[{\"type\":\"contour\",\"colorbar\":{\"outlinewidth\":0,\"ticks\":\"\"},\"colorscale\":[[0.0,\"#0d0887\"],[0.1111111111111111,\"#46039f\"],[0.2222222222222222,\"#7201a8\"],[0.3333333333333333,\"#9c179e\"],[0.4444444444444444,\"#bd3786\"],[0.5555555555555556,\"#d8576b\"],[0.6666666666666666,\"#ed7953\"],[0.7777777777777778,\"#fb9f3a\"],[0.8888888888888888,\"#fdca26\"],[1.0,\"#f0f921\"]]}],\"surface\":[{\"type\":\"surface\",\"colorbar\":{\"outlinewidth\":0,\"ticks\":\"\"},\"colorscale\":[[0.0,\"#0d0887\"],[0.1111111111111111,\"#46039f\"],[0.2222222222222222,\"#7201a8\"],[0.3333333333333333,\"#9c179e\"],[0.4444444444444444,\"#bd3786\"],[0.5555555555555556,\"#d8576b\"],[0.6666666666666666,\"#ed7953\"],[0.7777777777777778,\"#fb9f3a\"],[0.8888888888888888,\"#fdca26\"],[1.0,\"#f0f921\"]]}],\"mesh3d\":[{\"type\":\"mesh3d\",\"colorbar\":{\"outlinewidth\":0,\"ticks\":\"\"}}],\"scatter\":[{\"fillpattern\":{\"fillmode\":\"overlay\",\"size\":10,\"solidity\":0.2},\"type\":\"scatter\"}],\"parcoords\":[{\"type\":\"parcoords\",\"line\":{\"colorbar\":{\"outlinewidth\":0,\"ticks\":\"\"}}}],\"scatterpolargl\":[{\"type\":\"scatterpolargl\",\"marker\":{\"colorbar\":{\"outlinewidth\":0,\"ticks\":\"\"}}}],\"bar\":[{\"error_x\":{\"color\":\"#2a3f5f\"},\"error_y\":{\"color\":\"#2a3f5f\"},\"marker\":{\"line\":{\"color\":\"#E5ECF6\",\"width\":0.5},\"pattern\":{\"fillmode\":\"overlay\",\"size\":10,\"solidity\":0.2}},\"type\":\"bar\"}],\"scattergeo\":[{\"type\":\"scattergeo\",\"marker\":{\"colorbar\":{\"outlinewidth\":0,\"ticks\":\"\"}}}],\"scatterpolar\":[{\"type\":\"scatterpolar\",\"marker\":{\"colorbar\":{\"outlinewidth\":0,\"ticks\":\"\"}}}],\"histogram\":[{\"marker\":{\"pattern\":{\"fillmode\":\"overlay\",\"size\":10,\"solidity\":0.2}},\"type\":\"histogram\"}],\"scattergl\":[{\"type\":\"scattergl\",\"marker\":{\"colorbar\":{\"outlinewidth\":0,\"ticks\":\"\"}}}],\"scatter3d\":[{\"type\":\"scatter3d\",\"line\":{\"colorbar\":{\"outlinewidth\":0,\"ticks\":\"\"}},\"marker\":{\"colorbar\":{\"outlinewidth\":0,\"ticks\":\"\"}}}],\"scattermapbox\":[{\"type\":\"scattermapbox\",\"marker\":{\"colorbar\":{\"outlinewidth\":0,\"ticks\":\"\"}}}],\"scatterternary\":[{\"type\":\"scatterternary\",\"marker\":{\"colorbar\":{\"outlinewidth\":0,\"ticks\":\"\"}}}],\"scattercarpet\":[{\"type\":\"scattercarpet\",\"marker\":{\"colorbar\":{\"outlinewidth\":0,\"ticks\":\"\"}}}],\"carpet\":[{\"aaxis\":{\"endlinecolor\":\"#2a3f5f\",\"gridcolor\":\"white\",\"linecolor\":\"white\",\"minorgridcolor\":\"white\",\"startlinecolor\":\"#2a3f5f\"},\"baxis\":{\"endlinecolor\":\"#2a3f5f\",\"gridcolor\":\"white\",\"linecolor\":\"white\",\"minorgridcolor\":\"white\",\"startlinecolor\":\"#2a3f5f\"},\"type\":\"carpet\"}],\"table\":[{\"cells\":{\"fill\":{\"color\":\"#EBF0F8\"},\"line\":{\"color\":\"white\"}},\"header\":{\"fill\":{\"color\":\"#C8D4E3\"},\"line\":{\"color\":\"white\"}},\"type\":\"table\"}],\"barpolar\":[{\"marker\":{\"line\":{\"color\":\"#E5ECF6\",\"width\":0.5},\"pattern\":{\"fillmode\":\"overlay\",\"size\":10,\"solidity\":0.2}},\"type\":\"barpolar\"}],\"pie\":[{\"automargin\":true,\"type\":\"pie\"}]},\"layout\":{\"autotypenumbers\":\"strict\",\"colorway\":[\"#636efa\",\"#EF553B\",\"#00cc96\",\"#ab63fa\",\"#FFA15A\",\"#19d3f3\",\"#FF6692\",\"#B6E880\",\"#FF97FF\",\"#FECB52\"],\"font\":{\"color\":\"#2a3f5f\"},\"hovermode\":\"closest\",\"hoverlabel\":{\"align\":\"left\"},\"paper_bgcolor\":\"white\",\"plot_bgcolor\":\"#E5ECF6\",\"polar\":{\"bgcolor\":\"#E5ECF6\",\"angularaxis\":{\"gridcolor\":\"white\",\"linecolor\":\"white\",\"ticks\":\"\"},\"radialaxis\":{\"gridcolor\":\"white\",\"linecolor\":\"white\",\"ticks\":\"\"}},\"ternary\":{\"bgcolor\":\"#E5ECF6\",\"aaxis\":{\"gridcolor\":\"white\",\"linecolor\":\"white\",\"ticks\":\"\"},\"baxis\":{\"gridcolor\":\"white\",\"linecolor\":\"white\",\"ticks\":\"\"},\"caxis\":{\"gridcolor\":\"white\",\"linecolor\":\"white\",\"ticks\":\"\"}},\"coloraxis\":{\"colorbar\":{\"outlinewidth\":0,\"ticks\":\"\"}},\"colorscale\":{\"sequential\":[[0.0,\"#0d0887\"],[0.1111111111111111,\"#46039f\"],[0.2222222222222222,\"#7201a8\"],[0.3333333333333333,\"#9c179e\"],[0.4444444444444444,\"#bd3786\"],[0.5555555555555556,\"#d8576b\"],[0.6666666666666666,\"#ed7953\"],[0.7777777777777778,\"#fb9f3a\"],[0.8888888888888888,\"#fdca26\"],[1.0,\"#f0f921\"]],\"sequentialminus\":[[0.0,\"#0d0887\"],[0.1111111111111111,\"#46039f\"],[0.2222222222222222,\"#7201a8\"],[0.3333333333333333,\"#9c179e\"],[0.4444444444444444,\"#bd3786\"],[0.5555555555555556,\"#d8576b\"],[0.6666666666666666,\"#ed7953\"],[0.7777777777777778,\"#fb9f3a\"],[0.8888888888888888,\"#fdca26\"],[1.0,\"#f0f921\"]],\"diverging\":[[0,\"#8e0152\"],[0.1,\"#c51b7d\"],[0.2,\"#de77ae\"],[0.3,\"#f1b6da\"],[0.4,\"#fde0ef\"],[0.5,\"#f7f7f7\"],[0.6,\"#e6f5d0\"],[0.7,\"#b8e186\"],[0.8,\"#7fbc41\"],[0.9,\"#4d9221\"],[1,\"#276419\"]]},\"xaxis\":{\"gridcolor\":\"white\",\"linecolor\":\"white\",\"ticks\":\"\",\"title\":{\"standoff\":15},\"zerolinecolor\":\"white\",\"automargin\":true,\"zerolinewidth\":2},\"yaxis\":{\"gridcolor\":\"white\",\"linecolor\":\"white\",\"ticks\":\"\",\"title\":{\"standoff\":15},\"zerolinecolor\":\"white\",\"automargin\":true,\"zerolinewidth\":2},\"scene\":{\"xaxis\":{\"backgroundcolor\":\"#E5ECF6\",\"gridcolor\":\"white\",\"linecolor\":\"white\",\"showbackground\":true,\"ticks\":\"\",\"zerolinecolor\":\"white\",\"gridwidth\":2},\"yaxis\":{\"backgroundcolor\":\"#E5ECF6\",\"gridcolor\":\"white\",\"linecolor\":\"white\",\"showbackground\":true,\"ticks\":\"\",\"zerolinecolor\":\"white\",\"gridwidth\":2},\"zaxis\":{\"backgroundcolor\":\"#E5ECF6\",\"gridcolor\":\"white\",\"linecolor\":\"white\",\"showbackground\":true,\"ticks\":\"\",\"zerolinecolor\":\"white\",\"gridwidth\":2}},\"shapedefaults\":{\"line\":{\"color\":\"#2a3f5f\"}},\"annotationdefaults\":{\"arrowcolor\":\"#2a3f5f\",\"arrowhead\":0,\"arrowwidth\":1},\"geo\":{\"bgcolor\":\"white\",\"landcolor\":\"#E5ECF6\",\"subunitcolor\":\"white\",\"showland\":true,\"showlakes\":true,\"lakecolor\":\"white\"},\"title\":{\"x\":0.05},\"mapbox\":{\"style\":\"light\"}}},\"scene\":{\"domain\":{\"x\":[0.0,1.0],\"y\":[0.0,1.0]},\"xaxis\":{\"title\":{\"text\":\"PC 1\"}},\"yaxis\":{\"title\":{\"text\":\"PC 2\"}},\"zaxis\":{\"title\":{\"text\":\"PC 3\"}}},\"coloraxis\":{\"colorbar\":{\"title\":{\"text\":\"color\"}},\"colorscale\":[[0.0,\"#0d0887\"],[0.1111111111111111,\"#46039f\"],[0.2222222222222222,\"#7201a8\"],[0.3333333333333333,\"#9c179e\"],[0.4444444444444444,\"#bd3786\"],[0.5555555555555556,\"#d8576b\"],[0.6666666666666666,\"#ed7953\"],[0.7777777777777778,\"#fb9f3a\"],[0.8888888888888888,\"#fdca26\"],[1.0,\"#f0f921\"]]},\"legend\":{\"tracegroupgap\":0},\"title\":{\"text\":\"Total Explained Variance: 67.34%\"}},                        {\"responsive\": true}                    ).then(function(){\n",
              "                            \n",
              "var gd = document.getElementById('a577c189-c7eb-4355-8541-48857d82cbdb');\n",
              "var x = new MutationObserver(function (mutations, observer) {{\n",
              "        var display = window.getComputedStyle(gd).display;\n",
              "        if (!display || display === 'none') {{\n",
              "            console.log([gd, 'removed!']);\n",
              "            Plotly.purge(gd);\n",
              "            observer.disconnect();\n",
              "        }}\n",
              "}});\n",
              "\n",
              "// Listen for the removal of the full notebook cells\n",
              "var notebookContainer = gd.closest('#notebook-container');\n",
              "if (notebookContainer) {{\n",
              "    x.observe(notebookContainer, {childList: true});\n",
              "}}\n",
              "\n",
              "// Listen for the clearing of the current output cell\n",
              "var outputEl = gd.closest('.output');\n",
              "if (outputEl) {{\n",
              "    x.observe(outputEl, {childList: true});\n",
              "}}\n",
              "\n",
              "                        })                };                            </script>        </div>\n",
              "</body>\n",
              "</html>"
            ]
          },
          "metadata": {}
        }
      ]
    },
    {
      "cell_type": "code",
      "source": [
        "# X_pca = pca.transform(X)"
      ],
      "metadata": {
        "id": "hthwAZSlJPg5"
      },
      "execution_count": 26,
      "outputs": []
    },
    {
      "cell_type": "markdown",
      "source": [
        "# Modeling"
      ],
      "metadata": {
        "id": "67OLO1e4E_Np"
      }
    },
    {
      "cell_type": "markdown",
      "source": [
        "### Custom Scorer"
      ],
      "metadata": {
        "id": "TW43ssjFVtao"
      }
    },
    {
      "cell_type": "code",
      "source": [
        "#CORRECT LOG LOSS TO USE\n",
        "def log_loss(y_true, prob_pred):\n",
        "    \"\"\"\n",
        "    Calculates log loss for two classes (0 & 1).\n",
        "    Parameters:\n",
        "        y_true: True labels array for the classes.\n",
        "        prob_pred: Predicted probability values for the class.\n",
        "    Returns:\n",
        "        Log loss for the input.\n",
        "    \"\"\"\n",
        "\n",
        "    N_0 = (y_true == 0).sum()\n",
        "    N_1 = (y_true == 1).sum()\n",
        "\n",
        "    y_0 = y_true\n",
        "    y_1 = -1 * (y_true - 1)\n",
        "\n",
        "    p_0 = np.log(prob_pred + 1)\n",
        "    p_1 = np.log(1 - prob_pred + 1)\n",
        "\n",
        "    log_loss = ((-1/N_0)*(np.sum(y_0*p_0)) + (-1/N_1)*(np.sum(y_1*p_1)))/2\n",
        "\n",
        "    return log_loss"
      ],
      "metadata": {
        "id": "K2t98sDVVveK"
      },
      "execution_count": 27,
      "outputs": []
    },
    {
      "cell_type": "code",
      "source": [
        "rf_log_loss_score = make_scorer(score_func=log_loss, greater_is_better=False)"
      ],
      "metadata": {
        "id": "Neew3jF5V_XI"
      },
      "execution_count": 28,
      "outputs": []
    },
    {
      "cell_type": "markdown",
      "source": [
        "### Support Vector Classification model"
      ],
      "metadata": {
        "id": "uFDWi1SIFBYL"
      }
    },
    {
      "cell_type": "code",
      "source": [
        "classifier = SVC(probability=True, tol=0.0000001)\n",
        "classifier.fit(X, y)\n",
        "\n",
        "test_df['class_0'] = classifier.predict_proba(X_test)[:, 0]\n",
        "test_df['class_1'] = 1 - test_df['class_0']"
      ],
      "metadata": {
        "id": "Xp8A-SYpFCwM"
      },
      "execution_count": 36,
      "outputs": []
    },
    {
      "cell_type": "code",
      "source": [
        "test_df.reset_index()[['Id', 'class_0', 'class_1']].to_csv('submission.csv', index=False)"
      ],
      "metadata": {
        "id": "yavk1PaJFEM5"
      },
      "execution_count": 37,
      "outputs": []
    },
    {
      "cell_type": "markdown",
      "source": [
        "### make a cell here for integrating the Greeks dataset and include the splits\n",
        "X_a, y_a -- y_a only class 0 and class a\n",
        "\n",
        "X_b, y_b -- \"\"\n",
        "\n",
        "X_c, y_c -- \"\""
      ],
      "metadata": {
        "id": "zfuMjzC-_KTr"
      }
    },
    {
      "cell_type": "markdown",
      "source": [
        "### RF Regressor"
      ],
      "metadata": {
        "id": "X4cxyWFGJao6"
      }
    },
    {
      "cell_type": "code",
      "source": [
        "import numpy as np\n",
        "import datetime\n",
        "from sklearn.model_selection import train_test_split, GridSearchCV\n",
        "from sklearn.metrics import mean_squared_error, accuracy_score, confusion_matrix, classification_report\n",
        "from sklearn.ensemble import RandomForestRegressor\n",
        "from sklearn.datasets import make_regression\n",
        "from sklearn.metrics import accuracy_score, confusion_matrix, classification_report\n",
        "from sklearn.feature_selection import SelectFromModel\n",
        "\n",
        "from sklearn.metrics import make_scorer\n",
        "from sklearn.model_selection import cross_val_score\n",
        "from sklearn.model_selection import StratifiedKFold\n",
        "\n",
        "#cross_val_score(classifier, X, y, cv=3, scoring=log_loss_score)\n",
        "\n",
        "grid1 = {\n",
        "    'n_estimators': [200,300,400,500,600,700,800],\n",
        "    # 'n_estimators': [500],\n",
        "    'max_features': ['sqrt'],\n",
        "    'max_depth' : [5,6,7, 8,9,10],\n",
        "    # 'max_depth' : [6],\n",
        "    'random_state' : [0]\n",
        "}\n",
        "## show start time\n",
        "print(datetime.datetime.now())\n",
        "## Grid Search function\n",
        "skf = StratifiedKFold(n_splits=5)\n",
        "CV_rfr = GridSearchCV(estimator=RandomForestRegressor(), param_grid=grid1, cv= skf, scoring = rf_log_loss_score, error_score = 'raise')\n",
        "# CV_rfr = GridSearchCV(estimator=RandomForestRegressor(), param_grid=grid1, cv= 5, error_score = 'raise')\n",
        "CV_rfr.fit(X, y)\n",
        "## show end time\n",
        "print(datetime.datetime.now())"
      ],
      "metadata": {
        "colab": {
          "base_uri": "https://localhost:8080/",
          "height": 461
        },
        "id": "UKLAKWQrB-L2",
        "outputId": "32db50c9-c134-4ed3-fdca-e66aabffdbed"
      },
      "execution_count": 38,
      "outputs": [
        {
          "output_type": "stream",
          "name": "stdout",
          "text": [
            "2023-06-24 20:16:22.768361\n"
          ]
        },
        {
          "output_type": "error",
          "ename": "KeyboardInterrupt",
          "evalue": "ignored",
          "traceback": [
            "\u001b[0;31m---------------------------------------------------------------------------\u001b[0m",
            "\u001b[0;31mKeyboardInterrupt\u001b[0m                         Traceback (most recent call last)",
            "\u001b[0;32m<ipython-input-38-970b36b8509b>\u001b[0m in \u001b[0;36m<cell line: 30>\u001b[0;34m()\u001b[0m\n\u001b[1;32m     28\u001b[0m \u001b[0mCV_rfr\u001b[0m \u001b[0;34m=\u001b[0m \u001b[0mGridSearchCV\u001b[0m\u001b[0;34m(\u001b[0m\u001b[0mestimator\u001b[0m\u001b[0;34m=\u001b[0m\u001b[0mRandomForestRegressor\u001b[0m\u001b[0;34m(\u001b[0m\u001b[0;34m)\u001b[0m\u001b[0;34m,\u001b[0m \u001b[0mparam_grid\u001b[0m\u001b[0;34m=\u001b[0m\u001b[0mgrid1\u001b[0m\u001b[0;34m,\u001b[0m \u001b[0mcv\u001b[0m\u001b[0;34m=\u001b[0m \u001b[0mskf\u001b[0m\u001b[0;34m,\u001b[0m \u001b[0mscoring\u001b[0m \u001b[0;34m=\u001b[0m \u001b[0mrf_log_loss_score\u001b[0m\u001b[0;34m,\u001b[0m \u001b[0merror_score\u001b[0m \u001b[0;34m=\u001b[0m \u001b[0;34m'raise'\u001b[0m\u001b[0;34m)\u001b[0m\u001b[0;34m\u001b[0m\u001b[0;34m\u001b[0m\u001b[0m\n\u001b[1;32m     29\u001b[0m \u001b[0;31m# CV_rfr = GridSearchCV(estimator=RandomForestRegressor(), param_grid=grid1, cv= 5, error_score = 'raise')\u001b[0m\u001b[0;34m\u001b[0m\u001b[0;34m\u001b[0m\u001b[0m\n\u001b[0;32m---> 30\u001b[0;31m \u001b[0mCV_rfr\u001b[0m\u001b[0;34m.\u001b[0m\u001b[0mfit\u001b[0m\u001b[0;34m(\u001b[0m\u001b[0mX\u001b[0m\u001b[0;34m,\u001b[0m \u001b[0my\u001b[0m\u001b[0;34m)\u001b[0m\u001b[0;34m\u001b[0m\u001b[0;34m\u001b[0m\u001b[0m\n\u001b[0m\u001b[1;32m     31\u001b[0m \u001b[0;31m## show end time\u001b[0m\u001b[0;34m\u001b[0m\u001b[0;34m\u001b[0m\u001b[0m\n\u001b[1;32m     32\u001b[0m \u001b[0mprint\u001b[0m\u001b[0;34m(\u001b[0m\u001b[0mdatetime\u001b[0m\u001b[0;34m.\u001b[0m\u001b[0mdatetime\u001b[0m\u001b[0;34m.\u001b[0m\u001b[0mnow\u001b[0m\u001b[0;34m(\u001b[0m\u001b[0;34m)\u001b[0m\u001b[0;34m)\u001b[0m\u001b[0;34m\u001b[0m\u001b[0;34m\u001b[0m\u001b[0m\n",
            "\u001b[0;32m/usr/local/lib/python3.10/dist-packages/sklearn/model_selection/_search.py\u001b[0m in \u001b[0;36mfit\u001b[0;34m(self, X, y, groups, **fit_params)\u001b[0m\n\u001b[1;32m    872\u001b[0m                 \u001b[0;32mreturn\u001b[0m \u001b[0mresults\u001b[0m\u001b[0;34m\u001b[0m\u001b[0;34m\u001b[0m\u001b[0m\n\u001b[1;32m    873\u001b[0m \u001b[0;34m\u001b[0m\u001b[0m\n\u001b[0;32m--> 874\u001b[0;31m             \u001b[0mself\u001b[0m\u001b[0;34m.\u001b[0m\u001b[0m_run_search\u001b[0m\u001b[0;34m(\u001b[0m\u001b[0mevaluate_candidates\u001b[0m\u001b[0;34m)\u001b[0m\u001b[0;34m\u001b[0m\u001b[0;34m\u001b[0m\u001b[0m\n\u001b[0m\u001b[1;32m    875\u001b[0m \u001b[0;34m\u001b[0m\u001b[0m\n\u001b[1;32m    876\u001b[0m             \u001b[0;31m# multimetric is determined here because in the case of a callable\u001b[0m\u001b[0;34m\u001b[0m\u001b[0;34m\u001b[0m\u001b[0m\n",
            "\u001b[0;32m/usr/local/lib/python3.10/dist-packages/sklearn/model_selection/_search.py\u001b[0m in \u001b[0;36m_run_search\u001b[0;34m(self, evaluate_candidates)\u001b[0m\n\u001b[1;32m   1386\u001b[0m     \u001b[0;32mdef\u001b[0m \u001b[0m_run_search\u001b[0m\u001b[0;34m(\u001b[0m\u001b[0mself\u001b[0m\u001b[0;34m,\u001b[0m \u001b[0mevaluate_candidates\u001b[0m\u001b[0;34m)\u001b[0m\u001b[0;34m:\u001b[0m\u001b[0;34m\u001b[0m\u001b[0;34m\u001b[0m\u001b[0m\n\u001b[1;32m   1387\u001b[0m         \u001b[0;34m\"\"\"Search all candidates in param_grid\"\"\"\u001b[0m\u001b[0;34m\u001b[0m\u001b[0;34m\u001b[0m\u001b[0m\n\u001b[0;32m-> 1388\u001b[0;31m         \u001b[0mevaluate_candidates\u001b[0m\u001b[0;34m(\u001b[0m\u001b[0mParameterGrid\u001b[0m\u001b[0;34m(\u001b[0m\u001b[0mself\u001b[0m\u001b[0;34m.\u001b[0m\u001b[0mparam_grid\u001b[0m\u001b[0;34m)\u001b[0m\u001b[0;34m)\u001b[0m\u001b[0;34m\u001b[0m\u001b[0;34m\u001b[0m\u001b[0m\n\u001b[0m\u001b[1;32m   1389\u001b[0m \u001b[0;34m\u001b[0m\u001b[0m\n\u001b[1;32m   1390\u001b[0m \u001b[0;34m\u001b[0m\u001b[0m\n",
            "\u001b[0;32m/usr/local/lib/python3.10/dist-packages/sklearn/model_selection/_search.py\u001b[0m in \u001b[0;36mevaluate_candidates\u001b[0;34m(candidate_params, cv, more_results)\u001b[0m\n\u001b[1;32m    819\u001b[0m                     )\n\u001b[1;32m    820\u001b[0m \u001b[0;34m\u001b[0m\u001b[0m\n\u001b[0;32m--> 821\u001b[0;31m                 out = parallel(\n\u001b[0m\u001b[1;32m    822\u001b[0m                     delayed(_fit_and_score)(\n\u001b[1;32m    823\u001b[0m                         \u001b[0mclone\u001b[0m\u001b[0;34m(\u001b[0m\u001b[0mbase_estimator\u001b[0m\u001b[0;34m)\u001b[0m\u001b[0;34m,\u001b[0m\u001b[0;34m\u001b[0m\u001b[0;34m\u001b[0m\u001b[0m\n",
            "\u001b[0;32m/usr/local/lib/python3.10/dist-packages/sklearn/utils/parallel.py\u001b[0m in \u001b[0;36m__call__\u001b[0;34m(self, iterable)\u001b[0m\n\u001b[1;32m     61\u001b[0m             \u001b[0;32mfor\u001b[0m \u001b[0mdelayed_func\u001b[0m\u001b[0;34m,\u001b[0m \u001b[0margs\u001b[0m\u001b[0;34m,\u001b[0m \u001b[0mkwargs\u001b[0m \u001b[0;32min\u001b[0m \u001b[0miterable\u001b[0m\u001b[0;34m\u001b[0m\u001b[0;34m\u001b[0m\u001b[0m\n\u001b[1;32m     62\u001b[0m         )\n\u001b[0;32m---> 63\u001b[0;31m         \u001b[0;32mreturn\u001b[0m \u001b[0msuper\u001b[0m\u001b[0;34m(\u001b[0m\u001b[0;34m)\u001b[0m\u001b[0;34m.\u001b[0m\u001b[0m__call__\u001b[0m\u001b[0;34m(\u001b[0m\u001b[0miterable_with_config\u001b[0m\u001b[0;34m)\u001b[0m\u001b[0;34m\u001b[0m\u001b[0;34m\u001b[0m\u001b[0m\n\u001b[0m\u001b[1;32m     64\u001b[0m \u001b[0;34m\u001b[0m\u001b[0m\n\u001b[1;32m     65\u001b[0m \u001b[0;34m\u001b[0m\u001b[0m\n",
            "\u001b[0;32m/usr/local/lib/python3.10/dist-packages/joblib/parallel.py\u001b[0m in \u001b[0;36m__call__\u001b[0;34m(self, iterable)\u001b[0m\n\u001b[1;32m   1086\u001b[0m                 \u001b[0mself\u001b[0m\u001b[0;34m.\u001b[0m\u001b[0m_iterating\u001b[0m \u001b[0;34m=\u001b[0m \u001b[0mself\u001b[0m\u001b[0;34m.\u001b[0m\u001b[0m_original_iterator\u001b[0m \u001b[0;32mis\u001b[0m \u001b[0;32mnot\u001b[0m \u001b[0;32mNone\u001b[0m\u001b[0;34m\u001b[0m\u001b[0;34m\u001b[0m\u001b[0m\n\u001b[1;32m   1087\u001b[0m \u001b[0;34m\u001b[0m\u001b[0m\n\u001b[0;32m-> 1088\u001b[0;31m             \u001b[0;32mwhile\u001b[0m \u001b[0mself\u001b[0m\u001b[0;34m.\u001b[0m\u001b[0mdispatch_one_batch\u001b[0m\u001b[0;34m(\u001b[0m\u001b[0miterator\u001b[0m\u001b[0;34m)\u001b[0m\u001b[0;34m:\u001b[0m\u001b[0;34m\u001b[0m\u001b[0;34m\u001b[0m\u001b[0m\n\u001b[0m\u001b[1;32m   1089\u001b[0m                 \u001b[0;32mpass\u001b[0m\u001b[0;34m\u001b[0m\u001b[0;34m\u001b[0m\u001b[0m\n\u001b[1;32m   1090\u001b[0m \u001b[0;34m\u001b[0m\u001b[0m\n",
            "\u001b[0;32m/usr/local/lib/python3.10/dist-packages/joblib/parallel.py\u001b[0m in \u001b[0;36mdispatch_one_batch\u001b[0;34m(self, iterator)\u001b[0m\n\u001b[1;32m    899\u001b[0m                 \u001b[0;32mreturn\u001b[0m \u001b[0;32mFalse\u001b[0m\u001b[0;34m\u001b[0m\u001b[0;34m\u001b[0m\u001b[0m\n\u001b[1;32m    900\u001b[0m             \u001b[0;32melse\u001b[0m\u001b[0;34m:\u001b[0m\u001b[0;34m\u001b[0m\u001b[0;34m\u001b[0m\u001b[0m\n\u001b[0;32m--> 901\u001b[0;31m                 \u001b[0mself\u001b[0m\u001b[0;34m.\u001b[0m\u001b[0m_dispatch\u001b[0m\u001b[0;34m(\u001b[0m\u001b[0mtasks\u001b[0m\u001b[0;34m)\u001b[0m\u001b[0;34m\u001b[0m\u001b[0;34m\u001b[0m\u001b[0m\n\u001b[0m\u001b[1;32m    902\u001b[0m                 \u001b[0;32mreturn\u001b[0m \u001b[0;32mTrue\u001b[0m\u001b[0;34m\u001b[0m\u001b[0;34m\u001b[0m\u001b[0m\n\u001b[1;32m    903\u001b[0m \u001b[0;34m\u001b[0m\u001b[0m\n",
            "\u001b[0;32m/usr/local/lib/python3.10/dist-packages/joblib/parallel.py\u001b[0m in \u001b[0;36m_dispatch\u001b[0;34m(self, batch)\u001b[0m\n\u001b[1;32m    817\u001b[0m         \u001b[0;32mwith\u001b[0m \u001b[0mself\u001b[0m\u001b[0;34m.\u001b[0m\u001b[0m_lock\u001b[0m\u001b[0;34m:\u001b[0m\u001b[0;34m\u001b[0m\u001b[0;34m\u001b[0m\u001b[0m\n\u001b[1;32m    818\u001b[0m             \u001b[0mjob_idx\u001b[0m \u001b[0;34m=\u001b[0m \u001b[0mlen\u001b[0m\u001b[0;34m(\u001b[0m\u001b[0mself\u001b[0m\u001b[0;34m.\u001b[0m\u001b[0m_jobs\u001b[0m\u001b[0;34m)\u001b[0m\u001b[0;34m\u001b[0m\u001b[0;34m\u001b[0m\u001b[0m\n\u001b[0;32m--> 819\u001b[0;31m             \u001b[0mjob\u001b[0m \u001b[0;34m=\u001b[0m \u001b[0mself\u001b[0m\u001b[0;34m.\u001b[0m\u001b[0m_backend\u001b[0m\u001b[0;34m.\u001b[0m\u001b[0mapply_async\u001b[0m\u001b[0;34m(\u001b[0m\u001b[0mbatch\u001b[0m\u001b[0;34m,\u001b[0m \u001b[0mcallback\u001b[0m\u001b[0;34m=\u001b[0m\u001b[0mcb\u001b[0m\u001b[0;34m)\u001b[0m\u001b[0;34m\u001b[0m\u001b[0;34m\u001b[0m\u001b[0m\n\u001b[0m\u001b[1;32m    820\u001b[0m             \u001b[0;31m# A job can complete so quickly than its callback is\u001b[0m\u001b[0;34m\u001b[0m\u001b[0;34m\u001b[0m\u001b[0m\n\u001b[1;32m    821\u001b[0m             \u001b[0;31m# called before we get here, causing self._jobs to\u001b[0m\u001b[0;34m\u001b[0m\u001b[0;34m\u001b[0m\u001b[0m\n",
            "\u001b[0;32m/usr/local/lib/python3.10/dist-packages/joblib/_parallel_backends.py\u001b[0m in \u001b[0;36mapply_async\u001b[0;34m(self, func, callback)\u001b[0m\n\u001b[1;32m    206\u001b[0m     \u001b[0;32mdef\u001b[0m \u001b[0mapply_async\u001b[0m\u001b[0;34m(\u001b[0m\u001b[0mself\u001b[0m\u001b[0;34m,\u001b[0m \u001b[0mfunc\u001b[0m\u001b[0;34m,\u001b[0m \u001b[0mcallback\u001b[0m\u001b[0;34m=\u001b[0m\u001b[0;32mNone\u001b[0m\u001b[0;34m)\u001b[0m\u001b[0;34m:\u001b[0m\u001b[0;34m\u001b[0m\u001b[0;34m\u001b[0m\u001b[0m\n\u001b[1;32m    207\u001b[0m         \u001b[0;34m\"\"\"Schedule a func to be run\"\"\"\u001b[0m\u001b[0;34m\u001b[0m\u001b[0;34m\u001b[0m\u001b[0m\n\u001b[0;32m--> 208\u001b[0;31m         \u001b[0mresult\u001b[0m \u001b[0;34m=\u001b[0m \u001b[0mImmediateResult\u001b[0m\u001b[0;34m(\u001b[0m\u001b[0mfunc\u001b[0m\u001b[0;34m)\u001b[0m\u001b[0;34m\u001b[0m\u001b[0;34m\u001b[0m\u001b[0m\n\u001b[0m\u001b[1;32m    209\u001b[0m         \u001b[0;32mif\u001b[0m \u001b[0mcallback\u001b[0m\u001b[0;34m:\u001b[0m\u001b[0;34m\u001b[0m\u001b[0;34m\u001b[0m\u001b[0m\n\u001b[1;32m    210\u001b[0m             \u001b[0mcallback\u001b[0m\u001b[0;34m(\u001b[0m\u001b[0mresult\u001b[0m\u001b[0;34m)\u001b[0m\u001b[0;34m\u001b[0m\u001b[0;34m\u001b[0m\u001b[0m\n",
            "\u001b[0;32m/usr/local/lib/python3.10/dist-packages/joblib/_parallel_backends.py\u001b[0m in \u001b[0;36m__init__\u001b[0;34m(self, batch)\u001b[0m\n\u001b[1;32m    595\u001b[0m         \u001b[0;31m# Don't delay the application, to avoid keeping the input\u001b[0m\u001b[0;34m\u001b[0m\u001b[0;34m\u001b[0m\u001b[0m\n\u001b[1;32m    596\u001b[0m         \u001b[0;31m# arguments in memory\u001b[0m\u001b[0;34m\u001b[0m\u001b[0;34m\u001b[0m\u001b[0m\n\u001b[0;32m--> 597\u001b[0;31m         \u001b[0mself\u001b[0m\u001b[0;34m.\u001b[0m\u001b[0mresults\u001b[0m \u001b[0;34m=\u001b[0m \u001b[0mbatch\u001b[0m\u001b[0;34m(\u001b[0m\u001b[0;34m)\u001b[0m\u001b[0;34m\u001b[0m\u001b[0;34m\u001b[0m\u001b[0m\n\u001b[0m\u001b[1;32m    598\u001b[0m \u001b[0;34m\u001b[0m\u001b[0m\n\u001b[1;32m    599\u001b[0m     \u001b[0;32mdef\u001b[0m \u001b[0mget\u001b[0m\u001b[0;34m(\u001b[0m\u001b[0mself\u001b[0m\u001b[0;34m)\u001b[0m\u001b[0;34m:\u001b[0m\u001b[0;34m\u001b[0m\u001b[0;34m\u001b[0m\u001b[0m\n",
            "\u001b[0;32m/usr/local/lib/python3.10/dist-packages/joblib/parallel.py\u001b[0m in \u001b[0;36m__call__\u001b[0;34m(self)\u001b[0m\n\u001b[1;32m    286\u001b[0m         \u001b[0;31m# change the default number of processes to -1\u001b[0m\u001b[0;34m\u001b[0m\u001b[0;34m\u001b[0m\u001b[0m\n\u001b[1;32m    287\u001b[0m         \u001b[0;32mwith\u001b[0m \u001b[0mparallel_backend\u001b[0m\u001b[0;34m(\u001b[0m\u001b[0mself\u001b[0m\u001b[0;34m.\u001b[0m\u001b[0m_backend\u001b[0m\u001b[0;34m,\u001b[0m \u001b[0mn_jobs\u001b[0m\u001b[0;34m=\u001b[0m\u001b[0mself\u001b[0m\u001b[0;34m.\u001b[0m\u001b[0m_n_jobs\u001b[0m\u001b[0;34m)\u001b[0m\u001b[0;34m:\u001b[0m\u001b[0;34m\u001b[0m\u001b[0;34m\u001b[0m\u001b[0m\n\u001b[0;32m--> 288\u001b[0;31m             return [func(*args, **kwargs)\n\u001b[0m\u001b[1;32m    289\u001b[0m                     for func, args, kwargs in self.items]\n\u001b[1;32m    290\u001b[0m \u001b[0;34m\u001b[0m\u001b[0m\n",
            "\u001b[0;32m/usr/local/lib/python3.10/dist-packages/joblib/parallel.py\u001b[0m in \u001b[0;36m<listcomp>\u001b[0;34m(.0)\u001b[0m\n\u001b[1;32m    286\u001b[0m         \u001b[0;31m# change the default number of processes to -1\u001b[0m\u001b[0;34m\u001b[0m\u001b[0;34m\u001b[0m\u001b[0m\n\u001b[1;32m    287\u001b[0m         \u001b[0;32mwith\u001b[0m \u001b[0mparallel_backend\u001b[0m\u001b[0;34m(\u001b[0m\u001b[0mself\u001b[0m\u001b[0;34m.\u001b[0m\u001b[0m_backend\u001b[0m\u001b[0;34m,\u001b[0m \u001b[0mn_jobs\u001b[0m\u001b[0;34m=\u001b[0m\u001b[0mself\u001b[0m\u001b[0;34m.\u001b[0m\u001b[0m_n_jobs\u001b[0m\u001b[0;34m)\u001b[0m\u001b[0;34m:\u001b[0m\u001b[0;34m\u001b[0m\u001b[0;34m\u001b[0m\u001b[0m\n\u001b[0;32m--> 288\u001b[0;31m             return [func(*args, **kwargs)\n\u001b[0m\u001b[1;32m    289\u001b[0m                     for func, args, kwargs in self.items]\n\u001b[1;32m    290\u001b[0m \u001b[0;34m\u001b[0m\u001b[0m\n",
            "\u001b[0;32m/usr/local/lib/python3.10/dist-packages/sklearn/utils/parallel.py\u001b[0m in \u001b[0;36m__call__\u001b[0;34m(self, *args, **kwargs)\u001b[0m\n\u001b[1;32m    121\u001b[0m             \u001b[0mconfig\u001b[0m \u001b[0;34m=\u001b[0m \u001b[0;34m{\u001b[0m\u001b[0;34m}\u001b[0m\u001b[0;34m\u001b[0m\u001b[0;34m\u001b[0m\u001b[0m\n\u001b[1;32m    122\u001b[0m         \u001b[0;32mwith\u001b[0m \u001b[0mconfig_context\u001b[0m\u001b[0;34m(\u001b[0m\u001b[0;34m**\u001b[0m\u001b[0mconfig\u001b[0m\u001b[0;34m)\u001b[0m\u001b[0;34m:\u001b[0m\u001b[0;34m\u001b[0m\u001b[0;34m\u001b[0m\u001b[0m\n\u001b[0;32m--> 123\u001b[0;31m             \u001b[0;32mreturn\u001b[0m \u001b[0mself\u001b[0m\u001b[0;34m.\u001b[0m\u001b[0mfunction\u001b[0m\u001b[0;34m(\u001b[0m\u001b[0;34m*\u001b[0m\u001b[0margs\u001b[0m\u001b[0;34m,\u001b[0m \u001b[0;34m**\u001b[0m\u001b[0mkwargs\u001b[0m\u001b[0;34m)\u001b[0m\u001b[0;34m\u001b[0m\u001b[0;34m\u001b[0m\u001b[0m\n\u001b[0m",
            "\u001b[0;32m/usr/local/lib/python3.10/dist-packages/sklearn/model_selection/_validation.py\u001b[0m in \u001b[0;36m_fit_and_score\u001b[0;34m(estimator, X, y, scorer, train, test, verbose, parameters, fit_params, return_train_score, return_parameters, return_n_test_samples, return_times, return_estimator, split_progress, candidate_progress, error_score)\u001b[0m\n\u001b[1;32m    684\u001b[0m             \u001b[0mestimator\u001b[0m\u001b[0;34m.\u001b[0m\u001b[0mfit\u001b[0m\u001b[0;34m(\u001b[0m\u001b[0mX_train\u001b[0m\u001b[0;34m,\u001b[0m \u001b[0;34m**\u001b[0m\u001b[0mfit_params\u001b[0m\u001b[0;34m)\u001b[0m\u001b[0;34m\u001b[0m\u001b[0;34m\u001b[0m\u001b[0m\n\u001b[1;32m    685\u001b[0m         \u001b[0;32melse\u001b[0m\u001b[0;34m:\u001b[0m\u001b[0;34m\u001b[0m\u001b[0;34m\u001b[0m\u001b[0m\n\u001b[0;32m--> 686\u001b[0;31m             \u001b[0mestimator\u001b[0m\u001b[0;34m.\u001b[0m\u001b[0mfit\u001b[0m\u001b[0;34m(\u001b[0m\u001b[0mX_train\u001b[0m\u001b[0;34m,\u001b[0m \u001b[0my_train\u001b[0m\u001b[0;34m,\u001b[0m \u001b[0;34m**\u001b[0m\u001b[0mfit_params\u001b[0m\u001b[0;34m)\u001b[0m\u001b[0;34m\u001b[0m\u001b[0;34m\u001b[0m\u001b[0m\n\u001b[0m\u001b[1;32m    687\u001b[0m \u001b[0;34m\u001b[0m\u001b[0m\n\u001b[1;32m    688\u001b[0m     \u001b[0;32mexcept\u001b[0m \u001b[0mException\u001b[0m\u001b[0;34m:\u001b[0m\u001b[0;34m\u001b[0m\u001b[0;34m\u001b[0m\u001b[0m\n",
            "\u001b[0;32m/usr/local/lib/python3.10/dist-packages/sklearn/ensemble/_forest.py\u001b[0m in \u001b[0;36mfit\u001b[0;34m(self, X, y, sample_weight)\u001b[0m\n\u001b[1;32m    471\u001b[0m             \u001b[0;31m# parallel_backend contexts set at a higher level,\u001b[0m\u001b[0;34m\u001b[0m\u001b[0;34m\u001b[0m\u001b[0m\n\u001b[1;32m    472\u001b[0m             \u001b[0;31m# since correctness does not rely on using threads.\u001b[0m\u001b[0;34m\u001b[0m\u001b[0;34m\u001b[0m\u001b[0m\n\u001b[0;32m--> 473\u001b[0;31m             trees = Parallel(\n\u001b[0m\u001b[1;32m    474\u001b[0m                 \u001b[0mn_jobs\u001b[0m\u001b[0;34m=\u001b[0m\u001b[0mself\u001b[0m\u001b[0;34m.\u001b[0m\u001b[0mn_jobs\u001b[0m\u001b[0;34m,\u001b[0m\u001b[0;34m\u001b[0m\u001b[0;34m\u001b[0m\u001b[0m\n\u001b[1;32m    475\u001b[0m                 \u001b[0mverbose\u001b[0m\u001b[0;34m=\u001b[0m\u001b[0mself\u001b[0m\u001b[0;34m.\u001b[0m\u001b[0mverbose\u001b[0m\u001b[0;34m,\u001b[0m\u001b[0;34m\u001b[0m\u001b[0;34m\u001b[0m\u001b[0m\n",
            "\u001b[0;32m/usr/local/lib/python3.10/dist-packages/sklearn/utils/parallel.py\u001b[0m in \u001b[0;36m__call__\u001b[0;34m(self, iterable)\u001b[0m\n\u001b[1;32m     61\u001b[0m             \u001b[0;32mfor\u001b[0m \u001b[0mdelayed_func\u001b[0m\u001b[0;34m,\u001b[0m \u001b[0margs\u001b[0m\u001b[0;34m,\u001b[0m \u001b[0mkwargs\u001b[0m \u001b[0;32min\u001b[0m \u001b[0miterable\u001b[0m\u001b[0;34m\u001b[0m\u001b[0;34m\u001b[0m\u001b[0m\n\u001b[1;32m     62\u001b[0m         )\n\u001b[0;32m---> 63\u001b[0;31m         \u001b[0;32mreturn\u001b[0m \u001b[0msuper\u001b[0m\u001b[0;34m(\u001b[0m\u001b[0;34m)\u001b[0m\u001b[0;34m.\u001b[0m\u001b[0m__call__\u001b[0m\u001b[0;34m(\u001b[0m\u001b[0miterable_with_config\u001b[0m\u001b[0;34m)\u001b[0m\u001b[0;34m\u001b[0m\u001b[0;34m\u001b[0m\u001b[0m\n\u001b[0m\u001b[1;32m     64\u001b[0m \u001b[0;34m\u001b[0m\u001b[0m\n\u001b[1;32m     65\u001b[0m \u001b[0;34m\u001b[0m\u001b[0m\n",
            "\u001b[0;32m/usr/local/lib/python3.10/dist-packages/joblib/parallel.py\u001b[0m in \u001b[0;36m__call__\u001b[0;34m(self, iterable)\u001b[0m\n\u001b[1;32m   1086\u001b[0m                 \u001b[0mself\u001b[0m\u001b[0;34m.\u001b[0m\u001b[0m_iterating\u001b[0m \u001b[0;34m=\u001b[0m \u001b[0mself\u001b[0m\u001b[0;34m.\u001b[0m\u001b[0m_original_iterator\u001b[0m \u001b[0;32mis\u001b[0m \u001b[0;32mnot\u001b[0m \u001b[0;32mNone\u001b[0m\u001b[0;34m\u001b[0m\u001b[0;34m\u001b[0m\u001b[0m\n\u001b[1;32m   1087\u001b[0m \u001b[0;34m\u001b[0m\u001b[0m\n\u001b[0;32m-> 1088\u001b[0;31m             \u001b[0;32mwhile\u001b[0m \u001b[0mself\u001b[0m\u001b[0;34m.\u001b[0m\u001b[0mdispatch_one_batch\u001b[0m\u001b[0;34m(\u001b[0m\u001b[0miterator\u001b[0m\u001b[0;34m)\u001b[0m\u001b[0;34m:\u001b[0m\u001b[0;34m\u001b[0m\u001b[0;34m\u001b[0m\u001b[0m\n\u001b[0m\u001b[1;32m   1089\u001b[0m                 \u001b[0;32mpass\u001b[0m\u001b[0;34m\u001b[0m\u001b[0;34m\u001b[0m\u001b[0m\n\u001b[1;32m   1090\u001b[0m \u001b[0;34m\u001b[0m\u001b[0m\n",
            "\u001b[0;32m/usr/local/lib/python3.10/dist-packages/joblib/parallel.py\u001b[0m in \u001b[0;36mdispatch_one_batch\u001b[0;34m(self, iterator)\u001b[0m\n\u001b[1;32m    899\u001b[0m                 \u001b[0;32mreturn\u001b[0m \u001b[0;32mFalse\u001b[0m\u001b[0;34m\u001b[0m\u001b[0;34m\u001b[0m\u001b[0m\n\u001b[1;32m    900\u001b[0m             \u001b[0;32melse\u001b[0m\u001b[0;34m:\u001b[0m\u001b[0;34m\u001b[0m\u001b[0;34m\u001b[0m\u001b[0m\n\u001b[0;32m--> 901\u001b[0;31m                 \u001b[0mself\u001b[0m\u001b[0;34m.\u001b[0m\u001b[0m_dispatch\u001b[0m\u001b[0;34m(\u001b[0m\u001b[0mtasks\u001b[0m\u001b[0;34m)\u001b[0m\u001b[0;34m\u001b[0m\u001b[0;34m\u001b[0m\u001b[0m\n\u001b[0m\u001b[1;32m    902\u001b[0m                 \u001b[0;32mreturn\u001b[0m \u001b[0;32mTrue\u001b[0m\u001b[0;34m\u001b[0m\u001b[0;34m\u001b[0m\u001b[0m\n\u001b[1;32m    903\u001b[0m \u001b[0;34m\u001b[0m\u001b[0m\n",
            "\u001b[0;32m/usr/local/lib/python3.10/dist-packages/joblib/parallel.py\u001b[0m in \u001b[0;36m_dispatch\u001b[0;34m(self, batch)\u001b[0m\n\u001b[1;32m    817\u001b[0m         \u001b[0;32mwith\u001b[0m \u001b[0mself\u001b[0m\u001b[0;34m.\u001b[0m\u001b[0m_lock\u001b[0m\u001b[0;34m:\u001b[0m\u001b[0;34m\u001b[0m\u001b[0;34m\u001b[0m\u001b[0m\n\u001b[1;32m    818\u001b[0m             \u001b[0mjob_idx\u001b[0m \u001b[0;34m=\u001b[0m \u001b[0mlen\u001b[0m\u001b[0;34m(\u001b[0m\u001b[0mself\u001b[0m\u001b[0;34m.\u001b[0m\u001b[0m_jobs\u001b[0m\u001b[0;34m)\u001b[0m\u001b[0;34m\u001b[0m\u001b[0;34m\u001b[0m\u001b[0m\n\u001b[0;32m--> 819\u001b[0;31m             \u001b[0mjob\u001b[0m \u001b[0;34m=\u001b[0m \u001b[0mself\u001b[0m\u001b[0;34m.\u001b[0m\u001b[0m_backend\u001b[0m\u001b[0;34m.\u001b[0m\u001b[0mapply_async\u001b[0m\u001b[0;34m(\u001b[0m\u001b[0mbatch\u001b[0m\u001b[0;34m,\u001b[0m \u001b[0mcallback\u001b[0m\u001b[0;34m=\u001b[0m\u001b[0mcb\u001b[0m\u001b[0;34m)\u001b[0m\u001b[0;34m\u001b[0m\u001b[0;34m\u001b[0m\u001b[0m\n\u001b[0m\u001b[1;32m    820\u001b[0m             \u001b[0;31m# A job can complete so quickly than its callback is\u001b[0m\u001b[0;34m\u001b[0m\u001b[0;34m\u001b[0m\u001b[0m\n\u001b[1;32m    821\u001b[0m             \u001b[0;31m# called before we get here, causing self._jobs to\u001b[0m\u001b[0;34m\u001b[0m\u001b[0;34m\u001b[0m\u001b[0m\n",
            "\u001b[0;32m/usr/local/lib/python3.10/dist-packages/joblib/_parallel_backends.py\u001b[0m in \u001b[0;36mapply_async\u001b[0;34m(self, func, callback)\u001b[0m\n\u001b[1;32m    206\u001b[0m     \u001b[0;32mdef\u001b[0m \u001b[0mapply_async\u001b[0m\u001b[0;34m(\u001b[0m\u001b[0mself\u001b[0m\u001b[0;34m,\u001b[0m \u001b[0mfunc\u001b[0m\u001b[0;34m,\u001b[0m \u001b[0mcallback\u001b[0m\u001b[0;34m=\u001b[0m\u001b[0;32mNone\u001b[0m\u001b[0;34m)\u001b[0m\u001b[0;34m:\u001b[0m\u001b[0;34m\u001b[0m\u001b[0;34m\u001b[0m\u001b[0m\n\u001b[1;32m    207\u001b[0m         \u001b[0;34m\"\"\"Schedule a func to be run\"\"\"\u001b[0m\u001b[0;34m\u001b[0m\u001b[0;34m\u001b[0m\u001b[0m\n\u001b[0;32m--> 208\u001b[0;31m         \u001b[0mresult\u001b[0m \u001b[0;34m=\u001b[0m \u001b[0mImmediateResult\u001b[0m\u001b[0;34m(\u001b[0m\u001b[0mfunc\u001b[0m\u001b[0;34m)\u001b[0m\u001b[0;34m\u001b[0m\u001b[0;34m\u001b[0m\u001b[0m\n\u001b[0m\u001b[1;32m    209\u001b[0m         \u001b[0;32mif\u001b[0m \u001b[0mcallback\u001b[0m\u001b[0;34m:\u001b[0m\u001b[0;34m\u001b[0m\u001b[0;34m\u001b[0m\u001b[0m\n\u001b[1;32m    210\u001b[0m             \u001b[0mcallback\u001b[0m\u001b[0;34m(\u001b[0m\u001b[0mresult\u001b[0m\u001b[0;34m)\u001b[0m\u001b[0;34m\u001b[0m\u001b[0;34m\u001b[0m\u001b[0m\n",
            "\u001b[0;32m/usr/local/lib/python3.10/dist-packages/joblib/_parallel_backends.py\u001b[0m in \u001b[0;36m__init__\u001b[0;34m(self, batch)\u001b[0m\n\u001b[1;32m    595\u001b[0m         \u001b[0;31m# Don't delay the application, to avoid keeping the input\u001b[0m\u001b[0;34m\u001b[0m\u001b[0;34m\u001b[0m\u001b[0m\n\u001b[1;32m    596\u001b[0m         \u001b[0;31m# arguments in memory\u001b[0m\u001b[0;34m\u001b[0m\u001b[0;34m\u001b[0m\u001b[0m\n\u001b[0;32m--> 597\u001b[0;31m         \u001b[0mself\u001b[0m\u001b[0;34m.\u001b[0m\u001b[0mresults\u001b[0m \u001b[0;34m=\u001b[0m \u001b[0mbatch\u001b[0m\u001b[0;34m(\u001b[0m\u001b[0;34m)\u001b[0m\u001b[0;34m\u001b[0m\u001b[0;34m\u001b[0m\u001b[0m\n\u001b[0m\u001b[1;32m    598\u001b[0m \u001b[0;34m\u001b[0m\u001b[0m\n\u001b[1;32m    599\u001b[0m     \u001b[0;32mdef\u001b[0m \u001b[0mget\u001b[0m\u001b[0;34m(\u001b[0m\u001b[0mself\u001b[0m\u001b[0;34m)\u001b[0m\u001b[0;34m:\u001b[0m\u001b[0;34m\u001b[0m\u001b[0;34m\u001b[0m\u001b[0m\n",
            "\u001b[0;32m/usr/local/lib/python3.10/dist-packages/joblib/parallel.py\u001b[0m in \u001b[0;36m__call__\u001b[0;34m(self)\u001b[0m\n\u001b[1;32m    286\u001b[0m         \u001b[0;31m# change the default number of processes to -1\u001b[0m\u001b[0;34m\u001b[0m\u001b[0;34m\u001b[0m\u001b[0m\n\u001b[1;32m    287\u001b[0m         \u001b[0;32mwith\u001b[0m \u001b[0mparallel_backend\u001b[0m\u001b[0;34m(\u001b[0m\u001b[0mself\u001b[0m\u001b[0;34m.\u001b[0m\u001b[0m_backend\u001b[0m\u001b[0;34m,\u001b[0m \u001b[0mn_jobs\u001b[0m\u001b[0;34m=\u001b[0m\u001b[0mself\u001b[0m\u001b[0;34m.\u001b[0m\u001b[0m_n_jobs\u001b[0m\u001b[0;34m)\u001b[0m\u001b[0;34m:\u001b[0m\u001b[0;34m\u001b[0m\u001b[0;34m\u001b[0m\u001b[0m\n\u001b[0;32m--> 288\u001b[0;31m             return [func(*args, **kwargs)\n\u001b[0m\u001b[1;32m    289\u001b[0m                     for func, args, kwargs in self.items]\n\u001b[1;32m    290\u001b[0m \u001b[0;34m\u001b[0m\u001b[0m\n",
            "\u001b[0;32m/usr/local/lib/python3.10/dist-packages/joblib/parallel.py\u001b[0m in \u001b[0;36m<listcomp>\u001b[0;34m(.0)\u001b[0m\n\u001b[1;32m    286\u001b[0m         \u001b[0;31m# change the default number of processes to -1\u001b[0m\u001b[0;34m\u001b[0m\u001b[0;34m\u001b[0m\u001b[0m\n\u001b[1;32m    287\u001b[0m         \u001b[0;32mwith\u001b[0m \u001b[0mparallel_backend\u001b[0m\u001b[0;34m(\u001b[0m\u001b[0mself\u001b[0m\u001b[0;34m.\u001b[0m\u001b[0m_backend\u001b[0m\u001b[0;34m,\u001b[0m \u001b[0mn_jobs\u001b[0m\u001b[0;34m=\u001b[0m\u001b[0mself\u001b[0m\u001b[0;34m.\u001b[0m\u001b[0m_n_jobs\u001b[0m\u001b[0;34m)\u001b[0m\u001b[0;34m:\u001b[0m\u001b[0;34m\u001b[0m\u001b[0;34m\u001b[0m\u001b[0m\n\u001b[0;32m--> 288\u001b[0;31m             return [func(*args, **kwargs)\n\u001b[0m\u001b[1;32m    289\u001b[0m                     for func, args, kwargs in self.items]\n\u001b[1;32m    290\u001b[0m \u001b[0;34m\u001b[0m\u001b[0m\n",
            "\u001b[0;32m/usr/local/lib/python3.10/dist-packages/sklearn/utils/parallel.py\u001b[0m in \u001b[0;36m__call__\u001b[0;34m(self, *args, **kwargs)\u001b[0m\n\u001b[1;32m    121\u001b[0m             \u001b[0mconfig\u001b[0m \u001b[0;34m=\u001b[0m \u001b[0;34m{\u001b[0m\u001b[0;34m}\u001b[0m\u001b[0;34m\u001b[0m\u001b[0;34m\u001b[0m\u001b[0m\n\u001b[1;32m    122\u001b[0m         \u001b[0;32mwith\u001b[0m \u001b[0mconfig_context\u001b[0m\u001b[0;34m(\u001b[0m\u001b[0;34m**\u001b[0m\u001b[0mconfig\u001b[0m\u001b[0;34m)\u001b[0m\u001b[0;34m:\u001b[0m\u001b[0;34m\u001b[0m\u001b[0;34m\u001b[0m\u001b[0m\n\u001b[0;32m--> 123\u001b[0;31m             \u001b[0;32mreturn\u001b[0m \u001b[0mself\u001b[0m\u001b[0;34m.\u001b[0m\u001b[0mfunction\u001b[0m\u001b[0;34m(\u001b[0m\u001b[0;34m*\u001b[0m\u001b[0margs\u001b[0m\u001b[0;34m,\u001b[0m \u001b[0;34m**\u001b[0m\u001b[0mkwargs\u001b[0m\u001b[0;34m)\u001b[0m\u001b[0;34m\u001b[0m\u001b[0;34m\u001b[0m\u001b[0m\n\u001b[0m",
            "\u001b[0;32m/usr/local/lib/python3.10/dist-packages/sklearn/ensemble/_forest.py\u001b[0m in \u001b[0;36m_parallel_build_trees\u001b[0;34m(tree, bootstrap, X, y, sample_weight, tree_idx, n_trees, verbose, class_weight, n_samples_bootstrap)\u001b[0m\n\u001b[1;32m    182\u001b[0m             \u001b[0mcurr_sample_weight\u001b[0m \u001b[0;34m*=\u001b[0m \u001b[0mcompute_sample_weight\u001b[0m\u001b[0;34m(\u001b[0m\u001b[0;34m\"balanced\"\u001b[0m\u001b[0;34m,\u001b[0m \u001b[0my\u001b[0m\u001b[0;34m,\u001b[0m \u001b[0mindices\u001b[0m\u001b[0;34m=\u001b[0m\u001b[0mindices\u001b[0m\u001b[0;34m)\u001b[0m\u001b[0;34m\u001b[0m\u001b[0;34m\u001b[0m\u001b[0m\n\u001b[1;32m    183\u001b[0m \u001b[0;34m\u001b[0m\u001b[0m\n\u001b[0;32m--> 184\u001b[0;31m         \u001b[0mtree\u001b[0m\u001b[0;34m.\u001b[0m\u001b[0mfit\u001b[0m\u001b[0;34m(\u001b[0m\u001b[0mX\u001b[0m\u001b[0;34m,\u001b[0m \u001b[0my\u001b[0m\u001b[0;34m,\u001b[0m \u001b[0msample_weight\u001b[0m\u001b[0;34m=\u001b[0m\u001b[0mcurr_sample_weight\u001b[0m\u001b[0;34m,\u001b[0m \u001b[0mcheck_input\u001b[0m\u001b[0;34m=\u001b[0m\u001b[0;32mFalse\u001b[0m\u001b[0;34m)\u001b[0m\u001b[0;34m\u001b[0m\u001b[0;34m\u001b[0m\u001b[0m\n\u001b[0m\u001b[1;32m    185\u001b[0m     \u001b[0;32melse\u001b[0m\u001b[0;34m:\u001b[0m\u001b[0;34m\u001b[0m\u001b[0;34m\u001b[0m\u001b[0m\n\u001b[1;32m    186\u001b[0m         \u001b[0mtree\u001b[0m\u001b[0;34m.\u001b[0m\u001b[0mfit\u001b[0m\u001b[0;34m(\u001b[0m\u001b[0mX\u001b[0m\u001b[0;34m,\u001b[0m \u001b[0my\u001b[0m\u001b[0;34m,\u001b[0m \u001b[0msample_weight\u001b[0m\u001b[0;34m=\u001b[0m\u001b[0msample_weight\u001b[0m\u001b[0;34m,\u001b[0m \u001b[0mcheck_input\u001b[0m\u001b[0;34m=\u001b[0m\u001b[0;32mFalse\u001b[0m\u001b[0;34m)\u001b[0m\u001b[0;34m\u001b[0m\u001b[0;34m\u001b[0m\u001b[0m\n",
            "\u001b[0;32m/usr/local/lib/python3.10/dist-packages/sklearn/tree/_classes.py\u001b[0m in \u001b[0;36mfit\u001b[0;34m(self, X, y, sample_weight, check_input)\u001b[0m\n\u001b[1;32m   1245\u001b[0m         \"\"\"\n\u001b[1;32m   1246\u001b[0m \u001b[0;34m\u001b[0m\u001b[0m\n\u001b[0;32m-> 1247\u001b[0;31m         super().fit(\n\u001b[0m\u001b[1;32m   1248\u001b[0m             \u001b[0mX\u001b[0m\u001b[0;34m,\u001b[0m\u001b[0;34m\u001b[0m\u001b[0;34m\u001b[0m\u001b[0m\n\u001b[1;32m   1249\u001b[0m             \u001b[0my\u001b[0m\u001b[0;34m,\u001b[0m\u001b[0;34m\u001b[0m\u001b[0;34m\u001b[0m\u001b[0m\n",
            "\u001b[0;32m/usr/local/lib/python3.10/dist-packages/sklearn/tree/_classes.py\u001b[0m in \u001b[0;36mfit\u001b[0;34m(self, X, y, sample_weight, check_input)\u001b[0m\n\u001b[1;32m    377\u001b[0m             )\n\u001b[1;32m    378\u001b[0m \u001b[0;34m\u001b[0m\u001b[0m\n\u001b[0;32m--> 379\u001b[0;31m         \u001b[0mbuilder\u001b[0m\u001b[0;34m.\u001b[0m\u001b[0mbuild\u001b[0m\u001b[0;34m(\u001b[0m\u001b[0mself\u001b[0m\u001b[0;34m.\u001b[0m\u001b[0mtree_\u001b[0m\u001b[0;34m,\u001b[0m \u001b[0mX\u001b[0m\u001b[0;34m,\u001b[0m \u001b[0my\u001b[0m\u001b[0;34m,\u001b[0m \u001b[0msample_weight\u001b[0m\u001b[0;34m)\u001b[0m\u001b[0;34m\u001b[0m\u001b[0;34m\u001b[0m\u001b[0m\n\u001b[0m\u001b[1;32m    380\u001b[0m \u001b[0;34m\u001b[0m\u001b[0m\n\u001b[1;32m    381\u001b[0m         \u001b[0;32mif\u001b[0m \u001b[0mself\u001b[0m\u001b[0;34m.\u001b[0m\u001b[0mn_outputs_\u001b[0m \u001b[0;34m==\u001b[0m \u001b[0;36m1\u001b[0m \u001b[0;32mand\u001b[0m \u001b[0mis_classifier\u001b[0m\u001b[0;34m(\u001b[0m\u001b[0mself\u001b[0m\u001b[0;34m)\u001b[0m\u001b[0;34m:\u001b[0m\u001b[0;34m\u001b[0m\u001b[0;34m\u001b[0m\u001b[0m\n",
            "\u001b[0;31mKeyboardInterrupt\u001b[0m: "
          ]
        }
      ]
    },
    {
      "cell_type": "code",
      "source": [
        "# print(X_pca.shape, y.shape)"
      ],
      "metadata": {
        "colab": {
          "base_uri": "https://localhost:8080/"
        },
        "id": "4W3SBSRXVTu0",
        "outputId": "8c2b6942-a165-4a02-b0c3-d1bbf5934e06"
      },
      "execution_count": 67,
      "outputs": [
        {
          "output_type": "stream",
          "name": "stdout",
          "text": [
            "(1018, 16) (1018,)\n"
          ]
        }
      ]
    },
    {
      "cell_type": "code",
      "source": [
        "import numpy as np\n",
        "import datetime\n",
        "from sklearn.model_selection import train_test_split, GridSearchCV\n",
        "from sklearn.metrics import mean_squared_error, accuracy_score, confusion_matrix, classification_report\n",
        "from sklearn.ensemble import RandomForestRegressor\n",
        "from sklearn.datasets import make_regression\n",
        "from sklearn.metrics import accuracy_score, confusion_matrix, classification_report\n",
        "from sklearn.feature_selection import SelectFromModel\n",
        "\n",
        "from sklearn.metrics import make_scorer\n",
        "from sklearn.model_selection import cross_val_score\n",
        "from sklearn.model_selection import StratifiedKFold\n",
        "\n",
        "#cross_val_score(classifier, X, y, cv=3, scoring=log_loss_score)\n",
        "\n",
        "grid1 = {\n",
        "    'n_estimators': [200,300,400,500,600,700,800],\n",
        "    # 'n_estimators': [500],\n",
        "    'max_features': ['sqrt'],\n",
        "    'max_depth' : [5,6,7, 8,9,10],\n",
        "    # 'max_depth' : [6],\n",
        "    'random_state' : [0]\n",
        "}\n",
        "## show start time\n",
        "print(datetime.datetime.now())\n",
        "skf = StratifiedKFold(n_splits=5)\n",
        "CV_rfr = GridSearchCV(estimator=RandomForestRegressor(), param_grid=grid1, cv= skf, scoring = rf_log_loss_score, error_score = 'raise')\n",
        "# CV_rfr = GridSearchCV(estimator=RandomForestRegressor(), param_grid=grid1, cv= 5, error_score = 'raise')\n",
        "CV_rfr.fit(X, y)"
      ],
      "metadata": {
        "colab": {
          "base_uri": "https://localhost:8080/",
          "height": 136
        },
        "id": "6rzMmu0WUMhR",
        "outputId": "006d4935-dc68-4f18-8269-f20ae47cc3ed"
      },
      "execution_count": 39,
      "outputs": [
        {
          "output_type": "stream",
          "name": "stdout",
          "text": [
            "2023-06-24 20:16:41.467826\n"
          ]
        },
        {
          "output_type": "execute_result",
          "data": {
            "text/plain": [
              "GridSearchCV(cv=StratifiedKFold(n_splits=5, random_state=None, shuffle=False),\n",
              "             error_score='raise', estimator=RandomForestRegressor(),\n",
              "             param_grid={'max_depth': [5, 6, 7, 8, 9, 10],\n",
              "                         'max_features': ['sqrt'],\n",
              "                         'n_estimators': [200, 300, 400, 500, 600, 700, 800],\n",
              "                         'random_state': [0]},\n",
              "             scoring=make_scorer(log_loss, greater_is_better=False))"
            ],
            "text/html": [
              "<style>#sk-container-id-1 {color: black;background-color: white;}#sk-container-id-1 pre{padding: 0;}#sk-container-id-1 div.sk-toggleable {background-color: white;}#sk-container-id-1 label.sk-toggleable__label {cursor: pointer;display: block;width: 100%;margin-bottom: 0;padding: 0.3em;box-sizing: border-box;text-align: center;}#sk-container-id-1 label.sk-toggleable__label-arrow:before {content: \"▸\";float: left;margin-right: 0.25em;color: #696969;}#sk-container-id-1 label.sk-toggleable__label-arrow:hover:before {color: black;}#sk-container-id-1 div.sk-estimator:hover label.sk-toggleable__label-arrow:before {color: black;}#sk-container-id-1 div.sk-toggleable__content {max-height: 0;max-width: 0;overflow: hidden;text-align: left;background-color: #f0f8ff;}#sk-container-id-1 div.sk-toggleable__content pre {margin: 0.2em;color: black;border-radius: 0.25em;background-color: #f0f8ff;}#sk-container-id-1 input.sk-toggleable__control:checked~div.sk-toggleable__content {max-height: 200px;max-width: 100%;overflow: auto;}#sk-container-id-1 input.sk-toggleable__control:checked~label.sk-toggleable__label-arrow:before {content: \"▾\";}#sk-container-id-1 div.sk-estimator input.sk-toggleable__control:checked~label.sk-toggleable__label {background-color: #d4ebff;}#sk-container-id-1 div.sk-label input.sk-toggleable__control:checked~label.sk-toggleable__label {background-color: #d4ebff;}#sk-container-id-1 input.sk-hidden--visually {border: 0;clip: rect(1px 1px 1px 1px);clip: rect(1px, 1px, 1px, 1px);height: 1px;margin: -1px;overflow: hidden;padding: 0;position: absolute;width: 1px;}#sk-container-id-1 div.sk-estimator {font-family: monospace;background-color: #f0f8ff;border: 1px dotted black;border-radius: 0.25em;box-sizing: border-box;margin-bottom: 0.5em;}#sk-container-id-1 div.sk-estimator:hover {background-color: #d4ebff;}#sk-container-id-1 div.sk-parallel-item::after {content: \"\";width: 100%;border-bottom: 1px solid gray;flex-grow: 1;}#sk-container-id-1 div.sk-label:hover label.sk-toggleable__label {background-color: #d4ebff;}#sk-container-id-1 div.sk-serial::before {content: \"\";position: absolute;border-left: 1px solid gray;box-sizing: border-box;top: 0;bottom: 0;left: 50%;z-index: 0;}#sk-container-id-1 div.sk-serial {display: flex;flex-direction: column;align-items: center;background-color: white;padding-right: 0.2em;padding-left: 0.2em;position: relative;}#sk-container-id-1 div.sk-item {position: relative;z-index: 1;}#sk-container-id-1 div.sk-parallel {display: flex;align-items: stretch;justify-content: center;background-color: white;position: relative;}#sk-container-id-1 div.sk-item::before, #sk-container-id-1 div.sk-parallel-item::before {content: \"\";position: absolute;border-left: 1px solid gray;box-sizing: border-box;top: 0;bottom: 0;left: 50%;z-index: -1;}#sk-container-id-1 div.sk-parallel-item {display: flex;flex-direction: column;z-index: 1;position: relative;background-color: white;}#sk-container-id-1 div.sk-parallel-item:first-child::after {align-self: flex-end;width: 50%;}#sk-container-id-1 div.sk-parallel-item:last-child::after {align-self: flex-start;width: 50%;}#sk-container-id-1 div.sk-parallel-item:only-child::after {width: 0;}#sk-container-id-1 div.sk-dashed-wrapped {border: 1px dashed gray;margin: 0 0.4em 0.5em 0.4em;box-sizing: border-box;padding-bottom: 0.4em;background-color: white;}#sk-container-id-1 div.sk-label label {font-family: monospace;font-weight: bold;display: inline-block;line-height: 1.2em;}#sk-container-id-1 div.sk-label-container {text-align: center;}#sk-container-id-1 div.sk-container {/* jupyter's `normalize.less` sets `[hidden] { display: none; }` but bootstrap.min.css set `[hidden] { display: none !important; }` so we also need the `!important` here to be able to override the default hidden behavior on the sphinx rendered scikit-learn.org. See: https://github.com/scikit-learn/scikit-learn/issues/21755 */display: inline-block !important;position: relative;}#sk-container-id-1 div.sk-text-repr-fallback {display: none;}</style><div id=\"sk-container-id-1\" class=\"sk-top-container\"><div class=\"sk-text-repr-fallback\"><pre>GridSearchCV(cv=StratifiedKFold(n_splits=5, random_state=None, shuffle=False),\n",
              "             error_score=&#x27;raise&#x27;, estimator=RandomForestRegressor(),\n",
              "             param_grid={&#x27;max_depth&#x27;: [5, 6, 7, 8, 9, 10],\n",
              "                         &#x27;max_features&#x27;: [&#x27;sqrt&#x27;],\n",
              "                         &#x27;n_estimators&#x27;: [200, 300, 400, 500, 600, 700, 800],\n",
              "                         &#x27;random_state&#x27;: [0]},\n",
              "             scoring=make_scorer(log_loss, greater_is_better=False))</pre><b>In a Jupyter environment, please rerun this cell to show the HTML representation or trust the notebook. <br />On GitHub, the HTML representation is unable to render, please try loading this page with nbviewer.org.</b></div><div class=\"sk-container\" hidden><div class=\"sk-item sk-dashed-wrapped\"><div class=\"sk-label-container\"><div class=\"sk-label sk-toggleable\"><input class=\"sk-toggleable__control sk-hidden--visually\" id=\"sk-estimator-id-1\" type=\"checkbox\" ><label for=\"sk-estimator-id-1\" class=\"sk-toggleable__label sk-toggleable__label-arrow\">GridSearchCV</label><div class=\"sk-toggleable__content\"><pre>GridSearchCV(cv=StratifiedKFold(n_splits=5, random_state=None, shuffle=False),\n",
              "             error_score=&#x27;raise&#x27;, estimator=RandomForestRegressor(),\n",
              "             param_grid={&#x27;max_depth&#x27;: [5, 6, 7, 8, 9, 10],\n",
              "                         &#x27;max_features&#x27;: [&#x27;sqrt&#x27;],\n",
              "                         &#x27;n_estimators&#x27;: [200, 300, 400, 500, 600, 700, 800],\n",
              "                         &#x27;random_state&#x27;: [0]},\n",
              "             scoring=make_scorer(log_loss, greater_is_better=False))</pre></div></div></div><div class=\"sk-parallel\"><div class=\"sk-parallel-item\"><div class=\"sk-item\"><div class=\"sk-label-container\"><div class=\"sk-label sk-toggleable\"><input class=\"sk-toggleable__control sk-hidden--visually\" id=\"sk-estimator-id-2\" type=\"checkbox\" ><label for=\"sk-estimator-id-2\" class=\"sk-toggleable__label sk-toggleable__label-arrow\">estimator: RandomForestRegressor</label><div class=\"sk-toggleable__content\"><pre>RandomForestRegressor()</pre></div></div></div><div class=\"sk-serial\"><div class=\"sk-item\"><div class=\"sk-estimator sk-toggleable\"><input class=\"sk-toggleable__control sk-hidden--visually\" id=\"sk-estimator-id-3\" type=\"checkbox\" ><label for=\"sk-estimator-id-3\" class=\"sk-toggleable__label sk-toggleable__label-arrow\">RandomForestRegressor</label><div class=\"sk-toggleable__content\"><pre>RandomForestRegressor()</pre></div></div></div></div></div></div></div></div></div></div>"
            ]
          },
          "metadata": {},
          "execution_count": 39
        }
      ]
    },
    {
      "cell_type": "code",
      "source": [
        "pred = CV_rfr.best_estimator_.predict(X)\n",
        "\n",
        "N_0 = (y == 0).sum()\n",
        "N_1 = (y == 1).sum()\n",
        "\n",
        "y_0 = y\n",
        "y_1 = -1 * (y - 1)\n",
        "\n",
        "p_0 = np.log(pred + 1)\n",
        "p_1 = np.log(1 - pred + 1)\n",
        "\n",
        "log_loss = ((-1/N_0)*(np.sum(y_0*p_0)) + (-1/N_1)*(np.sum(y_1*p_1)))/2\n",
        "log_loss"
      ],
      "metadata": {
        "colab": {
          "base_uri": "https://localhost:8080/"
        },
        "id": "iP4SQoqWVh47",
        "outputId": "5e6e76a3-dda5-4d1a-8f41-642a06697397"
      },
      "execution_count": 40,
      "outputs": [
        {
          "output_type": "execute_result",
          "data": {
            "text/plain": [
              "-0.6639246864598396"
            ]
          },
          "metadata": {},
          "execution_count": 40
        }
      ]
    },
    {
      "cell_type": "code",
      "source": [
        "#CORRECT LOG LOSS TO USE\n",
        "def log_loss(y_true, prob_pred):\n",
        "    \"\"\"\n",
        "    Calculates log loss for two classes (0 & 1).\n",
        "    Parameters:\n",
        "        y_true: True labels array for the classes.\n",
        "        prob_pred: Predicted probability values for the class.\n",
        "    Returns:\n",
        "        Log loss for the input.\n",
        "    \"\"\"\n",
        "\n",
        "    N_0 = (y_true == 0).sum()\n",
        "    N_1 = (y_true == 1).sum()\n",
        "\n",
        "    y_0 = y_true\n",
        "    y_1 = -1 * (y_true - 1)\n",
        "\n",
        "    p_0 = np.log(prob_pred + 1)\n",
        "    p_1 = np.log(1 - prob_pred + 1)\n",
        "\n",
        "    log_loss = ((-1/N_0)*(np.sum(y_0*p_0)) + (-1/N_1)*(np.sum(y_1*p_1)))/2\n",
        "\n",
        "    return log_loss"
      ],
      "metadata": {
        "id": "9TKvROsfFKi_"
      },
      "execution_count": 48,
      "outputs": []
    },
    {
      "cell_type": "code",
      "source": [
        "log_loss_rf = log_loss(y, pred)\n",
        "print(log_loss_rf)"
      ],
      "metadata": {
        "colab": {
          "base_uri": "https://localhost:8080/"
        },
        "id": "v_thD50qFLr6",
        "outputId": "03b2f8cf-8296-4d40-b86b-4675580da352"
      },
      "execution_count": 42,
      "outputs": [
        {
          "output_type": "stream",
          "name": "stdout",
          "text": [
            "-0.6639246864598396\n"
          ]
        }
      ]
    },
    {
      "cell_type": "markdown",
      "source": [
        "### Logistic Regression"
      ],
      "metadata": {
        "id": "J4VX2KjQ_seU"
      }
    },
    {
      "cell_type": "code",
      "source": [
        "from sklearn.linear_model import LogisticRegression\n",
        "\n",
        "log_loss_score = make_scorer(score_func=get_log_loss, greater_is_better=False, needs_proba=True)\n",
        "# Create a dictionary of hyperparameters to search over\n",
        "params = {'C': [1,2,3], 'penalty': ['l2']}\n",
        "\n",
        "# Create a grid search object\n",
        "skf = StratifiedKFold(n_splits=5)\n",
        "\n",
        "gs_LR = GridSearchCV(LogisticRegression(), param_grid=params, cv= skf, scoring = log_loss_score)\n",
        "\n",
        "# Fit the grid search object to the training data\n",
        "gs_LR.fit(X, y)\n",
        "\n",
        "# Print the best parameters found by the grid search\n",
        "\n",
        "print(gs_LR.best_params_)\n",
        "\n",
        "pred = gs_LR.best_estimator_.predict(X)\n",
        "\n",
        "log_loss_rf = log_loss(y, pred)\n",
        "print(log_loss_rf)"
      ],
      "metadata": {
        "colab": {
          "base_uri": "https://localhost:8080/"
        },
        "id": "2ONf5nVHXpPF",
        "outputId": "d585209e-9624-437b-9631-fdb8a7690776"
      },
      "execution_count": 86,
      "outputs": [
        {
          "output_type": "stream",
          "name": "stdout",
          "text": [
            "{'C': 3, 'penalty': 'l2'}\n",
            "-0.6209727197157859\n"
          ]
        }
      ]
    },
    {
      "cell_type": "markdown",
      "source": [
        "### KNN"
      ],
      "metadata": {
        "id": "VNbi9509JA7D"
      }
    },
    {
      "cell_type": "code",
      "source": [
        "k_range = list(range(1, 31))\n",
        "params = dict(n_neighbors=k_range)\n",
        "\n",
        "# defining parameter range\n",
        "grid = GridSearchCV(KNN(), param_grid=params, cv= skf, scoring = log_loss_score)\n",
        "\n",
        "# fitting the model for grid search\n",
        "grid_search=grid.fit(x_train, y_train)"
      ],
      "metadata": {
        "id": "OcpJxSOhJfCA"
      },
      "execution_count": null,
      "outputs": []
    }
  ]
}