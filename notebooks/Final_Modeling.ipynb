{
  "cells": [
    {
      "cell_type": "code",
      "execution_count": null,
      "id": "25455925",
      "metadata": {
        "id": "25455925"
      },
      "outputs": [],
      "source": [
        "## Import required packages for data manipulation and visualization, and curve fitting\n",
        "\n",
        "import pandas as pd\n",
        "import numpy as np\n",
        "import matplotlib.pyplot as plt\n",
        "import seaborn as sns\n",
        "import scipy.stats\n",
        "try:\n",
        "  from fitter import Fitter, get_common_distributions, get_distributions\n",
        "except:\n",
        "  !pip install fitter\n",
        "  from fitter import Fitter\n",
        "from sklearn.svm import SVC\n",
        "from sklearn.preprocessing import StandardScaler, MinMaxScaler\n",
        "from imblearn.over_sampling import SMOTE\n",
        "from sklearn.decomposition import PCA\n",
        "\n",
        "from sklearn.metrics import make_scorer\n",
        "from sklearn.model_selection import cross_val_score\n",
        "from sklearn.model_selection import StratifiedKFold"
      ]
    },
    {
      "cell_type": "code",
      "source": [
        "!pip install catBoost"
      ],
      "metadata": {
        "id": "YCDKaNr9aTRj"
      },
      "id": "YCDKaNr9aTRj",
      "execution_count": null,
      "outputs": []
    },
    {
      "cell_type": "code",
      "source": [
        "greeks.info()"
      ],
      "metadata": {
        "colab": {
          "base_uri": "https://localhost:8080/"
        },
        "id": "TtWVRgVbTc5F",
        "outputId": "ce234f29-10c8-4943-a5f6-ce674d74c071"
      },
      "id": "TtWVRgVbTc5F",
      "execution_count": null,
      "outputs": [
        {
          "output_type": "stream",
          "name": "stdout",
          "text": [
            "<class 'pandas.core.frame.DataFrame'>\n",
            "Index: 617 entries, 000ff2bfdfe9 to ffcca4ded3bb\n",
            "Data columns (total 5 columns):\n",
            " #   Column   Non-Null Count  Dtype \n",
            "---  ------   --------------  ----- \n",
            " 0   Alpha    617 non-null    object\n",
            " 1   Beta     617 non-null    object\n",
            " 2   Gamma    617 non-null    object\n",
            " 3   Delta    617 non-null    object\n",
            " 4   Epsilon  617 non-null    object\n",
            "dtypes: object(5)\n",
            "memory usage: 28.9+ KB\n"
          ]
        }
      ]
    },
    {
      "cell_type": "code",
      "execution_count": null,
      "id": "153752fb",
      "metadata": {
        "id": "153752fb"
      },
      "outputs": [],
      "source": [
        "from sklearn.preprocessing import LabelEncoder\n",
        "\n",
        "def encode_class_as_label(df):\n",
        "\n",
        "    le = LabelEncoder()\n",
        "    df.Class = le.fit_transform(df.Class)\n",
        "\n",
        "    return df"
      ]
    },
    {
      "cell_type": "code",
      "execution_count": null,
      "id": "285d2129",
      "metadata": {
        "id": "285d2129"
      },
      "outputs": [],
      "source": [
        "def one_hot_encode_feature(df, col='EJ'):\n",
        "    \"\"\"\n",
        "    Given dataframe df performs one hot encoding on categorical feature col\n",
        "    \"\"\"\n",
        "    if df[col].isna().sum() != 0:\n",
        "        df[col].fillna(value=df[col].mode, inplace=True)\n",
        "\n",
        "    encoded_feature = pd.get_dummies(df[col], prefix=f'{col}')\n",
        "    df.drop([col], axis=1, inplace=True)\n",
        "    df = df.join(encoded_feature)\n",
        "\n",
        "    if f'{col}_A' not in df.columns:\n",
        "        df[f'{col}_A'] = 0\n",
        "\n",
        "    if f'{col}_B' not in df.columns:\n",
        "        df[f'{col}_B'] = 0\n",
        "\n",
        "    return df"
      ]
    },
    {
      "cell_type": "code",
      "execution_count": null,
      "id": "a4ef6443",
      "metadata": {
        "id": "a4ef6443"
      },
      "outputs": [],
      "source": [
        "def fit_and_sample(data, n_missing):\n",
        "    \"\"\"\n",
        "    Fit a ditribution on the given data and return randomly picked samples/distribution mode\n",
        "    based on the fitted distribution.\n",
        "    \"\"\"\n",
        "    distribution_list = {\n",
        "        'dweibull': scipy.stats.dweibull,\n",
        "        'gengamma': scipy.stats.gengamma,\n",
        "        'chi': scipy.stats.chi\n",
        "    }\n",
        "\n",
        "    if n_missing > 5:\n",
        "        try:\n",
        "            f = Fitter(data, distributions=distribution_list.keys())\n",
        "            f.fit()\n",
        "\n",
        "            # Find the best fitting distribution\n",
        "            best_fit = list(f.get_best().keys())[0]\n",
        "\n",
        "            # Generating values based on probability distribution\n",
        "            high = data.max()\n",
        "            low = data.min()\n",
        "            x = np.linspace(low, high, num=len(data))\n",
        "\n",
        "            dist = distribution_list[best_fit]\n",
        "            samples = dist.rvs(*f.fitted_param[best_fit], size=n_missing)\n",
        "\n",
        "            return samples\n",
        "\n",
        "\n",
        "        except:\n",
        "            distribution = np.histogram(data)\n",
        "            mode = distribution[1][distribution[0].argmax()+1]\n",
        "\n",
        "            return np.array([mode]*n_missing)\n",
        "\n",
        "\n",
        "    else:\n",
        "\n",
        "        distribution = np.histogram(data)\n",
        "        mode = distribution[1][distribution[0].argmax()+1]\n",
        "\n",
        "        return mode"
      ]
    },
    {
      "cell_type": "code",
      "execution_count": null,
      "id": "41e54ce6",
      "metadata": {
        "id": "41e54ce6"
      },
      "outputs": [],
      "source": [
        "def impute_missing_values(df):\n",
        "    \"\"\"\n",
        "    Imputes missing values in the given dataframe df based on a fitted probability distribution.\n",
        "    \"\"\"\n",
        "\n",
        "    for col in df.columns:\n",
        "\n",
        "        if df[col].isna().sum() == 0:\n",
        "\n",
        "            # Pass if the feature column does not contain any missing values\n",
        "            pass\n",
        "\n",
        "\n",
        "        else:\n",
        "\n",
        "            if 'Class' in df.columns:\n",
        "                # Fit the feature column values on a list of distributions\n",
        "                df_class_0 = df[df.Class == 0][col]\n",
        "                df_class_1 = df[df.Class == 1][col]\n",
        "\n",
        "                if df_class_0.isna().sum() != 0:\n",
        "                    df.loc[(df[col].isna())&(df.Class == 0), col] = \\\n",
        "                        fit_and_sample(df[(df[col].notna())&(df.Class == 0)][col], df_class_0.isna().sum())\n",
        "\n",
        "                if df_class_1.isna().sum() != 0:\n",
        "                    df.loc[(df[col].isna())&(df.Class == 1), col] = \\\n",
        "                        fit_and_sample(df[(df[col].notna())&(df.Class == 1)][col], df_class_1.isna().sum())\n",
        "\n",
        "            else:\n",
        "                df.loc[(df[col].isna()), col] = fit_and_sample(df[(df[col].notna())][col], df[col].isna().sum())\n",
        "\n",
        "\n",
        "    # Check if any missing values exist\n",
        "    print(f\"Number of missing values: {df.isna().sum().sum()}\")\n",
        "\n",
        "\n",
        "    return df"
      ]
    },
    {
      "cell_type": "code",
      "execution_count": null,
      "id": "d494a48e",
      "metadata": {
        "id": "d494a48e"
      },
      "outputs": [],
      "source": [
        "def get_log_loss(y_true, prob_pred):\n",
        "    \"\"\"\n",
        "    Calculates log loss for two classes (0 & 1).\n",
        "    Parameters:\n",
        "        y_true: True labels array for the classes.\n",
        "        prob_pred: Predicted probability values for the class.\n",
        "    Returns:\n",
        "        Log loss for the input.\n",
        "    \"\"\"\n",
        "\n",
        "    N_0 = (y_true == 0).sum()\n",
        "    N_1 = (y_true == 1).sum()\n",
        "\n",
        "    y_0 = y_true\n",
        "    y_1 = -1 * (y_true - 1)\n",
        "\n",
        "    p_0 = np.log(prob_pred + 0.000001)\n",
        "    p_1 = np.log(1 - prob_pred + 0.000001)\n",
        "\n",
        "\n",
        "    log_loss = ((-1/N_0)*(np.sum(y_0*p_0)) + (-1/N_1)*(np.sum(y_1*p_1)))/2\n",
        "\n",
        "    return log_loss"
      ]
    },
    {
      "cell_type": "code",
      "execution_count": null,
      "id": "b9825405",
      "metadata": {
        "id": "b9825405"
      },
      "outputs": [],
      "source": [
        "def oversample_data(X, y, pass_func=False):\n",
        "\n",
        "    if pass_func:\n",
        "        return X, y\n",
        "\n",
        "    else:\n",
        "        oversample = SMOTE()\n",
        "\n",
        "        df, y_oversampled = oversample.fit_resample(X, y)\n",
        "        df['Class'] = y_oversampled\n",
        "\n",
        "        df = df.sample(frac=1).reset_index(drop=True)\n",
        "\n",
        "\n",
        "        return df.drop('Class', axis=1), df['Class']\n",
        "\n",
        "\n",
        "\n",
        "def reduce_dimensions(df, num_components=30):\n",
        "\n",
        "    pca = PCA(n_components=num_components)\n",
        "    new_cols = [f'component_{i+1}' for i in range(num_components)]\n",
        "\n",
        "    X = pca.fit_transform(df)\n",
        "\n",
        "    return pd.DataFrame(X, columns=new_cols)"
      ]
    },
    {
      "cell_type": "code",
      "execution_count": null,
      "id": "50edda5c",
      "metadata": {
        "id": "50edda5c"
      },
      "outputs": [],
      "source": [
        "def join_greeks(df, greeks, join_class):\n",
        "\n",
        "    df = pd.merge(greeks[(greeks.Alpha == 'A')|(greeks.Alpha == join_class)]['Alpha'], df, \\\n",
        "                      left_index=True, right_index=True)\n",
        "\n",
        "    df.drop(['Class'], axis=1, inplace=True)\n",
        "    df.rename({'Alpha': 'Class'}, inplace=True, axis=1)\n",
        "    df['Class'] = df.pop('Class')\n",
        "\n",
        "    return df"
      ]
    },
    {
      "cell_type": "markdown",
      "id": "ba756341",
      "metadata": {
        "id": "ba756341"
      },
      "source": [
        "# Pre-process and prepare for modeling"
      ]
    },
    {
      "cell_type": "code",
      "source": [
        "\n",
        "## Reading the train and test data csv files from the data folder\n",
        "\n",
        "try:\n",
        "  train_data = pd.read_csv('./data/icr-identify-age-related-conditions/train.csv', index_col='Id')\n",
        "  test_data = pd.read_csv('./data/icr-identify-age-related-conditions/test.csv', index_col='Id')\n",
        "  greeks = pd.read_csv('./data/icr-identify-age-related-conditions/greeks.csv', index_col='Id')\n",
        "\n",
        "except:\n",
        "  from google.colab import drive\n",
        "  drive.mount('/content/drive')\n",
        "  train_data = pd.read_csv('/content/drive/MyDrive/Capstone/ICR - Identifying Age-Related Conditions/data/train.csv', index_col='Id')\n",
        "  test_data = pd.read_csv('/content/drive/MyDrive/Capstone/ICR - Identifying Age-Related Conditions/data/test.csv', index_col='Id')\n",
        "  greeks = pd.read_csv('/content/drive/MyDrive/Capstone/ICR - Identifying Age-Related Conditions/data/greeks.csv', index_col='Id')"
      ],
      "metadata": {
        "id": "_JdpSwb6l44o"
      },
      "id": "_JdpSwb6l44o",
      "execution_count": null,
      "outputs": []
    },
    {
      "cell_type": "code",
      "source": [
        "from sklearn.model_selection import train_test_split\n",
        "\n",
        "X_train, X_test, y_train, y_test = train_test_split(train_data.drop('Class', axis=1), train_data['Class'], test_size=0.20, random_state=42)"
      ],
      "metadata": {
        "id": "jK1tMsELcjI3"
      },
      "id": "jK1tMsELcjI3",
      "execution_count": null,
      "outputs": []
    },
    {
      "cell_type": "code",
      "execution_count": null,
      "id": "672810ae",
      "metadata": {
        "colab": {
          "base_uri": "https://localhost:8080/"
        },
        "id": "672810ae",
        "outputId": "7491ad7d-9654-4745-8784-ddd14cfd31e0"
      },
      "outputs": [
        {
          "output_type": "stream",
          "name": "stderr",
          "text": [
            "Fitting 3 distributions: 100%|██████████| 3/3 [00:00<00:00,  6.37it/s]\n",
            "Fitting 3 distributions: 100%|██████████| 3/3 [00:00<00:00,  6.41it/s]\n"
          ]
        },
        {
          "output_type": "stream",
          "name": "stdout",
          "text": [
            "Number of missing values: 0\n"
          ]
        },
        {
          "output_type": "stream",
          "name": "stderr",
          "text": [
            "Fitting 3 distributions: 100%|██████████| 3/3 [00:00<00:00,  7.57it/s]\n",
            "Fitting 3 distributions: 100%|██████████| 3/3 [00:00<00:00,  5.94it/s]\n"
          ]
        },
        {
          "output_type": "stream",
          "name": "stdout",
          "text": [
            "Number of missing values: 0\n"
          ]
        }
      ],
      "source": [
        "# One hot encode data\n",
        "train_data = pd.concat([X_train, y_train], axis=1)\n",
        "\n",
        "train_ohe = one_hot_encode_feature(train_data.copy())\n",
        "test_ohe = one_hot_encode_feature(X_test.copy())\n",
        "\n",
        "\n",
        "# Impute missing values\n",
        "train_df = impute_missing_values(train_ohe.copy())\n",
        "test_df = impute_missing_values(test_ohe.copy())\n",
        "\n",
        "\n",
        "# Scale data between 0 and 1\n",
        "\n",
        "for col in train_df.drop('Class', axis=1).columns:\n",
        "\n",
        "    train_len = train_df.shape[0]\n",
        "    scalar = MinMaxScaler(feature_range=(0,1))\n",
        "    scaled_values = scalar.fit_transform(pd.concat([train_df.loc[:, [col]], test_df.loc[:, [col]]], axis=0))\n",
        "    train_df[col] = scaled_values[:train_len, :]\n",
        "    test_df[col] =  scaled_values[train_len:, :]\n",
        "\n",
        "\n",
        "X_test = test_df.copy()\n",
        "\n",
        "# Join greeks data\n",
        "train_df_B = join_greeks(train_df, greeks, join_class='B')\n",
        "train_df_D = join_greeks(train_df, greeks, join_class='D')\n",
        "train_df_G = join_greeks(train_df, greeks, join_class='G')\n",
        "\n",
        "train_df = pd.merge(greeks['Alpha'], train_df, \\\n",
        "                  left_index=True, right_index=True)\n",
        "\n",
        "train_df.drop(['Class'], axis=1, inplace=True)\n",
        "train_df.rename({'Alpha': 'Class'}, inplace=True, axis=1)\n",
        "train_df['Class'] = train_df.pop('Class')\n",
        "\n",
        "\n",
        "\n",
        "# Encode labels\n",
        "train_df_B = encode_class_as_label(train_df_B)\n",
        "train_df_D = encode_class_as_label(train_df_D)\n",
        "train_df_G = encode_class_as_label(train_df_G)\n",
        "train_df = encode_class_as_label(train_df.copy())\n",
        "\n",
        "\n",
        "\n",
        "# Oversample data for minority class\n",
        "X_train_B, y_train_B = oversample_data(train_df_B.drop('Class', axis=1), train_df_B['Class'])\n",
        "X_train_D, y_train_D = oversample_data(train_df_D.drop('Class', axis=1), train_df_D['Class'])\n",
        "X_train_G, y_train_G = oversample_data(train_df_G.drop('Class', axis=1), train_df_G['Class'])\n",
        "X_train_4L, y_train_4L = oversample_data(train_df.drop('Class', axis=1), train_df['Class'])"
      ]
    },
    {
      "cell_type": "code",
      "source": [
        "from catboost import CatBoostClassifier\n",
        "from sklearn.neighbors import NearestNeighbors\n",
        "from sklearn.naive_bayes import GaussianNB\n",
        "from sklearn.linear_model import LogisticRegression\n",
        "from sklearn.ensemble import RandomForestClassifier\n",
        "from sklearn.svm import SVC"
      ],
      "metadata": {
        "id": "VrCpRdULaUjD"
      },
      "id": "VrCpRdULaUjD",
      "execution_count": null,
      "outputs": []
    },
    {
      "cell_type": "code",
      "source": [
        "from sklearn.metrics import recall_score, f1_score\n",
        "\n",
        "def get_log_loss(y_true, class_0, class_1):\n",
        "    \"\"\"\n",
        "    Calculates log loss for two classes (0 & 1).\n",
        "    Parameters:\n",
        "        y_true: True labels array for the classes.\n",
        "        prob_pred: Predicted probability values for the class.\n",
        "    Returns:\n",
        "        Log loss for the input.\n",
        "    \"\"\"\n",
        "\n",
        "    N_0 = (y_true == 0).sum()\n",
        "    N_1 = (y_true == 1).sum()\n",
        "\n",
        "    y_1 = y_true\n",
        "    y_0 = -1 * (y_true - 1)\n",
        "\n",
        "    p_0 = np.log(class_0 + 0.000001)\n",
        "    p_1 = np.log(class_1 + 0.000001)\n",
        "\n",
        "\n",
        "    log_loss = ((-1/N_0)*(np.sum(y_0*p_0)) + (-1/N_1)*(np.sum(y_1*p_1)))/2\n",
        "\n",
        "    return log_loss\n"
      ],
      "metadata": {
        "id": "2sJxnszXiXRU"
      },
      "id": "2sJxnszXiXRU",
      "execution_count": null,
      "outputs": []
    },
    {
      "cell_type": "code",
      "source": [
        "models = [SVC(probability=True), \\\n",
        "          GaussianNB(var_smoothing=0.2), \\\n",
        "          RandomForestClassifier(), \\\n",
        "          CatBoostClassifier(verbose=False), \\\n",
        "          LogisticRegression(**{'C': 8, 'max_iter': 300, 'penalty': 'l2'})]"
      ],
      "metadata": {
        "id": "KzmnsEPviavt"
      },
      "id": "KzmnsEPviavt",
      "execution_count": null,
      "outputs": []
    },
    {
      "cell_type": "code",
      "source": [
        "X_train = pd.concat([X_train_B, X_train_D, X_train_G], axis=0)\n",
        "y_train = pd.concat([y_train_B, y_train_D, y_train_G], axis=0)\n",
        "\n",
        "model = models[0]\n",
        "\n",
        "model_B = model\n",
        "model_B.fit(X_train_B.iloc[:800], y_train_B.iloc[:800])\n",
        "predictions = model_B.predict_proba(X_test)\n",
        "class_0_B = predictions[:, 0]\n",
        "class_1_B = predictions[:, 1]\n",
        "\n",
        "\n",
        "model_D = model\n",
        "model_D.fit(X_train_D, y_train_D)\n",
        "predictions = model_D.predict_proba(X_test)\n",
        "class_0_D = predictions[:, 0]\n",
        "class_1_D = predictions[:, 1]\n",
        "\n",
        "\n",
        "model_G = model\n",
        "model_G.fit(X_train_G, y_train_G)\n",
        "predictions = model_G.predict_proba(X_test)\n",
        "class_0_G = predictions[:, 0]\n",
        "class_1_G = predictions[:, 1]\n",
        "\n",
        "\n",
        "\n",
        "model_all = model\n",
        "model_all.fit(X_train_4L, y_train_4L)\n",
        "predictions = model_all.predict_proba(X_test)\n",
        "class_0_single = predictions[:, 0]\n",
        "class_1_all = predictions[:, 1]\n",
        "class_2_all = predictions[:, 2]\n",
        "class_3_all = predictions[:, 3]\n",
        "\n",
        "# Calculate probability votes for class 0 and 1 - multi-model approach\n",
        "class_0 = np.max((class_0_B, class_0_D, class_0_G), 0)\n",
        "class_1 = np.max((class_1_B, class_1_D, class_1_G), 0)\n",
        "\n",
        "class_0_multi = class_0\n",
        "class_1_multi = class_1\n",
        "class_1_single = np.max((class_1_all, class_2_all, class_3_all), 0)\n",
        "labels_pred_multi = np.zeros_like(class_0_multi)\n",
        "labels_pred_single = np.zeros_like(class_1_single)\n",
        "\n",
        "labels_pred_multi[class_1_multi > class_0_multi] = 1\n",
        "labels_pred_single[class_1_single > class_0_single] = 1"
      ],
      "metadata": {
        "id": "YiNbOBsuUvsQ"
      },
      "id": "YiNbOBsuUvsQ",
      "execution_count": null,
      "outputs": []
    },
    {
      "cell_type": "code",
      "source": [
        "print(get_log_loss(y_test, class_0_multi, class_1_multi))\n",
        "print(get_log_loss(y_test, class_0_single, class_1_single))"
      ],
      "metadata": {
        "colab": {
          "base_uri": "https://localhost:8080/"
        },
        "id": "WmFhGmH1imKc",
        "outputId": "924acdb9-d5fc-4c37-a3f9-3983003bc555"
      },
      "id": "WmFhGmH1imKc",
      "execution_count": null,
      "outputs": [
        {
          "output_type": "stream",
          "name": "stdout",
          "text": [
            "0.17384121668990066\n",
            "0.44654982014023914\n"
          ]
        }
      ]
    },
    {
      "cell_type": "code",
      "source": [
        "print(recall_score(y_test, labels_pred_multi))\n",
        "print(recall_score(y_test, labels_pred_single))"
      ],
      "metadata": {
        "colab": {
          "base_uri": "https://localhost:8080/"
        },
        "id": "cAzzrLvqimH1",
        "outputId": "7cbba89c-c902-439e-dc05-2b8aeadb7716"
      },
      "id": "cAzzrLvqimH1",
      "execution_count": null,
      "outputs": [
        {
          "output_type": "stream",
          "name": "stdout",
          "text": [
            "0.43478260869565216\n",
            "0.8260869565217391\n"
          ]
        }
      ]
    },
    {
      "cell_type": "code",
      "source": [
        "print(f1_score(y_test, labels_pred_multi))\n",
        "print(f1_score(y_test, labels_pred_single))"
      ],
      "metadata": {
        "colab": {
          "base_uri": "https://localhost:8080/"
        },
        "id": "vSxJb1UMimCG",
        "outputId": "59be9da7-baee-4993-f9e5-2ea157e31727"
      },
      "id": "vSxJb1UMimCG",
      "execution_count": null,
      "outputs": [
        {
          "output_type": "stream",
          "name": "stdout",
          "text": [
            "0.6060606060606061\n",
            "0.6031746031746033\n"
          ]
        }
      ]
    },
    {
      "cell_type": "code",
      "source": [],
      "metadata": {
        "id": "5LbxPNWSil-_"
      },
      "id": "5LbxPNWSil-_",
      "execution_count": null,
      "outputs": []
    },
    {
      "cell_type": "code",
      "source": [],
      "metadata": {
        "id": "iZTAQ2Q1il8Y"
      },
      "id": "iZTAQ2Q1il8Y",
      "execution_count": null,
      "outputs": []
    },
    {
      "cell_type": "code",
      "source": [],
      "metadata": {
        "id": "5UyifGwKil5g"
      },
      "id": "5UyifGwKil5g",
      "execution_count": null,
      "outputs": []
    },
    {
      "cell_type": "code",
      "source": [],
      "metadata": {
        "id": "DFGYUVdcil2Y"
      },
      "id": "DFGYUVdcil2Y",
      "execution_count": null,
      "outputs": []
    },
    {
      "cell_type": "code",
      "source": [],
      "metadata": {
        "id": "XRUinZFsilzh"
      },
      "id": "XRUinZFsilzh",
      "execution_count": null,
      "outputs": []
    },
    {
      "cell_type": "code",
      "source": [],
      "metadata": {
        "id": "D7QynC3jilwp"
      },
      "id": "D7QynC3jilwp",
      "execution_count": null,
      "outputs": []
    },
    {
      "cell_type": "code",
      "source": [],
      "metadata": {
        "id": "ploeJ8LCiluC"
      },
      "id": "ploeJ8LCiluC",
      "execution_count": null,
      "outputs": []
    },
    {
      "cell_type": "code",
      "source": [],
      "metadata": {
        "id": "6k_wZod1ilrL"
      },
      "id": "6k_wZod1ilrL",
      "execution_count": null,
      "outputs": []
    },
    {
      "cell_type": "code",
      "source": [],
      "metadata": {
        "id": "m3ChQX2ViloV"
      },
      "id": "m3ChQX2ViloV",
      "execution_count": null,
      "outputs": []
    },
    {
      "cell_type": "code",
      "source": [],
      "metadata": {
        "id": "P-t-KeoWillt"
      },
      "id": "P-t-KeoWillt",
      "execution_count": null,
      "outputs": []
    },
    {
      "cell_type": "code",
      "source": [],
      "metadata": {
        "id": "KlsrFpDpili2"
      },
      "id": "KlsrFpDpili2",
      "execution_count": null,
      "outputs": []
    },
    {
      "cell_type": "code",
      "source": [],
      "metadata": {
        "id": "glstXQIxilf_"
      },
      "id": "glstXQIxilf_",
      "execution_count": null,
      "outputs": []
    },
    {
      "cell_type": "code",
      "source": [],
      "metadata": {
        "id": "RJLw-dGlildX"
      },
      "id": "RJLw-dGlildX",
      "execution_count": null,
      "outputs": []
    },
    {
      "cell_type": "code",
      "source": [],
      "metadata": {
        "id": "EGSR0Bx0ilaR"
      },
      "id": "EGSR0Bx0ilaR",
      "execution_count": null,
      "outputs": []
    },
    {
      "cell_type": "code",
      "source": [],
      "metadata": {
        "id": "OcdHucdwilSc"
      },
      "id": "OcdHucdwilSc",
      "execution_count": null,
      "outputs": []
    },
    {
      "cell_type": "code",
      "execution_count": null,
      "id": "5fbc7220",
      "metadata": {
        "colab": {
          "base_uri": "https://localhost:8080/",
          "height": 449
        },
        "id": "5fbc7220",
        "outputId": "89507a8b-71d4-4579-cdbf-850ca18ce4e7"
      },
      "outputs": [
        {
          "output_type": "display_data",
          "data": {
            "text/plain": [
              "<Figure size 640x480 with 1 Axes>"
            ],
            "image/png": "[encoded data removed]"
          },
          "metadata": {}
        }
      ],
      "source": [
        "# Visualize label correction with x-axis: class 0 & y_axis: class 1 probabilities\n",
        "sns.scatterplot(x=class_0, y=class_1, hue=y_train)\n",
        "# plt.plot([0,1], [1,0], 'black')\n",
        "plt.xlabel('Class 0 probability')\n",
        "plt.ylabel('Class 1 probability')\n",
        "plt.show()"
      ]
    },
    {
      "cell_type": "code",
      "execution_count": null,
      "id": "1183c5b4",
      "metadata": {
        "colab": {
          "base_uri": "https://localhost:8080/",
          "height": 430
        },
        "id": "1183c5b4",
        "outputId": "5f9c69de-3879-4761-92a2-1e40c9c71c80"
      },
      "outputs": [
        {
          "output_type": "display_data",
          "data": {
            "text/plain": [
              "<Figure size 640x480 with 1 Axes>"
            ],
            "image/png": "[encoded data removed]"
          },
          "metadata": {}
        }
      ],
      "source": [
        "plt.hist(class_0)\n",
        "plt.show()"
      ]
    },
    {
      "cell_type": "code",
      "execution_count": null,
      "id": "839e067e",
      "metadata": {
        "colab": {
          "base_uri": "https://localhost:8080/",
          "height": 430
        },
        "id": "839e067e",
        "outputId": "5610a330-9b2b-4129-a5cc-264fae123b7c"
      },
      "outputs": [
        {
          "output_type": "display_data",
          "data": {
            "text/plain": [
              "<Figure size 640x480 with 1 Axes>"
            ],
            "image/png": "[encoded data removed]"
          },
          "metadata": {}
        }
      ],
      "source": [
        "plt.hist(class_1)\n",
        "plt.show()"
      ]
    },
    {
      "cell_type": "code",
      "execution_count": null,
      "id": "b82209ad",
      "metadata": {
        "id": "b82209ad"
      },
      "outputs": [],
      "source": []
    },
    {
      "cell_type": "code",
      "execution_count": null,
      "id": "c3f41d8e",
      "metadata": {
        "colab": {
          "base_uri": "https://localhost:8080/"
        },
        "id": "c3f41d8e",
        "outputId": "976b29ee-f5d1-4aff-df3f-e02966457d13"
      },
      "outputs": [
        {
          "output_type": "execute_result",
          "data": {
            "text/plain": [
              "0.03110642086218203"
            ]
          },
          "metadata": {},
          "execution_count": 69
        }
      ],
      "source": [
        "\n",
        "get_log_loss_2(y_train, class_0, class_1)"
      ]
    },
    {
      "cell_type": "markdown",
      "source": [
        "### Logistic Regression"
      ],
      "metadata": {
        "id": "bJ2tCTK8QjZA"
      },
      "id": "bJ2tCTK8QjZA"
    },
    {
      "cell_type": "code",
      "source": [
        "def get_log_loss(y_true, prob_pred):\n",
        "    \"\"\"\n",
        "    Calculates log loss for two classes (0 & 1).\n",
        "    Parameters:\n",
        "        y_true: True labels array for the classes.\n",
        "        prob_pred: Predicted probability values for the class.\n",
        "    Returns:\n",
        "        Log loss for the input.\n",
        "    \"\"\"\n",
        "\n",
        "    N_0 = (y_true == 0).sum()\n",
        "    N_1 = (y_true == 1).sum()\n",
        "\n",
        "    y_1 = y_true\n",
        "    y_0 = -1 * (y_true - 1)\n",
        "\n",
        "    p_0 = np.log(1-prob_pred + 0.000001)\n",
        "    p_1 = np.log(prob_pred + 0.000001)\n",
        "\n",
        "\n",
        "    log_loss = ((-1/N_0)*(np.sum(y_0*p_0)) + (-1/N_1)*(np.sum(y_1*p_1)))/2\n",
        "\n",
        "    return log_loss"
      ],
      "metadata": {
        "id": "cird2Lz_VkFK"
      },
      "id": "cird2Lz_VkFK",
      "execution_count": null,
      "outputs": []
    },
    {
      "cell_type": "code",
      "execution_count": null,
      "id": "2c16dafa",
      "metadata": {
        "colab": {
          "base_uri": "https://localhost:8080/"
        },
        "id": "2c16dafa",
        "outputId": "83b721f3-1deb-4297-fbdc-99dbbb3c03bc"
      },
      "outputs": [
        {
          "output_type": "stream",
          "name": "stdout",
          "text": [
            "{'C': 8, 'max_iter': 300, 'penalty': 'l2'}\n",
            "1.144506015116687\n"
          ]
        }
      ],
      "source": [
        "from sklearn.model_selection import GridSearchCV\n",
        "from sklearn.linear_model import LogisticRegression\n",
        "from sklearn.metrics import make_scorer\n",
        "from sklearn.model_selection import cross_val_score\n",
        "from sklearn.model_selection import StratifiedKFold\n",
        "\n",
        "log_loss_score = make_scorer(score_func=get_log_loss, greater_is_better=False, needs_proba=True)\n",
        "# Create a dictionary of hyperparameters to search over\n",
        "params = {'C': [1, 4,5,6,7,8], 'penalty': ['l2'], 'max_iter': [300, 400,500]}\n",
        "\n",
        "# Create a grid search object\n",
        "skf = StratifiedKFold(n_splits=5)\n",
        "lr = LogisticRegression()\n",
        "\n",
        "gs_LR = GridSearchCV(lr, param_grid=params, cv= skf, scoring = log_loss_score)\n",
        "\n",
        "# Fit the grid search object to the training data\n",
        "gs_LR.fit(X_train, y_train)\n",
        "\n",
        "# Print the best parameters found by the grid search\n",
        "\n",
        "print(gs_LR.best_params_)\n",
        "\n",
        "pred = gs_LR.best_estimator_.predict(X_train)\n",
        "\n",
        "log_loss_LR = get_log_loss(y_train, pred)\n",
        "print(log_loss_LR)"
      ]
    },
    {
      "cell_type": "markdown",
      "source": [
        "Utilizing PCA"
      ],
      "metadata": {
        "id": "Hdg3NLo-0Fpq"
      },
      "id": "Hdg3NLo-0Fpq"
    },
    {
      "cell_type": "code",
      "source": [
        "\n",
        "\n",
        "log_loss_score = make_scorer(score_func=get_log_loss, greater_is_better=False, needs_proba=True)\n",
        "# Create a dictionary of hyperparameters to search over\n",
        "params = {'C': [1, 4,5,6,7,8], 'penalty': ['l2'], 'max_iter': [300, 400,500]}\n",
        "\n",
        "# Create a grid search object\n",
        "skf = StratifiedKFold(n_splits=5)\n",
        "lr = LogisticRegression()\n",
        "\n",
        "gs_LR = GridSearchCV(lr, param_grid=params, cv= skf, scoring = log_loss_score)\n",
        "\n",
        "X_train_pca = reduce_dimensions(X_train, num_components=30)\n",
        "\n",
        "# Fit the grid search object to the training data\n",
        "gs_LR.fit(X_train_pca, y_train)\n",
        "\n",
        "# Print the best parameters found by the grid search\n",
        "\n",
        "print(gs_LR.best_params_)\n",
        "\n",
        "pred = gs_LR.best_estimator_.predict(X_train_pca)\n",
        "\n",
        "log_loss_LR = get_log_loss(y_train, pred)\n",
        "print(log_loss_LR)"
      ],
      "metadata": {
        "colab": {
          "base_uri": "https://localhost:8080/"
        },
        "id": "EvY-3RSNzykP",
        "outputId": "8e15b288-849d-44ac-a42b-14db87e907ea"
      },
      "id": "EvY-3RSNzykP",
      "execution_count": null,
      "outputs": [
        {
          "output_type": "stream",
          "name": "stdout",
          "text": [
            "{'C': 8, 'max_iter': 300, 'penalty': 'l2'}\n",
            "1.5968803293918596\n"
          ]
        }
      ]
    },
    {
      "cell_type": "code",
      "source": [
        "def reduce_dimensions(df, num_components=30):\n",
        "\n",
        "    pca = PCA(n_components=num_components)\n",
        "    new_cols = [f'component_{i+1}' for i in range(num_components)]\n",
        "\n",
        "    X = pca.fit_transform(df)\n",
        "\n",
        "    return pd.DataFrame(X, columns=new_cols)"
      ],
      "metadata": {
        "id": "8HEkwZF-zxQZ"
      },
      "id": "8HEkwZF-zxQZ",
      "execution_count": null,
      "outputs": []
    },
    {
      "cell_type": "markdown",
      "source": [
        "### KNN"
      ],
      "metadata": {
        "id": "hTivgon-X2Lq"
      },
      "id": "hTivgon-X2Lq"
    },
    {
      "cell_type": "code",
      "source": [
        "def get_log_loss_2(y_true, class_0, class_1):\n",
        "    \"\"\"\n",
        "    Calculates log loss for two classes (0 & 1).\n",
        "    Parameters:\n",
        "        y_true: True labels array for the classes.\n",
        "        prob_pred: Predicted probability values for the class.\n",
        "    Returns:\n",
        "        Log loss for the input.\n",
        "    \"\"\"\n",
        "\n",
        "    N_0 = (y_true == 0).sum()\n",
        "    N_1 = (y_true == 1).sum()\n",
        "\n",
        "    y_1 = y_true\n",
        "    y_0 = -1 * (y_true - 1)\n",
        "\n",
        "    p_0 = np.log(class_0 + 0.000001)\n",
        "    p_1 = np.log(class_1 + 0.000001)\n",
        "\n",
        "\n",
        "    log_loss = ((-1/N_0)*(np.sum(y_0*p_0)) + (-1/N_1)*(np.sum(y_1*p_1)))/2\n",
        "\n",
        "    return log_loss"
      ],
      "metadata": {
        "id": "WPn1i42LbYY0"
      },
      "id": "WPn1i42LbYY0",
      "execution_count": null,
      "outputs": []
    },
    {
      "cell_type": "code",
      "source": [
        "from sklearn.neighbors import KNeighborsClassifier\n",
        "\n",
        "log_loss_score = make_scorer(score_func=get_log_loss, greater_is_better=False, needs_proba=True)\n",
        "# Create a dictionary of hyperparameters to search over\n",
        "k = list(range(1, 25))\n",
        "\n",
        "params = {'n_neighbors': k}\n",
        "\n",
        "\n",
        "# Create a grid search object\n",
        "skf = StratifiedKFold(n_splits=5)\n",
        "KNN = KNeighborsClassifier()\n",
        "\n",
        "gs_KNN = GridSearchCV(KNN, param_grid=params, cv= skf, scoring = log_loss_score)\n",
        "\n",
        "# Fit the grid search object to the training data\n",
        "gs_KNN.fit(X_train, y_train)\n",
        "\n",
        "# Print the best parameters found by the grid search\n",
        "\n",
        "print(gs_KNN.best_params_)\n",
        "\n",
        "pred = gs_KNN.best_estimator_.predict_proba(X_train)\n",
        "\n",
        "log_loss_KNN = get_log_loss_2(y_train, pred[:,0], pred[:,1])\n",
        "print(log_loss_KNN)"
      ],
      "metadata": {
        "colab": {
          "base_uri": "https://localhost:8080/"
        },
        "id": "8R-ZcpDhX5KB",
        "outputId": "10733619-80dd-4746-a095-e0463b0e5b96"
      },
      "id": "8R-ZcpDhX5KB",
      "execution_count": null,
      "outputs": [
        {
          "output_type": "stream",
          "name": "stdout",
          "text": [
            "{'n_neighbors': 1}\n",
            "-9.999994999180668e-07\n"
          ]
        }
      ]
    },
    {
      "cell_type": "code",
      "source": [
        "pred[:,0]"
      ],
      "metadata": {
        "colab": {
          "base_uri": "https://localhost:8080/"
        },
        "id": "9DnxMO_jbH0F",
        "outputId": "45ce1567-b556-4094-def5-f51393ac954a"
      },
      "id": "9DnxMO_jbH0F",
      "execution_count": null,
      "outputs": [
        {
          "output_type": "execute_result",
          "data": {
            "text/plain": [
              "array([1., 0., 1., ..., 1., 0., 1.])"
            ]
          },
          "metadata": {},
          "execution_count": 78
        }
      ]
    },
    {
      "cell_type": "markdown",
      "source": [
        "### Naive Bayes"
      ],
      "metadata": {
        "id": "2_f6bcbJasjQ"
      },
      "id": "2_f6bcbJasjQ"
    },
    {
      "cell_type": "markdown",
      "source": [
        "#### Naive Bayes - ComplementNB"
      ],
      "metadata": {
        "id": "RK-jl01ncLm4"
      },
      "id": "RK-jl01ncLm4"
    },
    {
      "cell_type": "code",
      "source": [
        "from sklearn.naive_bayes import ComplementNB\n",
        "\n",
        "log_loss_score = make_scorer(score_func=get_log_loss, greater_is_better=False, needs_proba=True)\n",
        "# Create a dictionary of hyperparameters to search over\n",
        "\n",
        "params = {'alpha': [0.01, 0.1, 0.5, 1.0, 2.0],\n",
        "          'fit_prior': [True, False],\n",
        "          'norm': [True, False]\n",
        "         }\n",
        "\n",
        "\n",
        "# Create a grid search object\n",
        "skf = StratifiedKFold(n_splits=5)\n",
        "CNB = ComplementNB()\n",
        "\n",
        "gs_CNB = GridSearchCV(CNB, param_grid=params, cv= skf, scoring = log_loss_score)\n",
        "\n",
        "# Fit the grid search object to the training data\n",
        "gs_CNB.fit(X_train, y_train)\n",
        "\n",
        "# Print the best parameters found by the grid search\n",
        "\n",
        "print(gs_CNB.best_params_)\n",
        "\n",
        "pred = gs_CNB.best_estimator_.predict(X_train)\n",
        "\n",
        "log_loss_CNB = get_log_loss(y_train, pred)\n",
        "print(log_loss_CNB)"
      ],
      "metadata": {
        "colab": {
          "base_uri": "https://localhost:8080/"
        },
        "id": "ngftF0XVaLtZ",
        "outputId": "2b586f2c-f59d-4be9-f241-bc68ff80090a"
      },
      "id": "ngftF0XVaLtZ",
      "execution_count": null,
      "outputs": [
        {
          "output_type": "stream",
          "name": "stdout",
          "text": [
            "{'alpha': 0.01, 'fit_prior': True, 'norm': False}\n",
            "2.4744864990856947\n"
          ]
        }
      ]
    },
    {
      "cell_type": "markdown",
      "source": [
        "Utilizing PCA"
      ],
      "metadata": {
        "id": "jjY8mN-7B4uI"
      },
      "id": "jjY8mN-7B4uI"
    },
    {
      "cell_type": "code",
      "source": [
        "from sklearn.naive_bayes import ComplementNB\n",
        "\n",
        "log_loss_score = make_scorer(score_func=get_log_loss, greater_is_better=False, needs_proba=True)\n",
        "# Create a dictionary of hyperparameters to search over\n",
        "\n",
        "params = {'alpha': [0.01, 0.1, 0.5, 1.0, 2.0],\n",
        "          'fit_prior': [True, False],\n",
        "          'norm': [True, False]\n",
        "         }\n",
        "\n",
        "\n",
        "# Create a grid search object\n",
        "skf = StratifiedKFold(n_splits=5)\n",
        "CNB = ComplementNB()\n",
        "\n",
        "gs_CNB = GridSearchCV(CNB, param_grid=params, cv= skf, scoring = log_loss_score)\n",
        "\n",
        "X_train_pca = reduce_dimensions(X_train, num_components=30)\n",
        "# Fit the grid search object to the training data\n",
        "gs_CNB.fit(X_train_pca, y_train)\n",
        "\n",
        "# Print the best parameters found by the grid search\n",
        "\n",
        "print(gs_CNB.best_params_)\n",
        "\n",
        "pred = gs_CNB.best_estimator_.predict(X_train_pca)\n",
        "\n",
        "log_loss_CNB = get_log_loss(y_train, pred)\n",
        "print(log_loss_CNB)\n",
        "\n",
        "\n",
        "\n",
        "# # Fit the grid search object to the training data\n",
        "# gs_LR.fit(X_train_pca, y_train)\n",
        "\n",
        "# # Print the best parameters found by the grid search\n",
        "\n",
        "# print(gs_LR.best_params_)\n",
        "\n",
        "# pred = gs_LR.best_estimator_.predict(X_train_pca)"
      ],
      "metadata": {
        "colab": {
          "base_uri": "https://localhost:8080/",
          "height": 746
        },
        "id": "uDk6ACDuBOUe",
        "outputId": "7a8b0804-35f2-4a71-d0f1-16faa7cd087b"
      },
      "id": "uDk6ACDuBOUe",
      "execution_count": null,
      "outputs": [
        {
          "output_type": "error",
          "ename": "ValueError",
          "evalue": "ignored",
          "traceback": [
            "\u001b[0;31m---------------------------------------------------------------------------\u001b[0m",
            "\u001b[0;31mValueError\u001b[0m                                Traceback (most recent call last)",
            "\u001b[0;32m<ipython-input-74-c53cbfbb2ebe>\u001b[0m in \u001b[0;36m<cell line: 20>\u001b[0;34m()\u001b[0m\n\u001b[1;32m     18\u001b[0m \u001b[0mX_train_pca\u001b[0m \u001b[0;34m=\u001b[0m \u001b[0mreduce_dimensions\u001b[0m\u001b[0;34m(\u001b[0m\u001b[0mX_train\u001b[0m\u001b[0;34m,\u001b[0m \u001b[0mnum_components\u001b[0m\u001b[0;34m=\u001b[0m\u001b[0;36m30\u001b[0m\u001b[0;34m)\u001b[0m\u001b[0;34m\u001b[0m\u001b[0;34m\u001b[0m\u001b[0m\n\u001b[1;32m     19\u001b[0m \u001b[0;31m# Fit the grid search object to the training data\u001b[0m\u001b[0;34m\u001b[0m\u001b[0;34m\u001b[0m\u001b[0m\n\u001b[0;32m---> 20\u001b[0;31m \u001b[0mgs_CNB\u001b[0m\u001b[0;34m.\u001b[0m\u001b[0mfit\u001b[0m\u001b[0;34m(\u001b[0m\u001b[0mX_train_pca\u001b[0m\u001b[0;34m,\u001b[0m \u001b[0my_train\u001b[0m\u001b[0;34m)\u001b[0m\u001b[0;34m\u001b[0m\u001b[0;34m\u001b[0m\u001b[0m\n\u001b[0m\u001b[1;32m     21\u001b[0m \u001b[0;34m\u001b[0m\u001b[0m\n\u001b[1;32m     22\u001b[0m \u001b[0;31m# Print the best parameters found by the grid search\u001b[0m\u001b[0;34m\u001b[0m\u001b[0;34m\u001b[0m\u001b[0m\n",
            "\u001b[0;32m/usr/local/lib/python3.10/dist-packages/sklearn/model_selection/_search.py\u001b[0m in \u001b[0;36mfit\u001b[0;34m(self, X, y, groups, **fit_params)\u001b[0m\n\u001b[1;32m    872\u001b[0m                 \u001b[0;32mreturn\u001b[0m \u001b[0mresults\u001b[0m\u001b[0;34m\u001b[0m\u001b[0;34m\u001b[0m\u001b[0m\n\u001b[1;32m    873\u001b[0m \u001b[0;34m\u001b[0m\u001b[0m\n\u001b[0;32m--> 874\u001b[0;31m             \u001b[0mself\u001b[0m\u001b[0;34m.\u001b[0m\u001b[0m_run_search\u001b[0m\u001b[0;34m(\u001b[0m\u001b[0mevaluate_candidates\u001b[0m\u001b[0;34m)\u001b[0m\u001b[0;34m\u001b[0m\u001b[0;34m\u001b[0m\u001b[0m\n\u001b[0m\u001b[1;32m    875\u001b[0m \u001b[0;34m\u001b[0m\u001b[0m\n\u001b[1;32m    876\u001b[0m             \u001b[0;31m# multimetric is determined here because in the case of a callable\u001b[0m\u001b[0;34m\u001b[0m\u001b[0;34m\u001b[0m\u001b[0m\n",
            "\u001b[0;32m/usr/local/lib/python3.10/dist-packages/sklearn/model_selection/_search.py\u001b[0m in \u001b[0;36m_run_search\u001b[0;34m(self, evaluate_candidates)\u001b[0m\n\u001b[1;32m   1386\u001b[0m     \u001b[0;32mdef\u001b[0m \u001b[0m_run_search\u001b[0m\u001b[0;34m(\u001b[0m\u001b[0mself\u001b[0m\u001b[0;34m,\u001b[0m \u001b[0mevaluate_candidates\u001b[0m\u001b[0;34m)\u001b[0m\u001b[0;34m:\u001b[0m\u001b[0;34m\u001b[0m\u001b[0;34m\u001b[0m\u001b[0m\n\u001b[1;32m   1387\u001b[0m         \u001b[0;34m\"\"\"Search all candidates in param_grid\"\"\"\u001b[0m\u001b[0;34m\u001b[0m\u001b[0;34m\u001b[0m\u001b[0m\n\u001b[0;32m-> 1388\u001b[0;31m         \u001b[0mevaluate_candidates\u001b[0m\u001b[0;34m(\u001b[0m\u001b[0mParameterGrid\u001b[0m\u001b[0;34m(\u001b[0m\u001b[0mself\u001b[0m\u001b[0;34m.\u001b[0m\u001b[0mparam_grid\u001b[0m\u001b[0;34m)\u001b[0m\u001b[0;34m)\u001b[0m\u001b[0;34m\u001b[0m\u001b[0;34m\u001b[0m\u001b[0m\n\u001b[0m\u001b[1;32m   1389\u001b[0m \u001b[0;34m\u001b[0m\u001b[0m\n\u001b[1;32m   1390\u001b[0m \u001b[0;34m\u001b[0m\u001b[0m\n",
            "\u001b[0;32m/usr/local/lib/python3.10/dist-packages/sklearn/model_selection/_search.py\u001b[0m in \u001b[0;36mevaluate_candidates\u001b[0;34m(candidate_params, cv, more_results)\u001b[0m\n\u001b[1;32m    849\u001b[0m                     )\n\u001b[1;32m    850\u001b[0m \u001b[0;34m\u001b[0m\u001b[0m\n\u001b[0;32m--> 851\u001b[0;31m                 \u001b[0m_warn_or_raise_about_fit_failures\u001b[0m\u001b[0;34m(\u001b[0m\u001b[0mout\u001b[0m\u001b[0;34m,\u001b[0m \u001b[0mself\u001b[0m\u001b[0;34m.\u001b[0m\u001b[0merror_score\u001b[0m\u001b[0;34m)\u001b[0m\u001b[0;34m\u001b[0m\u001b[0;34m\u001b[0m\u001b[0m\n\u001b[0m\u001b[1;32m    852\u001b[0m \u001b[0;34m\u001b[0m\u001b[0m\n\u001b[1;32m    853\u001b[0m                 \u001b[0;31m# For callable self.scoring, the return type is only know after\u001b[0m\u001b[0;34m\u001b[0m\u001b[0;34m\u001b[0m\u001b[0m\n",
            "\u001b[0;32m/usr/local/lib/python3.10/dist-packages/sklearn/model_selection/_validation.py\u001b[0m in \u001b[0;36m_warn_or_raise_about_fit_failures\u001b[0;34m(results, error_score)\u001b[0m\n\u001b[1;32m    365\u001b[0m                 \u001b[0;34mf\"Below are more details about the failures:\\n{fit_errors_summary}\"\u001b[0m\u001b[0;34m\u001b[0m\u001b[0;34m\u001b[0m\u001b[0m\n\u001b[1;32m    366\u001b[0m             )\n\u001b[0;32m--> 367\u001b[0;31m             \u001b[0;32mraise\u001b[0m \u001b[0mValueError\u001b[0m\u001b[0;34m(\u001b[0m\u001b[0mall_fits_failed_message\u001b[0m\u001b[0;34m)\u001b[0m\u001b[0;34m\u001b[0m\u001b[0;34m\u001b[0m\u001b[0m\n\u001b[0m\u001b[1;32m    368\u001b[0m \u001b[0;34m\u001b[0m\u001b[0m\n\u001b[1;32m    369\u001b[0m         \u001b[0;32melse\u001b[0m\u001b[0;34m:\u001b[0m\u001b[0;34m\u001b[0m\u001b[0;34m\u001b[0m\u001b[0m\n",
            "\u001b[0;31mValueError\u001b[0m: \nAll the 100 fits failed.\nIt is very likely that your model is misconfigured.\nYou can try to debug the error by setting error_score='raise'.\n\nBelow are more details about the failures:\n--------------------------------------------------------------------------------\n100 fits failed with the following error:\nTraceback (most recent call last):\n  File \"/usr/local/lib/python3.10/dist-packages/sklearn/model_selection/_validation.py\", line 686, in _fit_and_score\n    estimator.fit(X_train, y_train, **fit_params)\n  File \"/usr/local/lib/python3.10/dist-packages/sklearn/naive_bayes.py\", line 776, in fit\n    self._count(X, Y)\n  File \"/usr/local/lib/python3.10/dist-packages/sklearn/naive_bayes.py\", line 1044, in _count\n    check_non_negative(X, \"ComplementNB (input X)\")\n  File \"/usr/local/lib/python3.10/dist-packages/sklearn/utils/validation.py\", line 1418, in check_non_negative\n    raise ValueError(\"Negative values in data passed to %s\" % whom)\nValueError: Negative values in data passed to ComplementNB (input X)\n"
          ]
        }
      ]
    },
    {
      "cell_type": "code",
      "source": [
        "X_train_pca[0:10]"
      ],
      "metadata": {
        "colab": {
          "base_uri": "https://localhost:8080/",
          "height": 456
        },
        "id": "8X-Q3kaJCSxZ",
        "outputId": "02ce3136-e263-4b89-95c2-b15e19df82c9"
      },
      "id": "8X-Q3kaJCSxZ",
      "execution_count": null,
      "outputs": [
        {
          "output_type": "execute_result",
          "data": {
            "text/plain": [
              "   component_1  component_2  component_3  component_4  component_5  \\\n",
              "0    -0.730162    -0.297878     0.194829     0.438913    -0.049498   \n",
              "1    -0.645974    -0.062439    -0.402970     0.175626     0.030121   \n",
              "2    -0.639215     0.219080    -0.275319    -0.181595    -0.212217   \n",
              "3    -0.637428     0.051543    -0.478832     0.177405    -0.148537   \n",
              "4    -0.707697    -0.403937     0.000421    -0.096807    -0.019935   \n",
              "5    -0.723644    -0.429592     0.092479     0.051921    -0.031737   \n",
              "6     1.049863    -0.044018    -0.022812    -0.145931    -0.103052   \n",
              "7     1.083896     0.093838    -0.230715     0.205059     0.263785   \n",
              "8    -0.701840    -0.240834    -0.001750     0.211647     0.137107   \n",
              "9     1.085397    -0.051121    -0.205519    -0.234747    -0.146793   \n",
              "\n",
              "   component_6  component_7  component_8  component_9  component_10  ...  \\\n",
              "0    -0.040567    -0.100280    -0.025130    -0.099282     -0.056329  ...   \n",
              "1     0.087155     0.186831     0.032379     0.113067     -0.002836  ...   \n",
              "2     0.034761    -0.168754    -0.076573     0.026233     -0.050981  ...   \n",
              "3    -0.154539     0.145437     0.092628     0.030575      0.121041  ...   \n",
              "4    -0.061427    -0.136893    -0.066642     0.033759      0.039540  ...   \n",
              "5    -0.018536    -0.006058    -0.048762    -0.044532     -0.022828  ...   \n",
              "6    -0.073594     0.001009    -0.032493     0.132000      0.035534  ...   \n",
              "7    -0.066811     0.063177     0.101412     0.055808     -0.041367  ...   \n",
              "8     0.128246     0.185207     0.089004    -0.012526     -0.225847  ...   \n",
              "9    -0.028349     0.047082     0.078561     0.040044     -0.066764  ...   \n",
              "\n",
              "   component_21  component_22  component_23  component_24  component_25  \\\n",
              "0      0.050024      0.052023      0.041186     -0.035373      0.027794   \n",
              "1     -0.003627     -0.034647     -0.040924     -0.037369      0.041085   \n",
              "2     -0.061823      0.027249      0.124836     -0.074832     -0.037459   \n",
              "3      0.048603      0.049802      0.015226     -0.032955      0.065268   \n",
              "4      0.009555      0.030960     -0.045215     -0.048231     -0.006008   \n",
              "5      0.066101     -0.074615      0.037898      0.002370     -0.012491   \n",
              "6      0.052585      0.031869     -0.046061      0.004410     -0.038172   \n",
              "7      0.004757      0.015483      0.044182      0.004927      0.047810   \n",
              "8      0.082097     -0.113939     -0.019157     -0.009526     -0.057940   \n",
              "9      0.020479     -0.048993     -0.012639     -0.018962      0.018680   \n",
              "\n",
              "   component_26  component_27  component_28  component_29  component_30  \n",
              "0      0.033600     -0.001825     -0.039545      0.018631      0.014605  \n",
              "1     -0.054147     -0.065107     -0.034737      0.018442      0.021422  \n",
              "2      0.001432      0.005996      0.042549     -0.001784      0.000324  \n",
              "3      0.021905      0.043303     -0.001059     -0.002501     -0.018732  \n",
              "4     -0.009968     -0.043508     -0.012765      0.020085     -0.024026  \n",
              "5     -0.040768     -0.003243     -0.056953     -0.035495     -0.003777  \n",
              "6      0.096233     -0.029886      0.020858      0.042549     -0.056326  \n",
              "7      0.125873      0.010216      0.006697      0.063193     -0.002153  \n",
              "8     -0.064096     -0.104012     -0.033760      0.002323      0.035309  \n",
              "9      0.020177     -0.006836     -0.020013     -0.032547      0.033506  \n",
              "\n",
              "[10 rows x 30 columns]"
            ],
            "text/html": [
              "\n",
              "  <div id=\"df-3e777731-8c15-44f6-be6f-769702e49be8\">\n",
              "    <div class=\"colab-df-container\">\n",
              "      <div>\n",
              "<style scoped>\n",
              "    .dataframe tbody tr th:only-of-type {\n",
              "        vertical-align: middle;\n",
              "    }\n",
              "\n",
              "    .dataframe tbody tr th {\n",
              "        vertical-align: top;\n",
              "    }\n",
              "\n",
              "    .dataframe thead th {\n",
              "        text-align: right;\n",
              "    }\n",
              "</style>\n",
              "<table border=\"1\" class=\"dataframe\">\n",
              "  <thead>\n",
              "    <tr style=\"text-align: right;\">\n",
              "      <th></th>\n",
              "      <th>component_1</th>\n",
              "      <th>component_2</th>\n",
              "      <th>component_3</th>\n",
              "      <th>component_4</th>\n",
              "      <th>component_5</th>\n",
              "      <th>component_6</th>\n",
              "      <th>component_7</th>\n",
              "      <th>component_8</th>\n",
              "      <th>component_9</th>\n",
              "      <th>component_10</th>\n",
              "      <th>...</th>\n",
              "      <th>component_21</th>\n",
              "      <th>component_22</th>\n",
              "      <th>component_23</th>\n",
              "      <th>component_24</th>\n",
              "      <th>component_25</th>\n",
              "      <th>component_26</th>\n",
              "      <th>component_27</th>\n",
              "      <th>component_28</th>\n",
              "      <th>component_29</th>\n",
              "      <th>component_30</th>\n",
              "    </tr>\n",
              "  </thead>\n",
              "  <tbody>\n",
              "    <tr>\n",
              "      <th>0</th>\n",
              "      <td>-0.730162</td>\n",
              "      <td>-0.297878</td>\n",
              "      <td>0.194829</td>\n",
              "      <td>0.438913</td>\n",
              "      <td>-0.049498</td>\n",
              "      <td>-0.040567</td>\n",
              "      <td>-0.100280</td>\n",
              "      <td>-0.025130</td>\n",
              "      <td>-0.099282</td>\n",
              "      <td>-0.056329</td>\n",
              "      <td>...</td>\n",
              "      <td>0.050024</td>\n",
              "      <td>0.052023</td>\n",
              "      <td>0.041186</td>\n",
              "      <td>-0.035373</td>\n",
              "      <td>0.027794</td>\n",
              "      <td>0.033600</td>\n",
              "      <td>-0.001825</td>\n",
              "      <td>-0.039545</td>\n",
              "      <td>0.018631</td>\n",
              "      <td>0.014605</td>\n",
              "    </tr>\n",
              "    <tr>\n",
              "      <th>1</th>\n",
              "      <td>-0.645974</td>\n",
              "      <td>-0.062439</td>\n",
              "      <td>-0.402970</td>\n",
              "      <td>0.175626</td>\n",
              "      <td>0.030121</td>\n",
              "      <td>0.087155</td>\n",
              "      <td>0.186831</td>\n",
              "      <td>0.032379</td>\n",
              "      <td>0.113067</td>\n",
              "      <td>-0.002836</td>\n",
              "      <td>...</td>\n",
              "      <td>-0.003627</td>\n",
              "      <td>-0.034647</td>\n",
              "      <td>-0.040924</td>\n",
              "      <td>-0.037369</td>\n",
              "      <td>0.041085</td>\n",
              "      <td>-0.054147</td>\n",
              "      <td>-0.065107</td>\n",
              "      <td>-0.034737</td>\n",
              "      <td>0.018442</td>\n",
              "      <td>0.021422</td>\n",
              "    </tr>\n",
              "    <tr>\n",
              "      <th>2</th>\n",
              "      <td>-0.639215</td>\n",
              "      <td>0.219080</td>\n",
              "      <td>-0.275319</td>\n",
              "      <td>-0.181595</td>\n",
              "      <td>-0.212217</td>\n",
              "      <td>0.034761</td>\n",
              "      <td>-0.168754</td>\n",
              "      <td>-0.076573</td>\n",
              "      <td>0.026233</td>\n",
              "      <td>-0.050981</td>\n",
              "      <td>...</td>\n",
              "      <td>-0.061823</td>\n",
              "      <td>0.027249</td>\n",
              "      <td>0.124836</td>\n",
              "      <td>-0.074832</td>\n",
              "      <td>-0.037459</td>\n",
              "      <td>0.001432</td>\n",
              "      <td>0.005996</td>\n",
              "      <td>0.042549</td>\n",
              "      <td>-0.001784</td>\n",
              "      <td>0.000324</td>\n",
              "    </tr>\n",
              "    <tr>\n",
              "      <th>3</th>\n",
              "      <td>-0.637428</td>\n",
              "      <td>0.051543</td>\n",
              "      <td>-0.478832</td>\n",
              "      <td>0.177405</td>\n",
              "      <td>-0.148537</td>\n",
              "      <td>-0.154539</td>\n",
              "      <td>0.145437</td>\n",
              "      <td>0.092628</td>\n",
              "      <td>0.030575</td>\n",
              "      <td>0.121041</td>\n",
              "      <td>...</td>\n",
              "      <td>0.048603</td>\n",
              "      <td>0.049802</td>\n",
              "      <td>0.015226</td>\n",
              "      <td>-0.032955</td>\n",
              "      <td>0.065268</td>\n",
              "      <td>0.021905</td>\n",
              "      <td>0.043303</td>\n",
              "      <td>-0.001059</td>\n",
              "      <td>-0.002501</td>\n",
              "      <td>-0.018732</td>\n",
              "    </tr>\n",
              "    <tr>\n",
              "      <th>4</th>\n",
              "      <td>-0.707697</td>\n",
              "      <td>-0.403937</td>\n",
              "      <td>0.000421</td>\n",
              "      <td>-0.096807</td>\n",
              "      <td>-0.019935</td>\n",
              "      <td>-0.061427</td>\n",
              "      <td>-0.136893</td>\n",
              "      <td>-0.066642</td>\n",
              "      <td>0.033759</td>\n",
              "      <td>0.039540</td>\n",
              "      <td>...</td>\n",
              "      <td>0.009555</td>\n",
              "      <td>0.030960</td>\n",
              "      <td>-0.045215</td>\n",
              "      <td>-0.048231</td>\n",
              "      <td>-0.006008</td>\n",
              "      <td>-0.009968</td>\n",
              "      <td>-0.043508</td>\n",
              "      <td>-0.012765</td>\n",
              "      <td>0.020085</td>\n",
              "      <td>-0.024026</td>\n",
              "    </tr>\n",
              "    <tr>\n",
              "      <th>5</th>\n",
              "      <td>-0.723644</td>\n",
              "      <td>-0.429592</td>\n",
              "      <td>0.092479</td>\n",
              "      <td>0.051921</td>\n",
              "      <td>-0.031737</td>\n",
              "      <td>-0.018536</td>\n",
              "      <td>-0.006058</td>\n",
              "      <td>-0.048762</td>\n",
              "      <td>-0.044532</td>\n",
              "      <td>-0.022828</td>\n",
              "      <td>...</td>\n",
              "      <td>0.066101</td>\n",
              "      <td>-0.074615</td>\n",
              "      <td>0.037898</td>\n",
              "      <td>0.002370</td>\n",
              "      <td>-0.012491</td>\n",
              "      <td>-0.040768</td>\n",
              "      <td>-0.003243</td>\n",
              "      <td>-0.056953</td>\n",
              "      <td>-0.035495</td>\n",
              "      <td>-0.003777</td>\n",
              "    </tr>\n",
              "    <tr>\n",
              "      <th>6</th>\n",
              "      <td>1.049863</td>\n",
              "      <td>-0.044018</td>\n",
              "      <td>-0.022812</td>\n",
              "      <td>-0.145931</td>\n",
              "      <td>-0.103052</td>\n",
              "      <td>-0.073594</td>\n",
              "      <td>0.001009</td>\n",
              "      <td>-0.032493</td>\n",
              "      <td>0.132000</td>\n",
              "      <td>0.035534</td>\n",
              "      <td>...</td>\n",
              "      <td>0.052585</td>\n",
              "      <td>0.031869</td>\n",
              "      <td>-0.046061</td>\n",
              "      <td>0.004410</td>\n",
              "      <td>-0.038172</td>\n",
              "      <td>0.096233</td>\n",
              "      <td>-0.029886</td>\n",
              "      <td>0.020858</td>\n",
              "      <td>0.042549</td>\n",
              "      <td>-0.056326</td>\n",
              "    </tr>\n",
              "    <tr>\n",
              "      <th>7</th>\n",
              "      <td>1.083896</td>\n",
              "      <td>0.093838</td>\n",
              "      <td>-0.230715</td>\n",
              "      <td>0.205059</td>\n",
              "      <td>0.263785</td>\n",
              "      <td>-0.066811</td>\n",
              "      <td>0.063177</td>\n",
              "      <td>0.101412</td>\n",
              "      <td>0.055808</td>\n",
              "      <td>-0.041367</td>\n",
              "      <td>...</td>\n",
              "      <td>0.004757</td>\n",
              "      <td>0.015483</td>\n",
              "      <td>0.044182</td>\n",
              "      <td>0.004927</td>\n",
              "      <td>0.047810</td>\n",
              "      <td>0.125873</td>\n",
              "      <td>0.010216</td>\n",
              "      <td>0.006697</td>\n",
              "      <td>0.063193</td>\n",
              "      <td>-0.002153</td>\n",
              "    </tr>\n",
              "    <tr>\n",
              "      <th>8</th>\n",
              "      <td>-0.701840</td>\n",
              "      <td>-0.240834</td>\n",
              "      <td>-0.001750</td>\n",
              "      <td>0.211647</td>\n",
              "      <td>0.137107</td>\n",
              "      <td>0.128246</td>\n",
              "      <td>0.185207</td>\n",
              "      <td>0.089004</td>\n",
              "      <td>-0.012526</td>\n",
              "      <td>-0.225847</td>\n",
              "      <td>...</td>\n",
              "      <td>0.082097</td>\n",
              "      <td>-0.113939</td>\n",
              "      <td>-0.019157</td>\n",
              "      <td>-0.009526</td>\n",
              "      <td>-0.057940</td>\n",
              "      <td>-0.064096</td>\n",
              "      <td>-0.104012</td>\n",
              "      <td>-0.033760</td>\n",
              "      <td>0.002323</td>\n",
              "      <td>0.035309</td>\n",
              "    </tr>\n",
              "    <tr>\n",
              "      <th>9</th>\n",
              "      <td>1.085397</td>\n",
              "      <td>-0.051121</td>\n",
              "      <td>-0.205519</td>\n",
              "      <td>-0.234747</td>\n",
              "      <td>-0.146793</td>\n",
              "      <td>-0.028349</td>\n",
              "      <td>0.047082</td>\n",
              "      <td>0.078561</td>\n",
              "      <td>0.040044</td>\n",
              "      <td>-0.066764</td>\n",
              "      <td>...</td>\n",
              "      <td>0.020479</td>\n",
              "      <td>-0.048993</td>\n",
              "      <td>-0.012639</td>\n",
              "      <td>-0.018962</td>\n",
              "      <td>0.018680</td>\n",
              "      <td>0.020177</td>\n",
              "      <td>-0.006836</td>\n",
              "      <td>-0.020013</td>\n",
              "      <td>-0.032547</td>\n",
              "      <td>0.033506</td>\n",
              "    </tr>\n",
              "  </tbody>\n",
              "</table>\n",
              "<p>10 rows × 30 columns</p>\n",
              "</div>\n",
              "      <button class=\"colab-df-convert\" onclick=\"convertToInteractive('df-3e777731-8c15-44f6-be6f-769702e49be8')\"\n",
              "              title=\"Convert this dataframe to an interactive table.\"\n",
              "              style=\"display:none;\">\n",
              "        \n",
              "  <svg xmlns=\"http://www.w3.org/2000/svg\" height=\"24px\"viewBox=\"0 0 24 24\"\n",
              "       width=\"24px\">\n",
              "    <path d=\"M0 0h24v24H0V0z\" fill=\"none\"/>\n",
              "    <path d=\"M18.56 5.44l.94 2.06.94-2.06 2.06-.94-2.06-.94-.94-2.06-.94 2.06-2.06.94zm-11 1L8.5 8.5l.94-2.06 2.06-.94-2.06-.94L8.5 2.5l-.94 2.06-2.06.94zm10 10l.94 2.06.94-2.06 2.06-.94-2.06-.94-.94-2.06-.94 2.06-2.06.94z\"/><path d=\"M17.41 7.96l-1.37-1.37c-.4-.4-.92-.59-1.43-.59-.52 0-1.04.2-1.43.59L10.3 9.45l-7.72 7.72c-.78.78-.78 2.05 0 2.83L4 21.41c.39.39.9.59 1.41.59.51 0 1.02-.2 1.41-.59l7.78-7.78 2.81-2.81c.8-.78.8-2.07 0-2.86zM5.41 20L4 18.59l7.72-7.72 1.47 1.35L5.41 20z\"/>\n",
              "  </svg>\n",
              "      </button>\n",
              "      \n",
              "  <style>\n",
              "    .colab-df-container {\n",
              "      display:flex;\n",
              "      flex-wrap:wrap;\n",
              "      gap: 12px;\n",
              "    }\n",
              "\n",
              "    .colab-df-convert {\n",
              "      background-color: #E8F0FE;\n",
              "      border: none;\n",
              "      border-radius: 50%;\n",
              "      cursor: pointer;\n",
              "      display: none;\n",
              "      fill: #1967D2;\n",
              "      height: 32px;\n",
              "      padding: 0 0 0 0;\n",
              "      width: 32px;\n",
              "    }\n",
              "\n",
              "    .colab-df-convert:hover {\n",
              "      background-color: #E2EBFA;\n",
              "      box-shadow: 0px 1px 2px rgba(60, 64, 67, 0.3), 0px 1px 3px 1px rgba(60, 64, 67, 0.15);\n",
              "      fill: #174EA6;\n",
              "    }\n",
              "\n",
              "    [theme=dark] .colab-df-convert {\n",
              "      background-color: #3B4455;\n",
              "      fill: #D2E3FC;\n",
              "    }\n",
              "\n",
              "    [theme=dark] .colab-df-convert:hover {\n",
              "      background-color: #434B5C;\n",
              "      box-shadow: 0px 1px 3px 1px rgba(0, 0, 0, 0.15);\n",
              "      filter: drop-shadow(0px 1px 2px rgba(0, 0, 0, 0.3));\n",
              "      fill: #FFFFFF;\n",
              "    }\n",
              "  </style>\n",
              "\n",
              "      <script>\n",
              "        const buttonEl =\n",
              "          document.querySelector('#df-3e777731-8c15-44f6-be6f-769702e49be8 button.colab-df-convert');\n",
              "        buttonEl.style.display =\n",
              "          google.colab.kernel.accessAllowed ? 'block' : 'none';\n",
              "\n",
              "        async function convertToInteractive(key) {\n",
              "          const element = document.querySelector('#df-3e777731-8c15-44f6-be6f-769702e49be8');\n",
              "          const dataTable =\n",
              "            await google.colab.kernel.invokeFunction('convertToInteractive',\n",
              "                                                     [key], {});\n",
              "          if (!dataTable) return;\n",
              "\n",
              "          const docLinkHtml = 'Like what you see? Visit the ' +\n",
              "            '<a target=\"_blank\" href=https://colab.research.google.com/notebooks/data_table.ipynb>data table notebook</a>'\n",
              "            + ' to learn more about interactive tables.';\n",
              "          element.innerHTML = '';\n",
              "          dataTable['output_type'] = 'display_data';\n",
              "          await google.colab.output.renderOutput(dataTable, element);\n",
              "          const docLink = document.createElement('div');\n",
              "          docLink.innerHTML = docLinkHtml;\n",
              "          element.appendChild(docLink);\n",
              "        }\n",
              "      </script>\n",
              "    </div>\n",
              "  </div>\n",
              "  "
            ]
          },
          "metadata": {},
          "execution_count": 75
        }
      ]
    },
    {
      "cell_type": "code",
      "source": [
        "X_train[0:10]"
      ],
      "metadata": {
        "colab": {
          "base_uri": "https://localhost:8080/",
          "height": 456
        },
        "id": "NsmbIio-CVV-",
        "outputId": "6b9b69e0-1eb7-4b71-bb4d-deb9304f94fe"
      },
      "id": "NsmbIio-CVV-",
      "execution_count": null,
      "outputs": [
        {
          "output_type": "execute_result",
          "data": {
            "text/plain": [
              "         AB        AF        AH        AM        AR        AX        AY  \\\n",
              "0  0.102469  0.166836  0.044605  0.047762  0.045482  0.136236  0.002479   \n",
              "1  0.097781  0.193708  0.052770  0.074390  0.045482  0.150694  0.002479   \n",
              "2  0.062076  0.100521  0.044605  0.117552  0.045482  0.122855  0.002845   \n",
              "3  0.028433  0.073595  0.044605  0.028440  0.045482  0.102315  0.002479   \n",
              "4  0.047157  0.169944  0.044605  0.032929  0.045482  0.122454  0.002479   \n",
              "5  0.052508  0.086623  0.044605  0.023957  0.045482  0.089391  0.002843   \n",
              "6  0.052705  0.180865  0.044605  0.020568  0.045482  0.120023  0.002479   \n",
              "7  0.048544  0.133690  0.044605  0.022702  0.045482  0.138426  0.004723   \n",
              "8  0.119279  0.219487  0.082384  0.096768  0.045482  0.136343  0.002479   \n",
              "9  0.025312  0.089050  0.044605  0.015995  0.045482  0.089120  0.002479   \n",
              "\n",
              "         AZ        BC       BD   ...        FR        FS        GB        GE  \\\n",
              "0  0.144157  0.003678  0.081003  ...  0.002123  0.009731  0.154719  0.053537   \n",
              "1  0.317917  0.006386  0.148889  ...  0.000399  0.007558  0.196890  0.068933   \n",
              "2  0.087160  0.001560  0.094276  ...  0.001244  0.013656  0.280432  0.052207   \n",
              "3  0.223480  0.000840  0.059990  ...  0.000399  0.021810  0.096390  0.048493   \n",
              "4  0.231080  0.007274  0.073618  ...  0.000947  0.002159  0.160923  0.048493   \n",
              "5  0.299240  0.000840  0.117196  ...  0.000822  0.021279  0.110946  0.048493   \n",
              "6  0.274175  0.000840  0.093322  ...  0.001263  0.010149  0.180551  0.066070   \n",
              "7  0.338292  0.000840  0.125892  ...  0.001008  0.003455  0.201000  0.259359   \n",
              "8  0.416074  0.000840  0.061303  ...  0.000770  0.005830  0.082346  0.048493   \n",
              "9  0.274094  0.000840  0.145862  ...  0.000399  0.006046  0.096664  0.048493   \n",
              "\n",
              "         GF        GH        GI        GL  EJ_A  EJ_B  \n",
              "0  0.016341  0.330557  0.151931  0.002378   0.0   1.0  \n",
              "1  0.004469  0.395876  0.206263  0.002845   0.0   1.0  \n",
              "2  0.023293  0.423957  0.124872  0.002753   0.0   1.0  \n",
              "3  0.011987  0.270607  0.056634  0.003836   0.0   1.0  \n",
              "4  0.024901  0.241191  0.205335  0.010511   0.0   1.0  \n",
              "5  0.088029  0.380110  0.198765  0.002456   0.0   1.0  \n",
              "6  0.038689  0.270836  0.174173  1.000000   1.0   0.0  \n",
              "7  0.063675  0.357022  0.492662  1.000000   1.0   0.0  \n",
              "8  0.029960  0.716518  0.438705  0.007717   0.0   1.0  \n",
              "9  0.176805  0.505109  0.174476  1.000000   1.0   0.0  \n",
              "\n",
              "[10 rows x 57 columns]"
            ],
            "text/html": [
              "\n",
              "  <div id=\"df-eceb9763-4ef1-473c-950d-d4c70dec20db\">\n",
              "    <div class=\"colab-df-container\">\n",
              "      <div>\n",
              "<style scoped>\n",
              "    .dataframe tbody tr th:only-of-type {\n",
              "        vertical-align: middle;\n",
              "    }\n",
              "\n",
              "    .dataframe tbody tr th {\n",
              "        vertical-align: top;\n",
              "    }\n",
              "\n",
              "    .dataframe thead th {\n",
              "        text-align: right;\n",
              "    }\n",
              "</style>\n",
              "<table border=\"1\" class=\"dataframe\">\n",
              "  <thead>\n",
              "    <tr style=\"text-align: right;\">\n",
              "      <th></th>\n",
              "      <th>AB</th>\n",
              "      <th>AF</th>\n",
              "      <th>AH</th>\n",
              "      <th>AM</th>\n",
              "      <th>AR</th>\n",
              "      <th>AX</th>\n",
              "      <th>AY</th>\n",
              "      <th>AZ</th>\n",
              "      <th>BC</th>\n",
              "      <th>BD</th>\n",
              "      <th>...</th>\n",
              "      <th>FR</th>\n",
              "      <th>FS</th>\n",
              "      <th>GB</th>\n",
              "      <th>GE</th>\n",
              "      <th>GF</th>\n",
              "      <th>GH</th>\n",
              "      <th>GI</th>\n",
              "      <th>GL</th>\n",
              "      <th>EJ_A</th>\n",
              "      <th>EJ_B</th>\n",
              "    </tr>\n",
              "  </thead>\n",
              "  <tbody>\n",
              "    <tr>\n",
              "      <th>0</th>\n",
              "      <td>0.102469</td>\n",
              "      <td>0.166836</td>\n",
              "      <td>0.044605</td>\n",
              "      <td>0.047762</td>\n",
              "      <td>0.045482</td>\n",
              "      <td>0.136236</td>\n",
              "      <td>0.002479</td>\n",
              "      <td>0.144157</td>\n",
              "      <td>0.003678</td>\n",
              "      <td>0.081003</td>\n",
              "      <td>...</td>\n",
              "      <td>0.002123</td>\n",
              "      <td>0.009731</td>\n",
              "      <td>0.154719</td>\n",
              "      <td>0.053537</td>\n",
              "      <td>0.016341</td>\n",
              "      <td>0.330557</td>\n",
              "      <td>0.151931</td>\n",
              "      <td>0.002378</td>\n",
              "      <td>0.0</td>\n",
              "      <td>1.0</td>\n",
              "    </tr>\n",
              "    <tr>\n",
              "      <th>1</th>\n",
              "      <td>0.097781</td>\n",
              "      <td>0.193708</td>\n",
              "      <td>0.052770</td>\n",
              "      <td>0.074390</td>\n",
              "      <td>0.045482</td>\n",
              "      <td>0.150694</td>\n",
              "      <td>0.002479</td>\n",
              "      <td>0.317917</td>\n",
              "      <td>0.006386</td>\n",
              "      <td>0.148889</td>\n",
              "      <td>...</td>\n",
              "      <td>0.000399</td>\n",
              "      <td>0.007558</td>\n",
              "      <td>0.196890</td>\n",
              "      <td>0.068933</td>\n",
              "      <td>0.004469</td>\n",
              "      <td>0.395876</td>\n",
              "      <td>0.206263</td>\n",
              "      <td>0.002845</td>\n",
              "      <td>0.0</td>\n",
              "      <td>1.0</td>\n",
              "    </tr>\n",
              "    <tr>\n",
              "      <th>2</th>\n",
              "      <td>0.062076</td>\n",
              "      <td>0.100521</td>\n",
              "      <td>0.044605</td>\n",
              "      <td>0.117552</td>\n",
              "      <td>0.045482</td>\n",
              "      <td>0.122855</td>\n",
              "      <td>0.002845</td>\n",
              "      <td>0.087160</td>\n",
              "      <td>0.001560</td>\n",
              "      <td>0.094276</td>\n",
              "      <td>...</td>\n",
              "      <td>0.001244</td>\n",
              "      <td>0.013656</td>\n",
              "      <td>0.280432</td>\n",
              "      <td>0.052207</td>\n",
              "      <td>0.023293</td>\n",
              "      <td>0.423957</td>\n",
              "      <td>0.124872</td>\n",
              "      <td>0.002753</td>\n",
              "      <td>0.0</td>\n",
              "      <td>1.0</td>\n",
              "    </tr>\n",
              "    <tr>\n",
              "      <th>3</th>\n",
              "      <td>0.028433</td>\n",
              "      <td>0.073595</td>\n",
              "      <td>0.044605</td>\n",
              "      <td>0.028440</td>\n",
              "      <td>0.045482</td>\n",
              "      <td>0.102315</td>\n",
              "      <td>0.002479</td>\n",
              "      <td>0.223480</td>\n",
              "      <td>0.000840</td>\n",
              "      <td>0.059990</td>\n",
              "      <td>...</td>\n",
              "      <td>0.000399</td>\n",
              "      <td>0.021810</td>\n",
              "      <td>0.096390</td>\n",
              "      <td>0.048493</td>\n",
              "      <td>0.011987</td>\n",
              "      <td>0.270607</td>\n",
              "      <td>0.056634</td>\n",
              "      <td>0.003836</td>\n",
              "      <td>0.0</td>\n",
              "      <td>1.0</td>\n",
              "    </tr>\n",
              "    <tr>\n",
              "      <th>4</th>\n",
              "      <td>0.047157</td>\n",
              "      <td>0.169944</td>\n",
              "      <td>0.044605</td>\n",
              "      <td>0.032929</td>\n",
              "      <td>0.045482</td>\n",
              "      <td>0.122454</td>\n",
              "      <td>0.002479</td>\n",
              "      <td>0.231080</td>\n",
              "      <td>0.007274</td>\n",
              "      <td>0.073618</td>\n",
              "      <td>...</td>\n",
              "      <td>0.000947</td>\n",
              "      <td>0.002159</td>\n",
              "      <td>0.160923</td>\n",
              "      <td>0.048493</td>\n",
              "      <td>0.024901</td>\n",
              "      <td>0.241191</td>\n",
              "      <td>0.205335</td>\n",
              "      <td>0.010511</td>\n",
              "      <td>0.0</td>\n",
              "      <td>1.0</td>\n",
              "    </tr>\n",
              "    <tr>\n",
              "      <th>5</th>\n",
              "      <td>0.052508</td>\n",
              "      <td>0.086623</td>\n",
              "      <td>0.044605</td>\n",
              "      <td>0.023957</td>\n",
              "      <td>0.045482</td>\n",
              "      <td>0.089391</td>\n",
              "      <td>0.002843</td>\n",
              "      <td>0.299240</td>\n",
              "      <td>0.000840</td>\n",
              "      <td>0.117196</td>\n",
              "      <td>...</td>\n",
              "      <td>0.000822</td>\n",
              "      <td>0.021279</td>\n",
              "      <td>0.110946</td>\n",
              "      <td>0.048493</td>\n",
              "      <td>0.088029</td>\n",
              "      <td>0.380110</td>\n",
              "      <td>0.198765</td>\n",
              "      <td>0.002456</td>\n",
              "      <td>0.0</td>\n",
              "      <td>1.0</td>\n",
              "    </tr>\n",
              "    <tr>\n",
              "      <th>6</th>\n",
              "      <td>0.052705</td>\n",
              "      <td>0.180865</td>\n",
              "      <td>0.044605</td>\n",
              "      <td>0.020568</td>\n",
              "      <td>0.045482</td>\n",
              "      <td>0.120023</td>\n",
              "      <td>0.002479</td>\n",
              "      <td>0.274175</td>\n",
              "      <td>0.000840</td>\n",
              "      <td>0.093322</td>\n",
              "      <td>...</td>\n",
              "      <td>0.001263</td>\n",
              "      <td>0.010149</td>\n",
              "      <td>0.180551</td>\n",
              "      <td>0.066070</td>\n",
              "      <td>0.038689</td>\n",
              "      <td>0.270836</td>\n",
              "      <td>0.174173</td>\n",
              "      <td>1.000000</td>\n",
              "      <td>1.0</td>\n",
              "      <td>0.0</td>\n",
              "    </tr>\n",
              "    <tr>\n",
              "      <th>7</th>\n",
              "      <td>0.048544</td>\n",
              "      <td>0.133690</td>\n",
              "      <td>0.044605</td>\n",
              "      <td>0.022702</td>\n",
              "      <td>0.045482</td>\n",
              "      <td>0.138426</td>\n",
              "      <td>0.004723</td>\n",
              "      <td>0.338292</td>\n",
              "      <td>0.000840</td>\n",
              "      <td>0.125892</td>\n",
              "      <td>...</td>\n",
              "      <td>0.001008</td>\n",
              "      <td>0.003455</td>\n",
              "      <td>0.201000</td>\n",
              "      <td>0.259359</td>\n",
              "      <td>0.063675</td>\n",
              "      <td>0.357022</td>\n",
              "      <td>0.492662</td>\n",
              "      <td>1.000000</td>\n",
              "      <td>1.0</td>\n",
              "      <td>0.0</td>\n",
              "    </tr>\n",
              "    <tr>\n",
              "      <th>8</th>\n",
              "      <td>0.119279</td>\n",
              "      <td>0.219487</td>\n",
              "      <td>0.082384</td>\n",
              "      <td>0.096768</td>\n",
              "      <td>0.045482</td>\n",
              "      <td>0.136343</td>\n",
              "      <td>0.002479</td>\n",
              "      <td>0.416074</td>\n",
              "      <td>0.000840</td>\n",
              "      <td>0.061303</td>\n",
              "      <td>...</td>\n",
              "      <td>0.000770</td>\n",
              "      <td>0.005830</td>\n",
              "      <td>0.082346</td>\n",
              "      <td>0.048493</td>\n",
              "      <td>0.029960</td>\n",
              "      <td>0.716518</td>\n",
              "      <td>0.438705</td>\n",
              "      <td>0.007717</td>\n",
              "      <td>0.0</td>\n",
              "      <td>1.0</td>\n",
              "    </tr>\n",
              "    <tr>\n",
              "      <th>9</th>\n",
              "      <td>0.025312</td>\n",
              "      <td>0.089050</td>\n",
              "      <td>0.044605</td>\n",
              "      <td>0.015995</td>\n",
              "      <td>0.045482</td>\n",
              "      <td>0.089120</td>\n",
              "      <td>0.002479</td>\n",
              "      <td>0.274094</td>\n",
              "      <td>0.000840</td>\n",
              "      <td>0.145862</td>\n",
              "      <td>...</td>\n",
              "      <td>0.000399</td>\n",
              "      <td>0.006046</td>\n",
              "      <td>0.096664</td>\n",
              "      <td>0.048493</td>\n",
              "      <td>0.176805</td>\n",
              "      <td>0.505109</td>\n",
              "      <td>0.174476</td>\n",
              "      <td>1.000000</td>\n",
              "      <td>1.0</td>\n",
              "      <td>0.0</td>\n",
              "    </tr>\n",
              "  </tbody>\n",
              "</table>\n",
              "<p>10 rows × 57 columns</p>\n",
              "</div>\n",
              "      <button class=\"colab-df-convert\" onclick=\"convertToInteractive('df-eceb9763-4ef1-473c-950d-d4c70dec20db')\"\n",
              "              title=\"Convert this dataframe to an interactive table.\"\n",
              "              style=\"display:none;\">\n",
              "        \n",
              "  <svg xmlns=\"http://www.w3.org/2000/svg\" height=\"24px\"viewBox=\"0 0 24 24\"\n",
              "       width=\"24px\">\n",
              "    <path d=\"M0 0h24v24H0V0z\" fill=\"none\"/>\n",
              "    <path d=\"M18.56 5.44l.94 2.06.94-2.06 2.06-.94-2.06-.94-.94-2.06-.94 2.06-2.06.94zm-11 1L8.5 8.5l.94-2.06 2.06-.94-2.06-.94L8.5 2.5l-.94 2.06-2.06.94zm10 10l.94 2.06.94-2.06 2.06-.94-2.06-.94-.94-2.06-.94 2.06-2.06.94z\"/><path d=\"M17.41 7.96l-1.37-1.37c-.4-.4-.92-.59-1.43-.59-.52 0-1.04.2-1.43.59L10.3 9.45l-7.72 7.72c-.78.78-.78 2.05 0 2.83L4 21.41c.39.39.9.59 1.41.59.51 0 1.02-.2 1.41-.59l7.78-7.78 2.81-2.81c.8-.78.8-2.07 0-2.86zM5.41 20L4 18.59l7.72-7.72 1.47 1.35L5.41 20z\"/>\n",
              "  </svg>\n",
              "      </button>\n",
              "      \n",
              "  <style>\n",
              "    .colab-df-container {\n",
              "      display:flex;\n",
              "      flex-wrap:wrap;\n",
              "      gap: 12px;\n",
              "    }\n",
              "\n",
              "    .colab-df-convert {\n",
              "      background-color: #E8F0FE;\n",
              "      border: none;\n",
              "      border-radius: 50%;\n",
              "      cursor: pointer;\n",
              "      display: none;\n",
              "      fill: #1967D2;\n",
              "      height: 32px;\n",
              "      padding: 0 0 0 0;\n",
              "      width: 32px;\n",
              "    }\n",
              "\n",
              "    .colab-df-convert:hover {\n",
              "      background-color: #E2EBFA;\n",
              "      box-shadow: 0px 1px 2px rgba(60, 64, 67, 0.3), 0px 1px 3px 1px rgba(60, 64, 67, 0.15);\n",
              "      fill: #174EA6;\n",
              "    }\n",
              "\n",
              "    [theme=dark] .colab-df-convert {\n",
              "      background-color: #3B4455;\n",
              "      fill: #D2E3FC;\n",
              "    }\n",
              "\n",
              "    [theme=dark] .colab-df-convert:hover {\n",
              "      background-color: #434B5C;\n",
              "      box-shadow: 0px 1px 3px 1px rgba(0, 0, 0, 0.15);\n",
              "      filter: drop-shadow(0px 1px 2px rgba(0, 0, 0, 0.3));\n",
              "      fill: #FFFFFF;\n",
              "    }\n",
              "  </style>\n",
              "\n",
              "      <script>\n",
              "        const buttonEl =\n",
              "          document.querySelector('#df-eceb9763-4ef1-473c-950d-d4c70dec20db button.colab-df-convert');\n",
              "        buttonEl.style.display =\n",
              "          google.colab.kernel.accessAllowed ? 'block' : 'none';\n",
              "\n",
              "        async function convertToInteractive(key) {\n",
              "          const element = document.querySelector('#df-eceb9763-4ef1-473c-950d-d4c70dec20db');\n",
              "          const dataTable =\n",
              "            await google.colab.kernel.invokeFunction('convertToInteractive',\n",
              "                                                     [key], {});\n",
              "          if (!dataTable) return;\n",
              "\n",
              "          const docLinkHtml = 'Like what you see? Visit the ' +\n",
              "            '<a target=\"_blank\" href=https://colab.research.google.com/notebooks/data_table.ipynb>data table notebook</a>'\n",
              "            + ' to learn more about interactive tables.';\n",
              "          element.innerHTML = '';\n",
              "          dataTable['output_type'] = 'display_data';\n",
              "          await google.colab.output.renderOutput(dataTable, element);\n",
              "          const docLink = document.createElement('div');\n",
              "          docLink.innerHTML = docLinkHtml;\n",
              "          element.appendChild(docLink);\n",
              "        }\n",
              "      </script>\n",
              "    </div>\n",
              "  </div>\n",
              "  "
            ]
          },
          "metadata": {},
          "execution_count": 76
        }
      ]
    },
    {
      "cell_type": "markdown",
      "source": [],
      "metadata": {
        "id": "aXuV1CW7BEuZ"
      },
      "id": "aXuV1CW7BEuZ"
    },
    {
      "cell_type": "code",
      "source": [],
      "metadata": {
        "id": "TieZ0v8IBDNu"
      },
      "id": "TieZ0v8IBDNu",
      "execution_count": null,
      "outputs": []
    },
    {
      "cell_type": "markdown",
      "source": [
        "#### Naive Bayes - GaussianNB"
      ],
      "metadata": {
        "id": "0aUsnwAScO0q"
      },
      "id": "0aUsnwAScO0q"
    },
    {
      "cell_type": "code",
      "source": [
        "from sklearn.naive_bayes import GaussianNB\n",
        "\n",
        "log_loss_score = make_scorer(score_func=get_log_loss, greater_is_better=False, needs_proba=True)\n",
        "# Create a dictionary of hyperparameters to search over\n",
        "\n",
        "params = {\n",
        "            'var_smoothing': [1, 0.9, 0.8, 0.7, 0.6, 0.5, 0.4, 0.3, 0.2, 0.1, 0.01, 0.001, 0.0001],\n",
        "         }\n",
        "\n",
        "\n",
        "# Create a grid search object\n",
        "skf = StratifiedKFold(n_splits=5)\n",
        "GNB = GaussianNB()\n",
        "\n",
        "gs_GNB = GridSearchCV(GNB, param_grid=params, cv= skf, scoring = log_loss_score)\n",
        "\n",
        "# Fit the grid search object to the training data\n",
        "gs_GNB.fit(X_train, y_train)\n",
        "\n",
        "# Print the best parameters found by the grid search\n",
        "\n",
        "print(gs_GNB.best_params_)\n",
        "\n",
        "pred = gs_GNB.best_estimator_.predict(X_train)\n",
        "\n",
        "log_loss_GNB= get_log_loss(y_train, pred)\n",
        "print(log_loss_GNB)"
      ],
      "metadata": {
        "colab": {
          "base_uri": "https://localhost:8080/"
        },
        "id": "KUyTdfLSddX5",
        "outputId": "078c5214-8ea4-482b-f551-34f9e257e4c4"
      },
      "id": "KUyTdfLSddX5",
      "execution_count": null,
      "outputs": [
        {
          "output_type": "stream",
          "name": "stdout",
          "text": [
            "{'var_smoothing': 0.2}\n",
            "2.949479529074626\n"
          ]
        }
      ]
    },
    {
      "cell_type": "markdown",
      "source": [
        "Utilizing PCA"
      ],
      "metadata": {
        "id": "H5JcMzl6Cs-j"
      },
      "id": "H5JcMzl6Cs-j"
    },
    {
      "cell_type": "code",
      "source": [
        "from sklearn.naive_bayes import GaussianNB\n",
        "\n",
        "log_loss_score = make_scorer(score_func=get_log_loss, greater_is_better=False, needs_proba=True)\n",
        "# Create a dictionary of hyperparameters to search over\n",
        "\n",
        "params = {\n",
        "            'var_smoothing': [1, 0.9, 0.8, 0.7, 0.6, 0.5, 0.4, 0.3, 0.2, 0.1, 0.01, 0.001, 0.0001],\n",
        "         }\n",
        "\n",
        "\n",
        "# Create a grid search object\n",
        "skf = StratifiedKFold(n_splits=5)\n",
        "GNB = GaussianNB()\n",
        "\n",
        "X_train_pca = reduce_dimensions(X_train, num_components=30)\n",
        "\n",
        "gs_GNB = GridSearchCV(GNB, param_grid=params, cv= skf, scoring = log_loss_score)\n",
        "\n",
        "# Fit the grid search object to the training data\n",
        "gs_GNB.fit(X_train_pca, y_train)\n",
        "\n",
        "# Print the best parameters found by the grid search\n",
        "\n",
        "print(gs_GNB.best_params_)\n",
        "\n",
        "pred = gs_GNB.best_estimator_.predict(X_train_pca)\n",
        "\n",
        "log_loss_GNB= get_log_loss(y_train, pred)\n",
        "print(log_loss_GNB)"
      ],
      "metadata": {
        "colab": {
          "base_uri": "https://localhost:8080/"
        },
        "id": "aS9pJom8Crh4",
        "outputId": "ff440f13-2240-4675-e4c3-36d2eaf60498"
      },
      "id": "aS9pJom8Crh4",
      "execution_count": null,
      "outputs": [
        {
          "output_type": "stream",
          "name": "stdout",
          "text": [
            "{'var_smoothing': 0.01}\n",
            "1.954256037669246\n"
          ]
        }
      ]
    },
    {
      "cell_type": "code",
      "source": [],
      "metadata": {
        "id": "j9mCNiZFJqBd"
      },
      "id": "j9mCNiZFJqBd",
      "execution_count": null,
      "outputs": []
    }
  ],
  "metadata": {
    "kernelspec": {
      "display_name": "Python 3 (ipykernel)",
      "language": "python",
      "name": "python3"
    },
    "language_info": {
      "codemirror_mode": {
        "name": "ipython",
        "version": 3
      },
      "file_extension": ".py",
      "mimetype": "text/x-python",
      "name": "python",
      "nbconvert_exporter": "python",
      "pygments_lexer": "ipython3",
      "version": "3.9.7"
    },
    "colab": {
      "provenance": [],
      "collapsed_sections": [
        "RK-jl01ncLm4"
      ],
      "toc_visible": true
    }
  },
  "nbformat": 4,
  "nbformat_minor": 5
}